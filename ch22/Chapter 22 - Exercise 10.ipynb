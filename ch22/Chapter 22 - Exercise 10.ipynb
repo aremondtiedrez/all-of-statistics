{
 "cells": [
  {
   "cell_type": "markdown",
   "id": "6b2e0aa6-48fe-4d27-957c-7de71cdaf9c0",
   "metadata": {},
   "source": [
    "Suppose that $X$ has a uniform distribution on the $d$-dimensional cube ${[-1/2, 1/2]}^d$.\n",
    "Let $X_1, \\dots, X_n$ be IID from $X$ and let $R$ be the distance from the origin to the closest of these $X_i$'s.\n",
    "1. Show that the median of $R$ is\n",
    "$$\n",
    "    { \\left(\n",
    "    \\frac{\n",
    "        1 - {\\left( \\frac{1}{2} \\right)}^{1/n}\n",
    "    }{\n",
    "        v_d(1)\n",
    "    }\n",
    "    \\right) }^{1/d}\n",
    "$$\n",
    "where\n",
    "$$\n",
    "    v_d(r) = r^d \\frac{\\pi^{d/2}}{\\Gamma \\left( \\frac{d}{2} + 1 \\right) }\n",
    "$$\n",
    "is the volume of a sphere of radius $r$.\n",
    "\\item\n",
    "2. For what dimension $d$ does the median of $R$ exceed the edge of the cube when $n = 100$, $n=1000$, and $n=10000$?\n",
    "(Hastie et al., 2001, pp. 22-27.)\n",
    "\\begin{enumerate}"
   ]
  },
  {
   "cell_type": "code",
   "execution_count": 4,
   "id": "4115c25f-39dd-4cdd-9cf2-7f54b38c987e",
   "metadata": {},
   "outputs": [],
   "source": [
    "from numpy import pi\n",
    "from scipy.special import gamma"
   ]
  },
  {
   "cell_type": "code",
   "execution_count": 27,
   "id": "cf74a84a-d4ab-49dc-b02d-8a8dd77d8788",
   "metadata": {},
   "outputs": [],
   "source": [
    "def main(n=100):\n",
    "    d = 1\n",
    "    \n",
    "    result = []\n",
    "    median = 0\n",
    "    while median < 1/2:\n",
    "        median = (\n",
    "            (\n",
    "                1 - (1/2)**(1/n)\n",
    "            )/(\n",
    "                pi**(1/2)/gamma(d/2 + 1)**(1/d)\n",
    "            )\n",
    "        )**(1/d)\n",
    "        result.append((d, median))\n",
    "        d += 1\n",
    "\n",
    "    return result"
   ]
  },
  {
   "cell_type": "code",
   "execution_count": 42,
   "id": "a5798f49-7c90-41e4-8082-6c98c46c6283",
   "metadata": {},
   "outputs": [
    {
     "name": "stdout",
     "output_type": "stream",
     "text": [
      "----------------------\n",
      "n = 100\n",
      "d = 7, median = 0.476\n",
      "d = 8, median = 0.525\n",
      "----------------------\n",
      "n = 1000\n",
      "d = 10, median = 0.479\n",
      "d = 11, median = 0.513\n",
      "----------------------\n",
      "n = 10000\n",
      "d = 13, median = 0.479\n",
      "d = 14, median = 0.506\n"
     ]
    }
   ],
   "source": [
    "result = main(n=100)\n",
    "print(\"----------------------\")\n",
    "print(\"n = 100\")\n",
    "for d, median in result[-2 : ]:\n",
    "    print(f\"d = {d}, median = {median:.3}\")\n",
    "\n",
    "print(\"----------------------\")\n",
    "print(\"n = 1000\")\n",
    "result = main(n=1000)\n",
    "for d, median in result[-2 : ]:\n",
    "    print(f\"d = {d}, median = {median:.3}\")\n",
    "\n",
    "print(\"----------------------\")\n",
    "print(\"n = 10000\")\n",
    "result = main(n=10000)\n",
    "for d, median in result[-2 : ]:\n",
    "    print(f\"d = {d}, median = {median:.3}\")"
   ]
  },
  {
   "cell_type": "markdown",
   "id": "52395a15-f1a1-49a4-8ec6-316c5458f21c",
   "metadata": {},
   "source": [
    "# Summary of results\n",
    "We have found that the smallest dimension $d$ for which $\\text{median}\\,(R) > 1/2$ is the following when $n = 100$, $1000$, and $10000$.\n",
    "- When $n=100$ the smallest such dimension is $d = 8$.\n",
    "- When $n=1000$ the smallest such dimension is $d = 11$.\n",
    "- When $n=10000$ the smallest such dimension is $d = 14$."
   ]
  }
 ],
 "metadata": {
  "kernelspec": {
   "display_name": "Python 3 (ipykernel)",
   "language": "python",
   "name": "python3"
  },
  "language_info": {
   "codemirror_mode": {
    "name": "ipython",
    "version": 3
   },
   "file_extension": ".py",
   "mimetype": "text/x-python",
   "name": "python",
   "nbconvert_exporter": "python",
   "pygments_lexer": "ipython3",
   "version": "3.12.3"
  }
 },
 "nbformat": 4,
 "nbformat_minor": 5
}
