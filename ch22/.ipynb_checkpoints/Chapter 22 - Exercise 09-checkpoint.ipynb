{
 "cells": [
  {
   "cell_type": "markdown",
   "id": "00780f5d-73a8-418c-bf06-c2ffd6d169af",
   "metadata": {},
   "source": [
    "Apply the $k$ nearest neighbors classifier to the ''iris data.''\n",
    "Choose $k$ by cross-validation.\n",
    "\n",
    "The data may be found at\n",
    "https://archive.ics.uci.edu/dataset/53/iris"
   ]
  },
  {
   "cell_type": "code",
   "execution_count": 82,
   "id": "01e60986-ca1b-41aa-91ef-39c3dd2d0f03",
   "metadata": {},
   "outputs": [],
   "source": [
    "import pandas as pd\n",
    "\n",
    "from sklearn.metrics import zero_one_loss\n",
    "from sklearn.model_selection import cross_val_score, GridSearchCV, StratifiedKFold\n",
    "from sklearn.neighbors import KNeighborsClassifier"
   ]
  },
  {
   "cell_type": "markdown",
   "id": "0888ef8f-5f20-44e2-b0ae-fae0cbd8a16b",
   "metadata": {},
   "source": [
    "# Download the iris data set"
   ]
  },
  {
   "cell_type": "code",
   "execution_count": 88,
   "id": "9f59cad1-ec08-47d9-a5cf-9c28805a30a7",
   "metadata": {},
   "outputs": [],
   "source": [
    "# Read the data into a pandas data frame\n",
    "df = pd.read_csv('../data/iris.dat')\n",
    "\n",
    "Y = df['class'].to_numpy()\n",
    "X = df[['sepal_length', 'sepal_width', 'petal_length', 'petal_width']].to_numpy()"
   ]
  },
  {
   "cell_type": "markdown",
   "id": "b4c40ce7-52c3-4d61-a35a-d0602d3e6c80",
   "metadata": {},
   "source": [
    "# Conduct the hyperparameter search"
   ]
  },
  {
   "cell_type": "code",
   "execution_count": 96,
   "id": "b19c5d1d-86b2-463d-91cc-285b66eb5fec",
   "metadata": {},
   "outputs": [
    {
     "name": "stdout",
     "output_type": "stream",
     "text": [
      "Here are the cross-validation estimates of one minus the true error rate for each parameter:\n",
      "    param_n_neighbors  mean_test_score  std_test_score\n",
      "14                 15         0.979464        0.048993\n",
      "20                 21         0.979464        0.048993\n",
      "18                 19         0.979464        0.048993\n",
      "19                 20         0.979464        0.048993\n",
      "17                 18         0.973214        0.053720\n",
      "10                 11         0.973214        0.053720\n",
      "9                  10         0.973214        0.053720\n",
      "12                 13         0.973214        0.053720\n",
      "23                 24         0.973214        0.053720\n",
      "24                 25         0.973214        0.053720\n",
      "16                 17         0.973214        0.053720\n",
      "6                   7         0.972321        0.055465\n",
      "15                 16         0.966964        0.057386\n",
      "3                   4         0.966964        0.057386\n",
      "11                 12         0.966964        0.057386\n",
      "13                 14         0.966964        0.057386\n",
      "21                 22         0.966964        0.057386\n",
      "22                 23         0.966071        0.058929\n",
      "5                   6         0.966071        0.058929\n",
      "7                   8         0.966071        0.058929\n",
      "8                   9         0.966071        0.058929\n",
      "25                 26         0.960714        0.060187\n",
      "26                 27         0.960714        0.060187\n",
      "2                   3         0.959821        0.061568\n",
      "0                   1         0.959821        0.061568\n",
      "4                   5         0.958929        0.062907\n",
      "27                 28         0.954464        0.062238\n",
      "28                 29         0.953571        0.063487\n",
      "1                   2         0.946429        0.065854\n",
      "\n",
      "The best parameter among these is k = 15\n",
      "Its cross-validation estimate of the true error rate is 0.0205\n"
     ]
    }
   ],
   "source": [
    "param_grid = [{\n",
    "    'n_neighbors': range(1, 30)\n",
    "}]\n",
    "# The data is ordered by class, so it seems important to shuffle the data\n",
    "# when performing the cross validation\n",
    "grid_search = GridSearchCV(model, param_grid, cv=StratifiedKFold(n_splits=20, shuffle=True))\n",
    "grid_search.fit(X, Y)\n",
    "\n",
    "cv_results = pd.DataFrame(grid_search.cv_results_)\n",
    "print(\"Here are the cross-validation estimates of one minus the true error rate for each parameter:\")\n",
    "print(\n",
    "    cv_results.sort_values(by=\"rank_test_score\")\n",
    "    [[\"param_n_neighbors\",\"mean_test_score\", \"std_test_score\"]])\n",
    "print(\n",
    "    \"\\nThe best parameter among these is \"\n",
    "    f\"k = {grid_search.best_params_['n_neighbors']}\\n\"\n",
    "    \"Its cross-validation estimate of the true error rate is \"\n",
    "    f\"{1 - grid_search.best_score_:.3}\"\n",
    ")\n",
    "best_model = grid_search.best_estimator_"
   ]
  },
  {
   "cell_type": "markdown",
   "id": "01409de9-2153-4b2c-b9b5-d6935d384a91",
   "metadata": {},
   "source": [
    "# Bonus: working on the spam data"
   ]
  },
  {
   "cell_type": "code",
   "execution_count": 98,
   "id": "8abe9c24-6ca9-48f1-a9c6-9f4335c26560",
   "metadata": {},
   "outputs": [],
   "source": [
    "# Read the data into a pandas data frame\n",
    "df = pd.read_csv('../data/spam.dat', sep=' ', header=None)\n",
    "\n",
    "# Extract the response variable Y from the data frame\n",
    "# and convert it to a numpy array\n",
    "Y = df[df.columns[-1]].to_numpy()\n",
    "\n",
    "# Extract all 57 covariates into a numpy array X\n",
    "X = df[df.columns[:-1]].to_numpy()"
   ]
  },
  {
   "cell_type": "code",
   "execution_count": 99,
   "id": "f4389cf4-4343-480a-a431-e089ab0704ec",
   "metadata": {},
   "outputs": [
    {
     "name": "stdout",
     "output_type": "stream",
     "text": [
      "Here are the cross-validation estimates of one minus the true error rate for each parameter:\n",
      "    param_n_neighbors  mean_test_score  std_test_score\n",
      "0                   1         0.829596        0.020874\n",
      "2                   3         0.813722        0.027466\n",
      "4                   5         0.810901        0.022634\n",
      "3                   4         0.806121        0.019432\n",
      "1                   2         0.805256        0.019066\n",
      "6                   7         0.802646        0.019412\n",
      "5                   6         0.797431        0.021444\n",
      "7                   8         0.796126        0.023607\n",
      "9                  10         0.795907        0.024390\n",
      "10                 11         0.793518        0.024538\n",
      "8                   9         0.793086        0.022714\n",
      "11                 12         0.791347        0.022365\n",
      "12                 13         0.791126        0.026186\n",
      "14                 15         0.789827        0.027311\n",
      "13                 14         0.787646        0.025531\n",
      "15                 16         0.786784        0.026221\n",
      "16                 17         0.786349        0.024776\n",
      "18                 19         0.780917        0.025924\n",
      "17                 18         0.780262        0.024947\n",
      "19                 20         0.780043        0.025954\n",
      "20                 21         0.779173        0.024585\n",
      "22                 23         0.776782        0.024300\n",
      "23                 24         0.774610        0.024055\n",
      "24                 25         0.774392        0.024553\n",
      "21                 22         0.772436        0.024066\n",
      "26                 27         0.772003        0.023504\n",
      "28                 29         0.770265        0.022285\n",
      "25                 26         0.770262        0.022779\n",
      "27                 28         0.768742        0.024730\n",
      "\n",
      "The best parameter among these is k = 1\n",
      "Its cross-validation estimate of the true error rate is 0.17\n"
     ]
    }
   ],
   "source": [
    "param_grid = [{\n",
    "    'n_neighbors': range(1, 30)\n",
    "}]\n",
    "# The data is ordered by class, so it seems important to shuffle the data\n",
    "# when performing the cross validation\n",
    "grid_search = GridSearchCV(model, param_grid, cv=StratifiedKFold(n_splits=20, shuffle=True))\n",
    "grid_search.fit(X, Y)\n",
    "\n",
    "cv_results = pd.DataFrame(grid_search.cv_results_)\n",
    "print(\"Here are the cross-validation estimates of one minus the true error rate for each parameter:\")\n",
    "print(\n",
    "    cv_results.sort_values(by=\"rank_test_score\")\n",
    "    [[\"param_n_neighbors\",\"mean_test_score\", \"std_test_score\"]])\n",
    "print(\n",
    "    \"\\nThe best parameter among these is \"\n",
    "    f\"k = {grid_search.best_params_['n_neighbors']}\\n\"\n",
    "    \"Its cross-validation estimate of the true error rate is \"\n",
    "    f\"{1 - grid_search.best_score_:.3}\"\n",
    ")\n",
    "best_model = grid_search.best_estimator_"
   ]
  }
 ],
 "metadata": {
  "kernelspec": {
   "display_name": "Python 3 (ipykernel)",
   "language": "python",
   "name": "python3"
  },
  "language_info": {
   "codemirror_mode": {
    "name": "ipython",
    "version": 3
   },
   "file_extension": ".py",
   "mimetype": "text/x-python",
   "name": "python",
   "nbconvert_exporter": "python",
   "pygments_lexer": "ipython3",
   "version": "3.12.3"
  }
 },
 "nbformat": 4,
 "nbformat_minor": 5
}
