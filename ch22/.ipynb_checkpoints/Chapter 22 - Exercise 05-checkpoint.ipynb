{
 "cells": [
  {
   "cell_type": "markdown",
   "id": "76dd14c0-00d0-4bff-96d9-27fbf08c7258",
   "metadata": {},
   "source": [
    "Classify the spam data using support vector machines.\n",
    "\n",
    "(Note to the reader: Wasserman means here using\n",
    "a support vector classifier *without* kernelization)."
   ]
  },
  {
   "cell_type": "code",
   "execution_count": 1,
   "id": "425fb225-fd8c-4e00-87da-d5db9d3d5792",
   "metadata": {},
   "outputs": [],
   "source": [
    "import pandas as pd\n",
    "from sklearn.metrics import zero_one_loss\n",
    "from sklearn.model_selection import cross_val_score\n",
    "from sklearn.svm import LinearSVC"
   ]
  },
  {
   "cell_type": "code",
   "execution_count": 2,
   "id": "8daffc2f-7ac3-47d8-905e-299a7c244ee6",
   "metadata": {},
   "outputs": [],
   "source": [
    "# Read the data into a pandas data frame\n",
    "df = pd.read_csv('../data/spam.dat', sep=' ', header=None)\n",
    "\n",
    "# Extract the response variable Y from the data frame\n",
    "# and convert it to a numpy array\n",
    "Y = df[df.columns[-1]].to_numpy()\n",
    "\n",
    "# Extract all 57 covariates into a numpy array X\n",
    "X = df[df.columns[:-1]].to_numpy()"
   ]
  },
  {
   "cell_type": "code",
   "execution_count": 7,
   "id": "947a9050-5376-4d51-812b-5472e1118799",
   "metadata": {},
   "outputs": [],
   "source": [
    "# Define the model\n",
    "model = LinearSVC()\n",
    "\n",
    "# Fit the model\n",
    "fitted_model = model.fit(X, Y)\n",
    "\n",
    "# Compute the empirical error rate\n",
    "empirical_error_rate = zero_one_loss(Y, fitted_model.predict(X))\n",
    "\n",
    "# Compute a cross-validation estimate of the true error rate\n",
    "true_error_rate_cv_estimate = 1 - cross_val_score(model, X, Y, cv=10).mean()"
   ]
  },
  {
   "cell_type": "code",
   "execution_count": 8,
   "id": "35a55d54-cf9f-4b07-9dad-c16ca195548c",
   "metadata": {},
   "outputs": [
    {
     "name": "stdout",
     "output_type": "stream",
     "text": [
      "Misclassification rate: 0.0704\n",
      "Cross-validation estimate of the true error rate: 0.0902\n"
     ]
    }
   ],
   "source": [
    "# Report out the results\n",
    "print(\n",
    "    f\"Misclassification rate: {empirical_error_rate:.3}\\n\"\n",
    "    f\"Cross-validation estimate of the true error rate: {true_error_rate_cv_estimate:.3}\"\n",
    ")"
   ]
  }
 ],
 "metadata": {
  "kernelspec": {
   "display_name": "Python 3 (ipykernel)",
   "language": "python",
   "name": "python3"
  },
  "language_info": {
   "codemirror_mode": {
    "name": "ipython",
    "version": 3
   },
   "file_extension": ".py",
   "mimetype": "text/x-python",
   "name": "python",
   "nbconvert_exporter": "python",
   "pygments_lexer": "ipython3",
   "version": "3.12.3"
  }
 },
 "nbformat": 4,
 "nbformat_minor": 5
}
