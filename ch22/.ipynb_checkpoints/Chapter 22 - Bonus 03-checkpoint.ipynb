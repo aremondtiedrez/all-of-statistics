{
 "cells": [
  {
   "cell_type": "markdown",
   "id": "f519ac66-096d-452c-b36a-36e44cd16569",
   "metadata": {},
   "source": [
    "Classify the spam data using support vector machines with the Gaussian (or RBF) kernel.\n",
    "Choose thes parameter $C$ and $\\gamma$ by cross-validation."
   ]
  },
  {
   "cell_type": "code",
   "execution_count": 3,
   "id": "bc81b882-1743-48f3-8dbb-47b9717ab22b",
   "metadata": {},
   "outputs": [],
   "source": [
    "import numpy as np\n",
    "import pandas as pd\n",
    "\n",
    "from sklearn.metrics import zero_one_loss\n",
    "from sklearn.model_selection import cross_val_score, GridSearchCV\n",
    "from sklearn.preprocessing import StandardScaler\n",
    "from sklearn.pipeline import Pipeline\n",
    "from sklearn.svm import SVC"
   ]
  },
  {
   "cell_type": "markdown",
   "id": "a9e2543e-c09d-4fce-b74c-fae7de3ac9c1",
   "metadata": {},
   "source": [
    "# Download the spam data"
   ]
  },
  {
   "cell_type": "code",
   "execution_count": 2,
   "id": "3db3843b-6ed3-4299-a496-22bce086037a",
   "metadata": {},
   "outputs": [],
   "source": [
    "# Read the data into a pandas data frame\n",
    "df = pd.read_csv('../data/spam.dat', sep=' ', header=None)\n",
    "\n",
    "# Extract the response variable Y from the data frame\n",
    "# and convert it to a numpy array\n",
    "Y = df[df.columns[-1]].to_numpy()\n",
    "\n",
    "# Extract all 57 covariates into a numpy array X\n",
    "X = df[df.columns[:-1]].to_numpy()"
   ]
  },
  {
   "cell_type": "markdown",
   "id": "6f5dce86-a229-467f-aa3d-18d216b332f1",
   "metadata": {},
   "source": [
    "# Define the model pipeline and train a single model"
   ]
  },
  {
   "cell_type": "code",
   "execution_count": 3,
   "id": "dd4bf409-c12a-410a-8ab0-239470786a20",
   "metadata": {},
   "outputs": [
    {
     "name": "stdout",
     "output_type": "stream",
     "text": [
      "Misclassification rate: 0.0526\n",
      "Cross-validation estimate of the true error rate: 0.0767\n"
     ]
    }
   ],
   "source": [
    "# We train the model with sklearn's default paramters\n",
    "pipeline = Pipeline([\n",
    "    (\"scaler\", StandardScaler()),\n",
    "    (\"svc\", SVC(kernel=\"rbf\")),\n",
    "])\n",
    "fitted_pipeline = pipeline.fit(X, Y)\n",
    "empirical_error_rate =  zero_one_loss(Y, fitted_pipeline.predict(X))\n",
    "true_error_rate_cv_estimate = 1 - cross_val_score(pipeline, X, Y, cv=5).mean()\n",
    "print(\n",
    "    f\"Misclassification rate: {empirical_error_rate:.3}\\n\"\n",
    "    f\"Cross-validation estimate of the true error rate: {true_error_rate_cv_estimate:.3}\"\n",
    ")"
   ]
  },
  {
   "cell_type": "markdown",
   "id": "bede81e5-1f7b-4b2e-b33c-2a9a91e1664b",
   "metadata": {},
   "source": [
    "# List the parameters of the pipeline\n",
    "This is used to identify the exact syntax to use when performing the hyperparameter search.\n",
    "\n",
    "Here we note see that `svc__C` and `svc__gamma` are the parameters of interest."
   ]
  },
  {
   "cell_type": "code",
   "execution_count": 23,
   "id": "ab432797-28a5-45b3-aac5-44992c287678",
   "metadata": {},
   "outputs": [
    {
     "data": {
      "text/plain": [
       "{'memory': None,\n",
       " 'steps': [('scaler', StandardScaler()), ('svc', SVC())],\n",
       " 'transform_input': None,\n",
       " 'verbose': False,\n",
       " 'scaler': StandardScaler(),\n",
       " 'svc': SVC(),\n",
       " 'scaler__copy': True,\n",
       " 'scaler__with_mean': True,\n",
       " 'scaler__with_std': True,\n",
       " 'svc__C': 1.0,\n",
       " 'svc__break_ties': False,\n",
       " 'svc__cache_size': 200,\n",
       " 'svc__class_weight': None,\n",
       " 'svc__coef0': 0.0,\n",
       " 'svc__decision_function_shape': 'ovr',\n",
       " 'svc__degree': 3,\n",
       " 'svc__gamma': 'scale',\n",
       " 'svc__kernel': 'rbf',\n",
       " 'svc__max_iter': -1,\n",
       " 'svc__probability': False,\n",
       " 'svc__random_state': None,\n",
       " 'svc__shrinking': True,\n",
       " 'svc__tol': 0.001,\n",
       " 'svc__verbose': False}"
      ]
     },
     "execution_count": 23,
     "metadata": {},
     "output_type": "execute_result"
    }
   ],
   "source": [
    "pipeline.get_params()"
   ]
  },
  {
   "cell_type": "markdown",
   "id": "0154724a-257a-48e3-9c1a-dcd12c371713",
   "metadata": {},
   "source": [
    "# Perform the hyperparameter search\n",
    "(We started searching among $C , \\gamma \\in (0.01, 1, 100)$\n",
    "and refined the search range to arrive at the search range below.)"
   ]
  },
  {
   "cell_type": "code",
   "execution_count": 26,
   "id": "d032c43f-e759-4a1f-ab40-3085646c90bd",
   "metadata": {},
   "outputs": [
    {
     "name": "stdout",
     "output_type": "stream",
     "text": [
      "Here are the cross-validation estimates of the true error rate for each parameter pair:\n",
      "   param_svc__C  param_svc__gamma  mean_test_score\n",
      "1         100.0            0.0010         0.930448\n",
      "4       10000.0            0.0001         0.928491\n",
      "3        1000.0            0.0010         0.926535\n",
      "2        1000.0            0.0001         0.925014\n",
      "0         100.0            0.0001         0.918060\n",
      "5       10000.0            0.0010         0.905884\n",
      "\n",
      "The best parameter pair among these is\n",
      "C = 100.0\n",
      "gamma = 0.001\n"
     ]
    }
   ],
   "source": [
    "param_grid = [{\n",
    "    'svc__C': [1e2, 1e3, 1e4],\n",
    "    'svc__gamma': [1e-4, 1e-3],\n",
    "}]\n",
    "grid_search = GridSearchCV(pipeline, param_grid)\n",
    "grid_search.fit(X, Y)\n",
    "\n",
    "cv_results = pd.DataFrame(grid_search.cv_results_)\n",
    "print(\"Here are the cross-validation estimates of the true error rate for each parameter pair:\")\n",
    "print(cv_results.sort_values(by=\"rank_test_score\")[[\"param_svc__C\", \"param_svc__gamma\", \"mean_test_score\"]])\n",
    "print(\n",
    "    \"\\nThe best parameter pair among these is\\n\"\n",
    "    f\"C = {grid_search.best_params_['svc__C']}\\n\"\n",
    "    f\"gamma = {grid_search.best_params_['svc__gamma']}\"\n",
    ")\n",
    "best_model = grid_search.best_estimator_"
   ]
  },
  {
   "cell_type": "markdown",
   "id": "792e20cf-3d93-4b85-a340-dc1531f314ba",
   "metadata": {},
   "source": [
    "# Sanity check"
   ]
  },
  {
   "cell_type": "code",
   "execution_count": 36,
   "id": "a76c2cd1-dc87-445b-a7ce-ec0749e7af62",
   "metadata": {},
   "outputs": [
    {
     "name": "stdout",
     "output_type": "stream",
     "text": [
      "Sanity check (using the best estimator):\n",
      "Misclassification rate: 0.0539\n",
      "Cross-validation estimate of the true error rate: 0.0696\n"
     ]
    }
   ],
   "source": [
    "empirical_error_rate =  zero_one_loss(Y, best_model.predict(X))\n",
    "true_error_rate_cv_estimate = 1 - cross_val_score(best_model, X, Y, cv=5).mean()\n",
    "print(\n",
    "    \"Sanity check (using the best estimator):\\n\"\n",
    "    f\"Misclassification rate: {empirical_error_rate:.3}\\n\"\n",
    "    f\"Cross-validation estimate of the true error rate: {true_error_rate_cv_estimate:.3}\"\n",
    ")"
   ]
  }
 ],
 "metadata": {
  "kernelspec": {
   "display_name": "Python 3 (ipykernel)",
   "language": "python",
   "name": "python3"
  },
  "language_info": {
   "codemirror_mode": {
    "name": "ipython",
    "version": 3
   },
   "file_extension": ".py",
   "mimetype": "text/x-python",
   "name": "python",
   "nbconvert_exporter": "python",
   "pygments_lexer": "ipython3",
   "version": "3.12.3"
  }
 },
 "nbformat": 4,
 "nbformat_minor": 5
}
