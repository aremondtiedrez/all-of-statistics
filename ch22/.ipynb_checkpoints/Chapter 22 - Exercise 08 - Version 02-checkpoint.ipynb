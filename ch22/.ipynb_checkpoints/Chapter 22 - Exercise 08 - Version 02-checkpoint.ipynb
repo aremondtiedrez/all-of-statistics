{
 "cells": [
  {
   "cell_type": "markdown",
   "id": "76dd14c0-00d0-4bff-96d9-27fbf08c7258",
   "metadata": {},
   "source": [
    "Classify the spam data using support vector machines\n",
    "with the kernel $K ( x, \\tilde x ) = {( 1 + \\langle x, \\tilde x\\rangle )}^p$.\n",
    "Choose $p$ by cross-validation."
   ]
  },
  {
   "cell_type": "code",
   "execution_count": 1,
   "id": "425fb225-fd8c-4e00-87da-d5db9d3d5792",
   "metadata": {},
   "outputs": [],
   "source": [
    "import numpy as np\n",
    "import pandas as pd\n",
    "\n",
    "from collections import namedtuple\n",
    "from sklearn.metrics import zero_one_loss\n",
    "from sklearn.model_selection import cross_val_score\n",
    "from sklearn.pipeline import make_pipeline\n",
    "from sklearn.preprocessing import StandardScaler\n",
    "from sklearn.svm import SVC"
   ]
  },
  {
   "cell_type": "code",
   "execution_count": 2,
   "id": "8daffc2f-7ac3-47d8-905e-299a7c244ee6",
   "metadata": {},
   "outputs": [],
   "source": [
    "# Read the data into a pandas data frame\n",
    "df = pd.read_csv('../data/spam.dat', sep=' ', header=None)\n",
    "\n",
    "# Extract the response variable Y from the data frame\n",
    "# and convert it to a numpy array\n",
    "Y = df[df.columns[-1]].to_numpy()\n",
    "\n",
    "# Extract all 57 covariates into a numpy array X\n",
    "X = df[df.columns[:-1]].to_numpy()"
   ]
  },
  {
   "cell_type": "code",
   "execution_count": 29,
   "id": "0062ca33-dc9b-49a2-8a10-abe245a29f89",
   "metadata": {},
   "outputs": [],
   "source": [
    "FittedPolySCV = namedtuple(\"FittedPolySCV\", [\n",
    "    \"fitted_pipeline\", \"empirical_error_rate\", \"true_error_rate_cv_estimate\"\n",
    "])\n",
    "\n",
    "# For each degree p, fit a SVC with polynomial kernel\n",
    "results = []\n",
    "for p in range(2, 8):\n",
    "    pipeline = make_pipeline(\n",
    "        StandardScaler(),\n",
    "        SVC(kernel=\"poly\", degree=p, coef0=1)\n",
    "    )\n",
    "    fitted_pipeline = pipeline.fit(X, Y)\n",
    "    empirical_error_rate = zero_one_loss(Y, fitted_pipeline.predict(X))\n",
    "    true_error_rate_cv_estimate = 1 - cross_val_score(pipeline, X, Y, cv=5).mean()\n",
    "    results.append(FittedPolySCV(fitted_pipeline, empirical_error_rate, true_error_rate_cv_estimate))"
   ]
  },
  {
   "cell_type": "code",
   "execution_count": 30,
   "id": "25c0dd76-9b5f-4a06-8864-52bf6e458954",
   "metadata": {},
   "outputs": [
    {
     "name": "stdout",
     "output_type": "stream",
     "text": [
      "SCV model with polynomial kernel of degree 2\n",
      "Misclassification rate: 0.0524\n",
      "Cross-validation estimate of the true error rate: 0.0737\n",
      "-------------------------------------------------------\n",
      "SCV model with polynomial kernel of degree 3\n",
      "Misclassification rate: 0.0426\n",
      "Cross-validation estimate of the true error rate: 0.0778\n",
      "-------------------------------------------------------\n",
      "SCV model with polynomial kernel of degree 4\n",
      "Misclassification rate: 0.0402\n",
      "Cross-validation estimate of the true error rate: 0.0835\n",
      "-------------------------------------------------------\n",
      "SCV model with polynomial kernel of degree 5\n",
      "Misclassification rate: 0.0337\n",
      "Cross-validation estimate of the true error rate: 0.0863\n",
      "-------------------------------------------------------\n",
      "SCV model with polynomial kernel of degree 6\n",
      "Misclassification rate: 0.0285\n",
      "Cross-validation estimate of the true error rate: 0.0882\n",
      "-------------------------------------------------------\n",
      "SCV model with polynomial kernel of degree 7\n",
      "Misclassification rate: 0.0246\n",
      "Cross-validation estimate of the true error rate: 0.0945\n",
      "-------------------------------------------------------\n"
     ]
    }
   ],
   "source": [
    "# Report out the results\n",
    "for result in results:\n",
    "    print(\n",
    "        f\"SCV model with polynomial kernel of degree {result.fitted_pipeline[\"svc\"].degree}\\n\"\n",
    "        f\"Misclassification rate: {result.empirical_error_rate:.3}\\n\"\n",
    "        f\"Cross-validation estimate of the true error rate: {result.true_error_rate_cv_estimate:.3}\\n\"\n",
    "        \"-------------------------------------------------------\"\n",
    "    )"
   ]
  }
 ],
 "metadata": {
  "kernelspec": {
   "display_name": "Python 3 (ipykernel)",
   "language": "python",
   "name": "python3"
  },
  "language_info": {
   "codemirror_mode": {
    "name": "ipython",
    "version": 3
   },
   "file_extension": ".py",
   "mimetype": "text/x-python",
   "name": "python",
   "nbconvert_exporter": "python",
   "pygments_lexer": "ipython3",
   "version": "3.12.3"
  }
 },
 "nbformat": 4,
 "nbformat_minor": 5
}
