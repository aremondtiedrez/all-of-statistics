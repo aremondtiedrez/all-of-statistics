{
 "cells": [
  {
   "cell_type": "markdown",
   "id": "5a2836b5-b9f4-4733-abed-99c9754b44ec",
   "metadata": {},
   "source": [
    "Fit a tree to the spam data.\n",
    "Now apply bagging and report your results."
   ]
  },
  {
   "cell_type": "code",
   "execution_count": 1,
   "id": "0bc88f59-9f04-4f0b-8384-3e53453cc255",
   "metadata": {},
   "outputs": [],
   "source": [
    "import pandas as pd\n",
    "\n",
    "from sklearn.ensemble import BaggingClassifier\n",
    "from sklearn.metrics import zero_one_loss\n",
    "from sklearn.model_selection import cross_val_score\n",
    "from sklearn.tree import DecisionTreeClassifier"
   ]
  },
  {
   "cell_type": "markdown",
   "id": "69971134-545d-48f5-afd3-e929762ac34d",
   "metadata": {},
   "source": [
    "# Download the spam data"
   ]
  },
  {
   "cell_type": "code",
   "execution_count": 3,
   "id": "1815470c-2245-4b5e-b82f-f0ca3435263e",
   "metadata": {},
   "outputs": [],
   "source": [
    "# Read the data into a pandas data frame\n",
    "df = pd.read_csv('../data/spam.dat', sep=' ', header=None)\n",
    "\n",
    "# Extract the response variable Y from the data frame\n",
    "# and convert it to a numpy array\n",
    "Y = df[df.columns[-1]].to_numpy()\n",
    "\n",
    "# Extract all 57 covariates into a numpy array X\n",
    "X = df[df.columns[:-1]].to_numpy()"
   ]
  },
  {
   "cell_type": "markdown",
   "id": "48f33efd-eb0e-4baf-8c5c-69e250a9446d",
   "metadata": {},
   "source": [
    "# 'Fit and report' function"
   ]
  },
  {
   "cell_type": "code",
   "execution_count": 4,
   "id": "6b928e03-aa14-4176-9150-9198a4ba0245",
   "metadata": {},
   "outputs": [],
   "source": [
    "def fit_and_report(model, X, Y):\n",
    "    \n",
    "    classifier = model.fit(X, Y)\n",
    "    \n",
    "    empirical_error_rate = zero_one_loss(Y, classifier.predict(X))\n",
    "    true_error_rate_cv_estimate = 1 - cross_val_score(model, X, Y, cv=5).mean()\n",
    "    print(\n",
    "        f\"Empirical error rate: {empirical_error_rate:.3}\\n\"\n",
    "        f\"Cross-validation estimate of the true error rate: {true_error_rate_cv_estimate:.3}\"\n",
    "    )"
   ]
  },
  {
   "cell_type": "markdown",
   "id": "58da71df-d7e1-49fb-8227-045bd48624af",
   "metadata": {},
   "source": [
    "# Single tree classifier"
   ]
  },
  {
   "cell_type": "markdown",
   "id": "429065ef-c8b0-43e1-a4bc-8d4ab85111a0",
   "metadata": {},
   "source": [
    "## Unlimited splitting"
   ]
  },
  {
   "cell_type": "code",
   "execution_count": 5,
   "id": "a3677c67-80a7-4fe7-a000-b79dd25c703e",
   "metadata": {},
   "outputs": [
    {
     "name": "stdout",
     "output_type": "stream",
     "text": [
      "Empirical error rate: 0.000652\n",
      "Cross-validation estimate of the true error rate: 0.114\n"
     ]
    }
   ],
   "source": [
    "model = DecisionTreeClassifier()\n",
    "fit_and_report(model, X, Y)"
   ]
  },
  {
   "cell_type": "markdown",
   "id": "0cc96117-794d-4e68-bbb5-955f9ce76d3c",
   "metadata": {},
   "source": [
    "## Limited splitting"
   ]
  },
  {
   "cell_type": "code",
   "execution_count": 6,
   "id": "5a56aba4-15d7-426f-86de-5cde5f4177b7",
   "metadata": {},
   "outputs": [
    {
     "name": "stdout",
     "output_type": "stream",
     "text": [
      "Empirical error rate: 0.101\n",
      "Cross-validation estimate of the true error rate: 0.121\n"
     ]
    }
   ],
   "source": [
    "model = DecisionTreeClassifier(max_depth=4, max_leaf_nodes=6)\n",
    "fit_and_report(model, X, Y)"
   ]
  },
  {
   "cell_type": "markdown",
   "id": "ce3153ec-b661-460d-873c-1c231d908517",
   "metadata": {},
   "source": [
    "# Bag several tree classifiers"
   ]
  },
  {
   "cell_type": "markdown",
   "id": "b7e61baf-9cac-40d7-8582-262311c13ac4",
   "metadata": {},
   "source": [
    "## Unlimited splitting"
   ]
  },
  {
   "cell_type": "code",
   "execution_count": 7,
   "id": "3509546a-6817-4bde-a20c-4fe92e3da0c6",
   "metadata": {},
   "outputs": [
    {
     "name": "stdout",
     "output_type": "stream",
     "text": [
      "Empirical error rate: 0.00196\n",
      "Cross-validation estimate of the true error rate: 0.0878\n"
     ]
    }
   ],
   "source": [
    "model = BaggingClassifier(\n",
    "    DecisionTreeClassifier(),\n",
    "    n_estimators = 20,\n",
    "    max_samples=1.0\n",
    ")\n",
    "fit_and_report(model, X, Y)"
   ]
  },
  {
   "cell_type": "markdown",
   "id": "3ac2d41d-b1be-4faf-9acf-d3eefc372e9b",
   "metadata": {},
   "source": [
    "## Limited splitting"
   ]
  },
  {
   "cell_type": "code",
   "execution_count": 8,
   "id": "3eee91d7-c194-4cff-ac77-b5505bbe9580",
   "metadata": {},
   "outputs": [
    {
     "name": "stdout",
     "output_type": "stream",
     "text": [
      "Empirical error rate: 0.0898\n",
      "Cross-validation estimate of the true error rate: 0.114\n"
     ]
    }
   ],
   "source": [
    "model = BaggingClassifier(\n",
    "    DecisionTreeClassifier(max_depth=4, max_leaf_nodes=6),\n",
    "    n_estimators = 50,\n",
    "    max_samples=1.0\n",
    ")\n",
    "fit_and_report(model, X, Y)"
   ]
  }
 ],
 "metadata": {
  "kernelspec": {
   "display_name": "Python 3 (ipykernel)",
   "language": "python",
   "name": "python3"
  },
  "language_info": {
   "codemirror_mode": {
    "name": "ipython",
    "version": 3
   },
   "file_extension": ".py",
   "mimetype": "text/x-python",
   "name": "python",
   "nbconvert_exporter": "python",
   "pygments_lexer": "ipython3",
   "version": "3.12.3"
  }
 },
 "nbformat": 4,
 "nbformat_minor": 5
}
