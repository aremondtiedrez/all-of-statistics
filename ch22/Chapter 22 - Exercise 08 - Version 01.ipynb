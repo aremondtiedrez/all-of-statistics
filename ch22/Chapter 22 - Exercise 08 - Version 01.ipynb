{
 "cells": [
  {
   "cell_type": "markdown",
   "id": "76dd14c0-00d0-4bff-96d9-27fbf08c7258",
   "metadata": {},
   "source": [
    "Classify the spam data using support vector machines\n",
    "with the kernel $K ( x, \\tilde x ) = {( 1 + \\langle x, \\tilde x\\rangle )}^p$.\n",
    "Choose $p$ by cross-validation."
   ]
  },
  {
   "cell_type": "code",
   "execution_count": 1,
   "id": "425fb225-fd8c-4e00-87da-d5db9d3d5792",
   "metadata": {},
   "outputs": [],
   "source": [
    "import numpy as np\n",
    "import pandas as pd\n",
    "\n",
    "from collections import namedtuple\n",
    "from scipy import stats\n",
    "from sklearn.metrics import zero_one_loss\n",
    "from sklearn.model_selection import cross_val_score\n",
    "from sklearn.svm import SVC"
   ]
  },
  {
   "cell_type": "code",
   "execution_count": 2,
   "id": "8daffc2f-7ac3-47d8-905e-299a7c244ee6",
   "metadata": {},
   "outputs": [],
   "source": [
    "# Read the data into a pandas data frame\n",
    "df = pd.read_csv('../data/spam.dat', sep=' ', header=None)\n",
    "\n",
    "# Extract the response variable Y from the data frame\n",
    "# and convert it to a numpy array\n",
    "Y = df[df.columns[-1]].to_numpy()\n",
    "\n",
    "# Extract all 57 covariates into a numpy array X\n",
    "X = df[df.columns[:-1]].to_numpy()"
   ]
  },
  {
   "cell_type": "code",
   "execution_count": 3,
   "id": "947a9050-5376-4d51-812b-5472e1118799",
   "metadata": {},
   "outputs": [],
   "source": [
    "FittedPolySCV = namedtuple(\"FittedPolySCV\", [\n",
    "    \"fitted_model\", \"empirical_error_rate\", \"true_error_rate_cv_estimate\"\n",
    "])\n",
    "\n",
    "def fit_poly_SCV(response, covariate, p, cv=10):\n",
    "    \"\"\"\n",
    "    Fit a SVC using a polynomial kernel of degree p.\n",
    "    Return the fitted model, the empirical error_rate, and\n",
    "    a cross-validation estimate of the true error rate.\n",
    "    \"\"\"\n",
    "\n",
    "    # Define the model\n",
    "    model = SVC(kernel='poly', degree=p, coef0=1)\n",
    "\n",
    "    # Normalize the data\n",
    "    normalized_covariate = (covariate - covariate.mean(axis=0)) / covariate.std(axis=0)\n",
    "    \n",
    "    # Fit the model\n",
    "    fitted_model = model.fit(normalized_covariate, response)\n",
    "    \n",
    "    # Compute the empirical error rate\n",
    "    empirical_error_rate = zero_one_loss(response, fitted_model.predict(normalized_covariate))\n",
    "    \n",
    "    # Compute a cross-validation estimate of the true error rate\n",
    "    if cv is not None:\n",
    "        true_error_rate_cv_estimate = 1 - cross_val_score(\n",
    "            model, normalized_covariate, response, cv=cv\n",
    "        ).mean()\n",
    "    else:\n",
    "        true_error_rate_cv_estimate = None\n",
    "\n",
    "    return FittedPolySCV(fitted_model, empirical_error_rate, true_error_rate_cv_estimate)"
   ]
  },
  {
   "cell_type": "code",
   "execution_count": 4,
   "id": "43763ea6-65c8-4011-a4d0-571abd0203e6",
   "metadata": {},
   "outputs": [],
   "source": [
    "# Train several SVC models using polynomial kernels with increasing degrees\n",
    "model_results = [\n",
    "    fit_poly_SCV(Y, X, p=p, cv=5)\n",
    "    for p in range(2, 8)\n",
    "]"
   ]
  },
  {
   "cell_type": "code",
   "execution_count": 5,
   "id": "35a55d54-cf9f-4b07-9dad-c16ca195548c",
   "metadata": {},
   "outputs": [
    {
     "name": "stdout",
     "output_type": "stream",
     "text": [
      "SCV model with polynomial kernel of degree 2\n",
      "Misclassification rate: 0.0524\n",
      "Cross-validation estimate of the true error rate: 0.0741\n",
      "-------------------------------------------------------\n",
      "SCV model with polynomial kernel of degree 3\n",
      "Misclassification rate: 0.0426\n",
      "Cross-validation estimate of the true error rate: 0.0793\n",
      "-------------------------------------------------------\n",
      "SCV model with polynomial kernel of degree 4\n",
      "Misclassification rate: 0.0402\n",
      "Cross-validation estimate of the true error rate: 0.083\n",
      "-------------------------------------------------------\n",
      "SCV model with polynomial kernel of degree 5\n",
      "Misclassification rate: 0.0337\n",
      "Cross-validation estimate of the true error rate: 0.0874\n",
      "-------------------------------------------------------\n",
      "SCV model with polynomial kernel of degree 6\n",
      "Misclassification rate: 0.0285\n",
      "Cross-validation estimate of the true error rate: 0.0932\n",
      "-------------------------------------------------------\n",
      "SCV model with polynomial kernel of degree 7\n",
      "Misclassification rate: 0.0246\n",
      "Cross-validation estimate of the true error rate: 0.0972\n",
      "-------------------------------------------------------\n"
     ]
    }
   ],
   "source": [
    "# Report out the results\n",
    "for model_result in model_results:\n",
    "    print(\n",
    "        f\"SCV model with polynomial kernel of degree {model_result.fitted_model.degree}\\n\"\n",
    "        f\"Misclassification rate: {model_result.empirical_error_rate:.3}\\n\"\n",
    "        f\"Cross-validation estimate of the true error rate: {model_result.true_error_rate_cv_estimate:.3}\\n\"\n",
    "        \"-------------------------------------------------------\"\n",
    "    )"
   ]
  },
  {
   "cell_type": "markdown",
   "id": "90b411ff-93ed-443a-ab62-bfdeb30d8166",
   "metadata": {},
   "source": [
    "### Sanity check\n",
    "We create synthetic data to verify that the SVC with quadratic kernel\n",
    "beats the OSH classifier (i.e. SVC classifier with *linear* kernel)\n",
    "when the decision boundary of the Bayes rule is the unit disk."
   ]
  },
  {
   "cell_type": "code",
   "execution_count": 6,
   "id": "72fd0460-c749-4244-acb6-fa012d6ae953",
   "metadata": {},
   "outputs": [],
   "source": [
    "from sklearn.svm import LinearSVC"
   ]
  },
  {
   "cell_type": "code",
   "execution_count": 7,
   "id": "fccc1537-6405-424e-ab80-9ef7225b8aaf",
   "metadata": {},
   "outputs": [],
   "source": [
    "# Number of samples\n",
    "n = 5000\n",
    "\n",
    "# X is uniformly distributed in the square\n",
    "# centered at the origin of side length 3.\n",
    "synthetic_X = stats.uniform.rvs(loc=-1.5, scale=3, size=[n, 2])\n",
    "\n",
    "# Y = 1 in the interior of the unit disk, and Y = 0 otherwise\n",
    "synthetic_Y = (synthetic_X[:, 0]**2 + synthetic_X[:, 1]**2 < 1).astype(int)"
   ]
  },
  {
   "cell_type": "code",
   "execution_count": 8,
   "id": "c0bac5af-e7a5-4ee6-a2bb-649b91ce1910",
   "metadata": {},
   "outputs": [
    {
     "name": "stdout",
     "output_type": "stream",
     "text": [
      "Misclassification rate: 0.352\n",
      "Cross-validation estimate of the true error rate: 0.352\n"
     ]
    }
   ],
   "source": [
    "# Linear SVC\n",
    "\n",
    "model = LinearSVC()\n",
    "fitted_model = model.fit(synthetic_X, synthetic_Y)\n",
    "empirical_error_rate = zero_one_loss(synthetic_Y, fitted_model.predict(synthetic_X))\n",
    "true_error_rate_cv_estimate = 1 - cross_val_score(model, synthetic_X, synthetic_Y, cv=5).mean()\n",
    "print(\n",
    "    f\"Misclassification rate: {empirical_error_rate:.3}\\n\"\n",
    "    f\"Cross-validation estimate of the true error rate: {true_error_rate_cv_estimate:.3}\"\n",
    ")"
   ]
  },
  {
   "cell_type": "code",
   "execution_count": 9,
   "id": "047b4876-51fc-45dd-ac8b-f33119cb0597",
   "metadata": {},
   "outputs": [
    {
     "name": "stdout",
     "output_type": "stream",
     "text": [
      "SCV model with polynomial kernel of degree 2\n",
      "Misclassification rate: 0.0036\n",
      "Cross-validation estimate of the true error rate: 0.0054\n",
      "-------------------------------------------------------\n",
      "SCV model with polynomial kernel of degree 3\n",
      "Misclassification rate: 0.0022\n",
      "Cross-validation estimate of the true error rate: 0.0042\n",
      "-------------------------------------------------------\n",
      "SCV model with polynomial kernel of degree 4\n",
      "Misclassification rate: 0.0014\n",
      "Cross-validation estimate of the true error rate: 0.0036\n",
      "-------------------------------------------------------\n",
      "SCV model with polynomial kernel of degree 5\n",
      "Misclassification rate: 0.0016\n",
      "Cross-validation estimate of the true error rate: 0.004\n",
      "-------------------------------------------------------\n"
     ]
    }
   ],
   "source": [
    "# Polynomial SVC\n",
    "model_results = [\n",
    "    fit_poly_SCV(synthetic_Y, synthetic_X, p=p, cv=5)\n",
    "    for p in range(2, 6)\n",
    "]\n",
    "for model_result in model_results:\n",
    "    print(\n",
    "        f\"SCV model with polynomial kernel of degree {model_result.fitted_model.degree}\\n\"\n",
    "        f\"Misclassification rate: {model_result.empirical_error_rate:.3}\\n\"\n",
    "        f\"Cross-validation estimate of the true error rate: {model_result.true_error_rate_cv_estimate:.3}\\n\"\n",
    "        \"-------------------------------------------------------\"\n",
    "    )"
   ]
  }
 ],
 "metadata": {
  "kernelspec": {
   "display_name": "Python 3 (ipykernel)",
   "language": "python",
   "name": "python3"
  },
  "language_info": {
   "codemirror_mode": {
    "name": "ipython",
    "version": 3
   },
   "file_extension": ".py",
   "mimetype": "text/x-python",
   "name": "python",
   "nbconvert_exporter": "python",
   "pygments_lexer": "ipython3",
   "version": "3.12.3"
  }
 },
 "nbformat": 4,
 "nbformat_minor": 5
}
