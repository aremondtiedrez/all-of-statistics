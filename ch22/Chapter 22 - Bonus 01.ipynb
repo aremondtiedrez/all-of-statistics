{
 "cells": [
  {
   "cell_type": "markdown",
   "id": "e6d765a5-22e2-4862-b673-994790d0715e",
   "metadata": {},
   "source": [
    "We use *designed* synthetic data to verify our understanding of the *hard-margin* SVM algorithm in `sklearn`."
   ]
  },
  {
   "cell_type": "code",
   "execution_count": 4,
   "id": "9055af36-be03-4a40-95e3-74f213969297",
   "metadata": {},
   "outputs": [],
   "source": [
    "import matplotlib.pyplot as plt\n",
    "import numpy as np\n",
    "\n",
    "from sklearn import svm"
   ]
  },
  {
   "cell_type": "code",
   "execution_count": 5,
   "id": "fabbb49d-8ba2-42f8-b271-a365141a99a8",
   "metadata": {},
   "outputs": [],
   "source": [
    "def scatter_plot_two_classes(response, covariate, axis=None):\n",
    "    \"\"\"\n",
    "    Given two arrays 'response' and 'covariate',\n",
    "    where 'response' is a 1D array with shape (n, )\n",
    "    whose values are all 0 or 1 and 'covariate'\n",
    "    is a 2D array with shape (n, 2), plot\n",
    "    the scatter plot of the values in 'covariate'\n",
    "    coloured according to the corresponding\n",
    "    values in 'response'.\n",
    "    \"\"\"\n",
    "\n",
    "    # Verify that the arrays have appropriate sizes\n",
    "    (ny, ) = response.shape\n",
    "    (nx, dimension) = covariate.shape\n",
    "    if dimension != 2:\n",
    "        raise ValueError(\n",
    "            \"The rows of the argument 'covariate' \"\n",
    "            \"must be pairs of real numbers.\"\n",
    "        )\n",
    "    if ny != nx:\n",
    "        raise ValueError(\n",
    "            \"The arguments 'response' and 'covariate' \"\n",
    "            \"must have the same number of rows.\"\n",
    "        )\n",
    "        \n",
    "    # Class of samples where Y = 0\n",
    "    class0 = covariate[response == 0]\n",
    "    # Class of samples where Y = 1\n",
    "    class1 = covariate[response == 1]\n",
    "\n",
    "    # Create the plot\n",
    "    if axis is None:\n",
    "        figure, axis = plt.subplots(1)\n",
    "    axis.set_aspect('equal')\n",
    "    \n",
    "    # Plot the sample points where Y = 0\n",
    "    axis.scatter(class0[:, 0], class0[:, 1], color='#3e9bc1', alpha=0.3)\n",
    "    # Plot the sample points where Y = 1\n",
    "    axis.scatter(class1[:, 0], class1[:, 1], color='#c1643e', alpha=0.3)"
   ]
  },
  {
   "cell_type": "code",
   "execution_count": 6,
   "id": "391cc6a4-0b4f-47dc-8a69-52e9918767dc",
   "metadata": {},
   "outputs": [
    {
     "data": {
      "image/png": "[encoded data removed]",
      "text/plain": [
       "<Figure size 640x480 with 1 Axes>"
      ]
     },
     "metadata": {},
     "output_type": "display_data"
    }
   ],
   "source": [
    "# Create and plot the designed synthetic data\n",
    "\n",
    "X = np.array([\n",
    "    # Class 0\n",
    "    [-3, 1],\n",
    "    [-3, -2],\n",
    "    [-2, 0],\n",
    "    [-2, -1],\n",
    "    [-1, 1],\n",
    "    [-1, 0],\n",
    "    # Class 1\n",
    "    [1, 0.5],\n",
    "    #[1, 1],\n",
    "    #[1, 0],\n",
    "    [2, 0],\n",
    "    [2, 2],\n",
    "    [3, 0],\n",
    "    [3, 1],\n",
    "])\n",
    "\n",
    "Y = np.array(6*[1] + 5*[0])\n",
    "\n",
    "scatter_plot_two_classes(Y, X)"
   ]
  },
  {
   "cell_type": "code",
   "execution_count": 21,
   "id": "e3495521-7274-4b84-af53-ef08516083df",
   "metadata": {},
   "outputs": [
    {
     "name": "stdout",
     "output_type": "stream",
     "text": [
      "[ 3.00005188  3.00098578  2.00028536  2.00059666  0.99989623  1.00020753\n",
      " -1.00010377 -2.00002594 -2.00064854 -3.00010377 -3.00041507]\n",
      "[-3. -3. -2. -2. -1. -1.  1.  2.  2.  3.  3.]\n"
     ]
    },
    {
     "data": {
      "text/plain": [
       "True"
      ]
     },
     "execution_count": 21,
     "metadata": {},
     "output_type": "execute_result"
    }
   ],
   "source": [
    "# Train the hard-margin SVM classifier (without kernelization)\n",
    "model = svm.SVC(kernel='linear').fit(X, Y)\n",
    "\n",
    "# Print the decision function evaluated at X,\n",
    "# which should be equal to the first coordinate of X\n",
    "# (up to sign).\n",
    "print(model.decision_function(X))\n",
    "print(X[:, 0])\n",
    "all(np.isclose(model.decision_function(X), - X[:, 0], atol=0.001))"
   ]
  }
 ],
 "metadata": {
  "kernelspec": {
   "display_name": "Python 3 (ipykernel)",
   "language": "python",
   "name": "python3"
  },
  "language_info": {
   "codemirror_mode": {
    "name": "ipython",
    "version": 3
   },
   "file_extension": ".py",
   "mimetype": "text/x-python",
   "name": "python",
   "nbconvert_exporter": "python",
   "pygments_lexer": "ipython3",
   "version": "3.12.3"
  }
 },
 "nbformat": 4,
 "nbformat_minor": 5
}
