{
 "cells": [
  {
   "cell_type": "markdown",
   "id": "4a89a84c-763f-4fed-98e2-8ca5af197ac8",
   "metadata": {},
   "source": [
    "Fit a tree that only uses one split on one variable to the spam dat.\n",
    "Now apply boosting."
   ]
  },
  {
   "cell_type": "code",
   "execution_count": 71,
   "id": "e0fc541c-8478-4478-b580-e13bb0705c8e",
   "metadata": {},
   "outputs": [],
   "source": [
    "import pandas as pd\n",
    "\n",
    "from sklearn.ensemble import AdaBoostClassifier\n",
    "from sklearn.metrics import zero_one_loss\n",
    "from sklearn.model_selection import cross_val_score\n",
    "from sklearn.tree import DecisionTreeClassifier"
   ]
  },
  {
   "cell_type": "markdown",
   "id": "0ed5fb75-01b6-46a6-8274-5ca15e317fa1",
   "metadata": {},
   "source": [
    "# Download the spam data"
   ]
  },
  {
   "cell_type": "code",
   "execution_count": 72,
   "id": "0d8ca90e-35f5-4fc2-b28f-382c06640a11",
   "metadata": {},
   "outputs": [],
   "source": [
    "# Read the data into a pandas data frame\n",
    "df = pd.read_csv('../data/spam.dat', sep=' ', header=None)\n",
    "\n",
    "# Extract the response variable Y from the data frame\n",
    "# and convert it to a numpy array\n",
    "Y = df[df.columns[-1]].to_numpy()\n",
    "\n",
    "# Extract all 57 covariates into a numpy array X\n",
    "X = df[df.columns[:-1]].to_numpy()"
   ]
  },
  {
   "cell_type": "markdown",
   "id": "2dad7d68-f044-4ea2-af4b-08f080994cd4",
   "metadata": {},
   "source": [
    "# Fit a single tree\n",
    "(Since there is only one split, on a randomly chosen feature, this is really a *random branch*.)"
   ]
  },
  {
   "cell_type": "code",
   "execution_count": 76,
   "id": "f91e6198-96dd-4858-b4aa-93487d9baee5",
   "metadata": {},
   "outputs": [
    {
     "name": "stdout",
     "output_type": "stream",
     "text": [
      "Empirical error rate: 0.394\n",
      "Cross-validation estimate of the true error rate: 0.345\n"
     ]
    }
   ],
   "source": [
    "model = DecisionTreeClassifier(max_depth=1, max_features=1)\n",
    "classifier = model.fit(X, Y)\n",
    "\n",
    "empirical_error_rate = zero_one_loss(Y, classifier.predict(X))\n",
    "true_error_rate_cv_estimate = 1 - cross_val_score(model, X, Y, cv=5).mean()\n",
    "print(\n",
    "    f\"Empirical error rate: {empirical_error_rate:.3}\\n\"\n",
    "f\"Cross-validation estimate of the true error rate: {true_error_rate_cv_estimate:.3}\"\n",
    ")"
   ]
  },
  {
   "cell_type": "markdown",
   "id": "c22cfaa5-d933-4d2b-9e56-7585b6c0c03f",
   "metadata": {},
   "source": [
    "# Boost the tree above"
   ]
  },
  {
   "cell_type": "code",
   "execution_count": 81,
   "id": "1b928203-50a0-4727-876f-4dcfaf881b72",
   "metadata": {},
   "outputs": [
    {
     "name": "stdout",
     "output_type": "stream",
     "text": [
      "Empirical error rate: 0.0587\n",
      "Cross-validation estimate of the true error rate: 0.0796\n"
     ]
    }
   ],
   "source": [
    "boosted_model = AdaBoostClassifier(model, n_estimators=200)\n",
    "boosted_classifier = boosted_model.fit(X, Y)\n",
    "\n",
    "empirical_error_rate = zero_one_loss(Y, boosted_classifier.predict(X))\n",
    "true_error_rate_cv_estimate = 1 - cross_val_score(boosted_model, X, Y, cv=5).mean()\n",
    "print(\n",
    "    f\"Empirical error rate: {empirical_error_rate:.3}\\n\"\n",
    "f\"Cross-validation estimate of the true error rate: {true_error_rate_cv_estimate:.3}\"\n",
    ")"
   ]
  }
 ],
 "metadata": {
  "kernelspec": {
   "display_name": "Python 3 (ipykernel)",
   "language": "python",
   "name": "python3"
  },
  "language_info": {
   "codemirror_mode": {
    "name": "ipython",
    "version": 3
   },
   "file_extension": ".py",
   "mimetype": "text/x-python",
   "name": "python",
   "nbconvert_exporter": "python",
   "pygments_lexer": "ipython3",
   "version": "3.12.3"
  }
 },
 "nbformat": 4,
 "nbformat_minor": 5
}
