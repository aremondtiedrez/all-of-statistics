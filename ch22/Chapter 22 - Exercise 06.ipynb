{
 "cells": [
  {
   "cell_type": "markdown",
   "id": "266a6016-46e7-4518-af1d-47463ba67cd4",
   "metadata": {},
   "source": [
    "Use VC theory to get a confidence interval on the true error rate\n",
    "of the LDA classifier for the iris data (from the book web site).\n",
    "\n",
    "The data may be found at\n",
    "https://archive.ics.uci.edu/dataset/53/iris"
   ]
  },
  {
   "cell_type": "code",
   "execution_count": 67,
   "id": "75053381-325c-4900-a1d5-5444a00539ef",
   "metadata": {},
   "outputs": [],
   "source": [
    "import numpy as np\n",
    "import pandas as pd\n",
    "\n",
    "from sklearn.discriminant_analysis import LinearDiscriminantAnalysis\n",
    "from sklearn.metrics import confusion_matrix, zero_one_loss\n",
    "from tabulate import tabulate"
   ]
  },
  {
   "cell_type": "markdown",
   "id": "815ce742-9cfa-4ac4-adc9-e38a08d07577",
   "metadata": {},
   "source": [
    "## Download the iris dataset"
   ]
  },
  {
   "cell_type": "code",
   "execution_count": 68,
   "id": "9b07edd6-79ad-445c-be77-d99545dad7c8",
   "metadata": {},
   "outputs": [],
   "source": [
    "# Read the data into a pandas data frame\n",
    "df = pd.read_csv('../data/iris.dat')\n",
    "\n",
    "Y = df['class'].to_numpy()\n",
    "X = df[['sepal_length', 'sepal_width', 'petal_length', 'petal_width']].to_numpy()"
   ]
  },
  {
   "cell_type": "markdown",
   "id": "eedc86db-a0bf-489a-a7bb-c8261c40bbea",
   "metadata": {},
   "source": [
    "## Perform the linear discriminant analysis"
   ]
  },
  {
   "cell_type": "code",
   "execution_count": 69,
   "id": "b46967e7-6c52-4bff-901a-e0f7f98d347f",
   "metadata": {},
   "outputs": [],
   "source": [
    "model = LinearDiscriminantAnalysis().fit(X, Y)"
   ]
  },
  {
   "cell_type": "markdown",
   "id": "3abd3c2b-5330-4100-a645-d11c042d9ea2",
   "metadata": {},
   "source": [
    "## Report the results"
   ]
  },
  {
   "cell_type": "code",
   "execution_count": 70,
   "id": "9a101595-313c-48cf-a92f-0e7083f7933e",
   "metadata": {},
   "outputs": [],
   "source": [
    "def report_confusion_matrix(response, covariate, model):\n",
    "    print(\"Confusion matrix:\")\n",
    "    print(tabulate(\n",
    "        np.concatenate([\n",
    "            [['Y = 0'], ['Y = 1'], ['Y = 2']],\n",
    "            confusion_matrix(response, model.predict(covariate))\n",
    "        ], axis=1),\n",
    "        headers=['h = 0', 'h = 1', 'h = 2']\n",
    "    ))\n",
    "\n",
    "def report_missclassification_rate(response, covariate, model):\n",
    "    print(f\"Misclassification rate: {zero_one_loss(response, model.predict(covariate)):.3}\")"
   ]
  },
  {
   "cell_type": "code",
   "execution_count": 73,
   "id": "baa5478d-c616-43dd-ad50-a33c08e70583",
   "metadata": {},
   "outputs": [
    {
     "name": "stdout",
     "output_type": "stream",
     "text": [
      "Misclassification rate: 0.02\n",
      "Confusion matrix:\n",
      "         h = 0    h = 1    h = 2\n",
      "-----  -------  -------  -------\n",
      "Y = 0       50        0        0\n",
      "Y = 1        0       48        2\n",
      "Y = 2        0        1       49\n"
     ]
    }
   ],
   "source": [
    "report_missclassification_rate(Y, X, model)\n",
    "report_confusion_matrix(Y, X, model)"
   ]
  },
  {
   "cell_type": "markdown",
   "id": "2ae2899a-c43e-44c0-bae8-61b4c17c208d",
   "metadata": {},
   "source": [
    "## Estimate the true error rate\n",
    "LDA produces linear classifiers, and the set of *all* linear classifiers has VC dimension $n^{d+1}$.\n",
    "Therefore VC theory tells us that\n",
    "$$\n",
    "    \\hat L_n (h) \\pm \\varepsilon ,\\,\n",
    "    \\varepsilon = \\frac{32}{n} \\log \\left( \\frac{8 \\left( n^{d+1} + 1 \\right)}{\\alpha} \\right)\n",
    "$$\n",
    "is a $1-\\alpha$ confidence interval for the true error rate.\n",
    "Here $d = 4$ (since $X$ has *four* features) and $n = 150$,\n",
    "so for $\\alpha = 0.05$ this yields\n",
    "$$\n",
    "    \\varepsilon = \\frac{32}{150} \\log \\left( \\frac{8 \\left( {150}^5 + 1 \\right)}{0.05} \\right)\n",
    "    \\approx 6.43\n",
    "$$"
   ]
  },
  {
   "cell_type": "code",
   "execution_count": 79,
   "id": "0218f5be-933d-4a3e-97b5-3bb8f8fbb7bc",
   "metadata": {},
   "outputs": [
    {
     "name": "stdout",
     "output_type": "stream",
     "text": [
      "Half-width = 6.43\n"
     ]
    }
   ],
   "source": [
    "# Computing the half-width of the confidence interval\n",
    "n = len(Y)\n",
    "d = X.shape[1]\n",
    "\n",
    "alpha = 0.05\n",
    "\n",
    "epsilon = (32/n)*np.log(8*(n**(d + 1) + 1)/alpha)\n",
    "print(f\"Half-width = {epsilon:.3}\")"
   ]
  },
  {
   "cell_type": "markdown",
   "id": "910ce8de-0012-4018-8f3f-23f657c76375",
   "metadata": {},
   "source": [
    "## Conclusion\n",
    "We note that the half-width is larger than 1, which means that the confidence interval\n",
    "we obtain from it is **useless**, since it will cover all of the interval $[0, 1]$.\n",
    "In other words: all we are able to conclude is that the true error rate is between $0$ and $1$,\n",
    "which we already knew -- this particular confidence interval has given us no new information.\n",
    "\n",
    "Note that, as shown below, in the same setting where $d = 4$ and we are using linear classifiers,\n",
    "the confidence interval as constructed above would have a half-width of $0.5$ when $n \\approx 3,000$\n",
    "(i.e. twenty times more data points than we currently have)."
   ]
  },
  {
   "cell_type": "code",
   "execution_count": 84,
   "id": "d38c8b11-f0a7-4b11-9f27-ea17d9fde7ac",
   "metadata": {},
   "outputs": [
    {
     "name": "stdout",
     "output_type": "stream",
     "text": [
      "Half-width = 0.481\n"
     ]
    }
   ],
   "source": [
    "n = 3000\n",
    "d = 4\n",
    "\n",
    "alpha = 0.05\n",
    "\n",
    "epsilon = (32/n)*np.log(8*(n**(d + 1) + 1)/alpha)\n",
    "print(f\"Half-width = {epsilon:.3}\")"
   ]
  }
 ],
 "metadata": {
  "kernelspec": {
   "display_name": "Python 3 (ipykernel)",
   "language": "python",
   "name": "python3"
  },
  "language_info": {
   "codemirror_mode": {
    "name": "ipython",
    "version": 3
   },
   "file_extension": ".py",
   "mimetype": "text/x-python",
   "name": "python",
   "nbconvert_exporter": "python",
   "pygments_lexer": "ipython3",
   "version": "3.12.3"
  }
 },
 "nbformat": 4,
 "nbformat_minor": 5
}
