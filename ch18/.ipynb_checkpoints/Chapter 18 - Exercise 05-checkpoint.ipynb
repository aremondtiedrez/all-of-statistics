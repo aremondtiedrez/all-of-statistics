{
 "cells": [
  {
   "cell_type": "markdown",
   "id": "1cb1326d",
   "metadata": {},
   "source": [
    "Here are breast cancer data from Morrison et al. (1973)\n",
    "on diagnostic center ($X_1$), nuclear grade ($X_2$), and\n",
    "survival ($X_3$):\n",
    "\n",
    "|            $X_2$ | malignant | malignant | benign |   benign |\n",
    "| ----------------:| ---------:| ---------:| ------:| --------:|\n",
    "|            $X_3$ |      died |  survived |   died | survived |\n",
    "|    $X_1$: Boston |        35 |        59 |     47 |      112 |\n",
    "| $X_1$: Glamorgan |        42 |        77 |     26 |       76 |"
   ]
  },
  {
   "cell_type": "code",
   "execution_count": 1,
   "id": "b4467c01",
   "metadata": {},
   "outputs": [],
   "source": [
    "import numpy as np\n",
    "import scipy.stats"
   ]
  },
  {
   "cell_type": "code",
   "execution_count": 3,
   "id": "e70f9ea4",
   "metadata": {},
   "outputs": [],
   "source": [
    "# Manually enter the data\n",
    "Y = np.array([\n",
    "    [[47, 112], [35, 59]],\n",
    "    [[26, 76], [42, 77]]\n",
    "])"
   ]
  },
  {
   "cell_type": "markdown",
   "id": "7c4adc68",
   "metadata": {},
   "source": [
    "1. Treat this as a multinomial and\n",
    "   find the maximum likelihood estimator.\n",
    "2. If someone has a tumor classified as benign\n",
    "   at the Glamorgan clinic, what is the estimated\n",
    "   probability that they will die?\n",
    "   Find the standard error for this estimate."
   ]
  },
  {
   "cell_type": "code",
   "execution_count": 4,
   "id": "895d8d70",
   "metadata": {},
   "outputs": [
    {
     "name": "stdout",
     "output_type": "stream",
     "text": [
      "Estimating theta\n",
      "---------------------------------\n",
      "Max. likelihood est.: 0.25\n",
      "Std. error estimate:  0.043\n",
      "Confidence interval: (0.17, 0.34)\n"
     ]
    }
   ],
   "source": [
    "# Number of samples\n",
    "n = Y.sum()\n",
    "\n",
    "# MLE for p\n",
    "p = Y/Y.sum()\n",
    "\n",
    "# MLE for theta = P(die | benign, Glamorgan)\n",
    "theta = p[1,0,0]/(p[1,0,0] + p[1,0,1])\n",
    "\n",
    "# Estimate of the standard error of MLE for theta\n",
    "se = np.sqrt(\n",
    "    (p[1,0,0]*p[1,0,1])\n",
    "    /(n*(p[1,0,0] + p[1,0,1])**3)\n",
    ")\n",
    "\n",
    "# Asymptotic 95 percent confidence interval\n",
    "alpha = 0.05\n",
    "z = scipy.stats.norm.isf(alpha/2)\n",
    "lower_bound = theta - z*se\n",
    "upper_bound = theta + z*se\n",
    "\n",
    "# Report the results\n",
    "print(\n",
    "    \"Estimating theta\\n\"\n",
    "    \"---------------------------------\\n\"\n",
    "    f\"Max. likelihood est.: {theta:.2}\\n\"\n",
    "    f\"Std. error estimate:  {se:.2}\\n\"\n",
    "    f\"Confidence interval: ({lower_bound:.2}, {upper_bound:.2})\"\n",
    ")"
   ]
  },
  {
   "cell_type": "markdown",
   "id": "df59422f",
   "metadata": {},
   "source": [
    "Test the null hypotheses\n",
    "$$\n",
    "    X_i \\amalg X_j \\,|\\, X_k\n",
    "$$\n",
    "for $i$, $j$, and $k$ distinct using the test from Exercise 4 (of the same chapter)."
   ]
  },
  {
   "cell_type": "code",
   "execution_count": 4,
   "id": "a0c41508",
   "metadata": {},
   "outputs": [
    {
     "name": "stdout",
     "output_type": "stream",
     "text": [
      "Testing the conditional independence of X1 and X2 given X3.\n",
      "Test statistic: 13.8\n",
      "p-value: 0.00102\n"
     ]
    }
   ],
   "source": [
    "# Y_{abc} Y_{..c}\n",
    "numerator = np.einsum('abc, c -> abc', Y, Y.sum(axis=(0,1)))\n",
    "\n",
    "# Y_{a.c} Y_{.bc}\n",
    "denominator = np.einsum('ac, bc -> abc', Y.sum(axis=1), Y.sum(axis=0))\n",
    "\n",
    "# Test statistics for X1 indep of X2 given X3\n",
    "T = 2*np.sum(Y * np.log(numerator/denominator))\n",
    "\n",
    "# Corresponding pvalue\n",
    "pval = scipy.stats.chi2.sf(T, df=2)\n",
    "\n",
    "# Report result\n",
    "print(\n",
    "    \"Testing the conditional independence of X1 and X2 given X3.\\n\"\n",
    "    f\"Test statistic: {T:.3}\\n\"\n",
    "    f\"p-value: {pval:.3}\"\n",
    ")"
   ]
  },
  {
   "cell_type": "code",
   "execution_count": 5,
   "id": "c2badaf7",
   "metadata": {},
   "outputs": [
    {
     "name": "stdout",
     "output_type": "stream",
     "text": [
      "Testing the conditional independence of X1 and X3 given X2.\n",
      "Test statistic: 0.6\n",
      "p-value: 0.741\n"
     ]
    }
   ],
   "source": [
    "# Y_{abc} Y_{.b.}\n",
    "numerator = np.einsum('abc, b -> abc', Y, Y.sum(axis=(0,2)))\n",
    "\n",
    "# Y_{a.c} Y_{.bc}\n",
    "denominator = np.einsum('ab, bc -> abc', Y.sum(axis=2), Y.sum(axis=0))\n",
    "\n",
    "# Test statistics for X1 indep of X3 given X2\n",
    "T = 2*np.sum(Y * np.log(numerator/denominator))\n",
    "\n",
    "# Corresponding pvalue\n",
    "pval = scipy.stats.chi2.sf(T, df=2)\n",
    "\n",
    "# Report result\n",
    "print(\n",
    "    \"Testing the conditional independence of X1 and X3 given X2.\\n\"\n",
    "    f\"Test statistic: {T:.3}\\n\"\n",
    "    f\"p-value: {pval:.3}\"\n",
    ")"
   ]
  },
  {
   "cell_type": "code",
   "execution_count": 6,
   "id": "5ac7208d",
   "metadata": {},
   "outputs": [
    {
     "name": "stdout",
     "output_type": "stream",
     "text": [
      "Testing the conditional independence of X2 and X3 given X1.\n",
      "Test statistic: 4.07\n",
      "p-value: 0.131\n"
     ]
    }
   ],
   "source": [
    "# Y_{abc} Y_{a..}\n",
    "numerator = np.einsum('abc, a -> abc', Y, Y.sum(axis=(1,2)))\n",
    "\n",
    "# Y_{ab.} Y_{a.c}\n",
    "denominator = np.einsum('ab, ac -> abc', Y.sum(axis=2), Y.sum(axis=1))\n",
    "\n",
    "# Test statistics for X2 indep of X3 given X1\n",
    "T = 2*np.sum(Y * np.log(numerator/denominator))\n",
    "\n",
    "# Corresponding pvalue\n",
    "pval = scipy.stats.chi2.sf(T, df=2)\n",
    "\n",
    "# Report result\n",
    "print(\n",
    "    \"Testing the conditional independence of X2 and X3 given X1.\\n\"\n",
    "    f\"Test statistic: {T:.3}\\n\"\n",
    "    f\"p-value: {pval:.3}\"\n",
    ")"
   ]
  },
  {
   "cell_type": "code",
   "execution_count": 11,
   "id": "fcbf792d",
   "metadata": {},
   "outputs": [
    {
     "name": "stdout",
     "output_type": "stream",
     "text": [
      "Testing the conditional independence of X1 and X2 given X3.\n",
      "Test statistic: 13.3\n",
      "p-value: 0.000261\n"
     ]
    }
   ],
   "source": [
    "# SANITY CHECK\n",
    "# UNCONDITIONAL independence of X1 and X2?\n",
    "\n",
    "# Y_{ab.} Y_{...}\n",
    "numerator = Y.sum(axis=2)*Y.sum()\n",
    "\n",
    "# Y_{a..} Y_{.b.}\n",
    "denominator = np.einsum('a, b -> ab', Y.sum(axis=(1,2)), Y.sum(axis=(0,2)))\n",
    "\n",
    "# Y_{ab.}\n",
    "factor = Y.sum(axis=2)\n",
    "\n",
    "# Test statistics for X1 indep of X2\n",
    "T = 2*np.sum(factor * np.log(numerator/denominator))\n",
    "\n",
    "# Corresponding pvalue\n",
    "pval = scipy.stats.chi2.sf(T, df=1)\n",
    "\n",
    "# Report result\n",
    "print(\n",
    "    \"Testing the conditional independence of X1 and X2 given X3.\\n\"\n",
    "    f\"Test statistic: {T:.3}\\n\"\n",
    "    f\"p-value: {pval:.3}\"\n",
    ")"
   ]
  },
  {
   "cell_type": "code",
   "execution_count": 17,
   "id": "ca89b808",
   "metadata": {},
   "outputs": [
    {
     "data": {
      "text/plain": [
       "array([[159,  94],\n",
       "       [102, 119]])"
      ]
     },
     "execution_count": 17,
     "metadata": {},
     "output_type": "execute_result"
    }
   ],
   "source": [
    "# Visual check on that last part:\n",
    "# the 2-by-2 contingency table for X1 & X2\n",
    "Y.sum(axis=2)"
   ]
  },
  {
   "cell_type": "code",
   "execution_count": 19,
   "id": "6443b7fc",
   "metadata": {},
   "outputs": [
    {
     "data": {
      "text/plain": [
       "1.9734042553191489"
      ]
     },
     "execution_count": 19,
     "metadata": {},
     "output_type": "execute_result"
    }
   ],
   "source": [
    "# [ctd.]\n",
    "# The odds ratio is not exactly close to 1!\n",
    "(159*119)/(102*94)"
   ]
  }
 ],
 "metadata": {
  "kernelspec": {
   "display_name": "venv",
   "language": "python",
   "name": "venv"
  },
  "language_info": {
   "codemirror_mode": {
    "name": "ipython",
    "version": 3
   },
   "file_extension": ".py",
   "mimetype": "text/x-python",
   "name": "python",
   "nbconvert_exporter": "python",
   "pygments_lexer": "ipython3",
   "version": "3.12.3"
  }
 },
 "nbformat": 4,
 "nbformat_minor": 5
}
