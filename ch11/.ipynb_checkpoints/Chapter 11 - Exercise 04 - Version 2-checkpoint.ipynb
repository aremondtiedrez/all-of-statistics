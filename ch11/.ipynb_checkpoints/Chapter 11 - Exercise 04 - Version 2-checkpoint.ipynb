{
 "cells": [
  {
   "cell_type": "code",
   "execution_count": 1,
   "id": "a900433a",
   "metadata": {},
   "outputs": [],
   "source": [
    "from collections import namedtuple\n",
    "import numpy as np\n",
    "import scipy.stats"
   ]
  },
  {
   "cell_type": "code",
   "execution_count": 93,
   "id": "096e4447",
   "metadata": {},
   "outputs": [],
   "source": [
    "\"\"\"\n",
    "\n",
    "Since we very often pass the tuple (n1, s1, n2, s2)\n",
    "as an argument, we give that tuple a name 'data'.\n",
    "\n",
    "n1: number of patients in treatment 1\n",
    "s1: number of successes in treatment 1\n",
    "n2: number of patients in treatment 2\n",
    "s2: number of successes in treatment 2\n",
    "\n",
    "\"\"\"\n",
    "\n",
    "data = namedtuple('data', ['n1', 's1', 'n2', 's2'])\n",
    "\n",
    "\"\"\"\n",
    "\n",
    "We also define a namedtuple for the configuration.\n",
    "\n",
    "parameter: tau or psi\n",
    "method: mle, parametric bootstrap, or posterior simulation\n",
    "B: number of replications (for parametric bootstrap or posterior simulation)\n",
    "interval_type: normal or percentile\n",
    "alpha: significance level (between 0 and 1)\n",
    "\n",
    "\"\"\"\n",
    "\n",
    "config = namedtuple('config', ['parameter', 'method', 'B', 'interval_type', 'alpha'])\n",
    "\n",
    "#####################\n",
    "# Auxiliary functions\n",
    "#####################\n",
    "\n",
    "def mle_estimator(p1, p2, parameter):\n",
    "    if parameter == 'tau':\n",
    "        return p2 - p1\n",
    "    if parameter == 'psi':\n",
    "        return log_odds(p1, p2)\n",
    "\n",
    "def fisher_std_err(data, parameter):\n",
    "    \n",
    "    p1_mle = data.s1/data.n1\n",
    "    p2_mle = data.s2/data.n2\n",
    "    \n",
    "    if parameter == 'tau':\n",
    "        return np.sqrt(\n",
    "            p1_mle*(1-p1_mle)/data.n1 + p2_mle*(1-p2_mle)/data.n2\n",
    "        )\n",
    "        \n",
    "    if parameter == 'psi':\n",
    "        return np.sqrt(\n",
    "            1/( data.n1 * p1_mle * (1 - p1_mle) )\n",
    "            + 1/( data.n2 * p2_mle * (1 - p2_mle) )\n",
    "        )\n",
    "        \n",
    "def log_odds(p1, p2):\n",
    "    return np.log(\n",
    "        ( p1/(1-p1) ) / ( p2/(1-p2) )\n",
    "    )\n",
    "    \n",
    "def confidence_interval(center, error, replications, alpha, interval_type):\n",
    "    \n",
    "    if interval_type == 'normal':\n",
    "        z = scipy.stats.norm.isf(alpha/2)\n",
    "        lower_bound = center - z*error\n",
    "        upper_bound = center + z*error\n",
    "    \n",
    "    if interval_type == 'percentile':\n",
    "        lower_bound = np.quantile(replications, q=alpha/2)\n",
    "        upper_bound = np.quantile(replications, q=1-alpha/2)\n",
    "    \n",
    "    return (lower_bound, upper_bound)\n",
    "\n",
    "###############\n",
    "# Main function\n",
    "###############\n",
    "\n",
    "def result(data, config):\n",
    "    \n",
    "    # MLE\n",
    "    p1_mle = data.s1/data.n1\n",
    "    p2_mle = data.s2/data.n2\n",
    "    estimate = mle_estimator(p1_mle, p2_mle, config.parameter)\n",
    "    \n",
    "    # Standard error from the Fisher information\n",
    "    if config.method == 'mle':\n",
    "        std_err = fisher_std_err(data, config.parameter)\n",
    "        \n",
    "    # Parametric bootstrap replications\n",
    "    if config.method == 'parametric bootstrap':\n",
    "        bernoulli1_replications = scipy.stats.bernoulli.rvs(p=p1_mle, size=[data.n1, config.B]).mean(axis=0)\n",
    "        bernoulli2_replications = scipy.stats.bernoulli.rvs(p=p2_mle, size=[data.n2, config.B]).mean(axis=0)            \n",
    "    # Simulation replications\n",
    "    if config.method == 'posterior simulation':\n",
    "        bernoulli1_replications = scipy.stats.beta.rvs(a=data.s1, b=data.n1-data.s1, size=config.B)\n",
    "        bernoulli2_replications = scipy.stats.beta.rvs(a=data.s2, b=data.n2-data.s2, size=config.B)\n",
    "    # MLE replications & standard error from replications\n",
    "    if config.method in ('parametric bootstrap', 'posterior simulation'):\n",
    "        mle_replications = mle_estimator(bernoulli1_replications, bernoulli2_replications, config.parameter)\n",
    "        if config.method == 'posterior simulation':\n",
    "            estimate = mle_replications.mean()\n",
    "        std_err = mle_replications.std()\n",
    "       \n",
    "    # Confidence interval\n",
    "    if config.method not in ('parametric bootstrap', 'posterior simulation'):\n",
    "        \"\"\"\n",
    "        Having to set mle_replications to None when config.method == 'mle'\n",
    "        is admittedly a bit clunky. The upside is that the confidence_interval\n",
    "        function can take a host of arguments (namely estimate, std_err, and mle_replications)\n",
    "        even when it only needs some of them!\n",
    "        \"\"\"\n",
    "        mle_replications = None\n",
    "    interval = confidence_interval(\n",
    "        estimate,\n",
    "        std_err,\n",
    "        mle_replications,\n",
    "        config.alpha,\n",
    "        config.interval_type\n",
    "    )\n",
    "        \n",
    "    # Pass the results\n",
    "    return config, estimate, std_err, interval\n",
    "\n",
    "##########################\n",
    "# Printing out the results\n",
    "##########################\n",
    "\n",
    "def report(result):\n",
    "    config, estimate, std_err, interval = result\n",
    "    lower_bound, upper_bound = interval\n",
    "    report_text = (\n",
    "        \"--------------------------------------------------\\n\"\n",
    "        f\"Method:        {config.method.upper()}\\n\"\n",
    "        f\"Parameter:     {config.parameter}\\n\"\n",
    "    )\n",
    "    if config.method in ('parametric bootstrap', 'posterior simulation'):\n",
    "        report_text += f\"Interval type: {config.interval_type}\\n\"\n",
    "    report_text += (\n",
    "        \"--------------------------------------------------\\n\"\n",
    "    )\n",
    "    if config.method == 'posterior simulation':\n",
    "        report_text += f\"Posterior mean:      {estimate:.3f}\\n\"\n",
    "    else:\n",
    "        report_text += f\"MLE:                 {estimate:.3f}\\n\"\n",
    "    report_text += (\n",
    "        f\"Standard error:      {std_err:.4f}\\n\"\n",
    "        f\"Confidence interval: ({lower_bound:.4f}, {upper_bound:.4f})\\n\"\n",
    "        \"--------------------------------------------------\"\n",
    "    )\n",
    "    print(report_text)"
   ]
  },
  {
   "cell_type": "markdown",
   "id": "c3603450",
   "metadata": {},
   "source": [
    "(a) Find the MLE of $\\tau$.\n",
    "Find the standard error and\n",
    "90 percent confidence interval using the delta method."
   ]
  },
  {
   "cell_type": "code",
   "execution_count": 94,
   "id": "2376155c",
   "metadata": {},
   "outputs": [
    {
     "name": "stdout",
     "output_type": "stream",
     "text": [
      "--------------------------------------------------\n",
      "Method:        MLE\n",
      "Parameter:     tau\n",
      "--------------------------------------------------\n",
      "MLE:                 0.200\n",
      "Standard error:      0.0894\n",
      "Confidence interval: (0.0529, 0.3471)\n",
      "--------------------------------------------------\n"
     ]
    }
   ],
   "source": [
    "current_data = data(50, 30, 50, 40)\n",
    "\n",
    "\"\"\"\n",
    "configuration:\n",
    "   parameter\n",
    "   method\n",
    "   B\n",
    "   interval_type -- must pass 'normal' when using the MLE method\n",
    "   alpha\n",
    "\"\"\"\n",
    "\n",
    "report(result(current_data, config('tau', 'mle', None, 'normal', 0.1)))"
   ]
  },
  {
   "cell_type": "markdown",
   "id": "1da5b363",
   "metadata": {},
   "source": [
    "(b) Find the standard error and 90 percent confidence interval using the parametric bootstrap."
   ]
  },
  {
   "cell_type": "code",
   "execution_count": 105,
   "id": "24b8fe55",
   "metadata": {},
   "outputs": [
    {
     "name": "stdout",
     "output_type": "stream",
     "text": [
      "--------------------------------------------------\n",
      "Method:        PARAMETRIC BOOTSTRAP\n",
      "Parameter:     tau\n",
      "Interval type: normal\n",
      "--------------------------------------------------\n",
      "MLE:                 0.200\n",
      "Standard error:      0.0897\n",
      "Confidence interval: (0.0524, 0.3476)\n",
      "--------------------------------------------------\n",
      "--------------------------------------------------\n",
      "Method:        PARAMETRIC BOOTSTRAP\n",
      "Parameter:     tau\n",
      "Interval type: percentile\n",
      "--------------------------------------------------\n",
      "MLE:                 0.200\n",
      "Standard error:      0.0893\n",
      "Confidence interval: (0.0600, 0.3400)\n",
      "--------------------------------------------------\n"
     ]
    }
   ],
   "source": [
    "report(result(current_data, config('tau', 'parametric bootstrap', int(1e5), 'normal', 0.1)))\n",
    "report(result(current_data, config('tau', 'parametric bootstrap', int(1e5), 'percentile', 0.1)))"
   ]
  },
  {
   "cell_type": "markdown",
   "id": "0f8b3ea7",
   "metadata": {},
   "source": [
    "(c) Use the prior $f(p_1, p_2) = 1$.\n",
    "Use simulation to find the posterior mean and posterior 90 percent interval for $\\tau$."
   ]
  },
  {
   "cell_type": "code",
   "execution_count": 114,
   "id": "726bd8a5",
   "metadata": {},
   "outputs": [
    {
     "name": "stdout",
     "output_type": "stream",
     "text": [
      "--------------------------------------------------\n",
      "Method:        POSTERIOR SIMULATION\n",
      "Parameter:     tau\n",
      "Interval type: normal\n",
      "--------------------------------------------------\n",
      "Posterior mean:      0.200\n",
      "Standard error:      0.0886\n",
      "Confidence interval: (0.0543, 0.3458)\n",
      "--------------------------------------------------\n",
      "--------------------------------------------------\n",
      "Method:        POSTERIOR SIMULATION\n",
      "Parameter:     tau\n",
      "Interval type: percentile\n",
      "--------------------------------------------------\n",
      "Posterior mean:      0.200\n",
      "Standard error:      0.0886\n",
      "Confidence interval: (0.0531, 0.3444)\n",
      "--------------------------------------------------\n"
     ]
    }
   ],
   "source": [
    "report(result(current_data, config('tau', 'posterior simulation', int(1e6), 'normal', 0.1)))\n",
    "report(result(current_data, config('tau', 'posterior simulation', int(1e6), 'percentile', 0.1)))"
   ]
  },
  {
   "cell_type": "markdown",
   "id": "58bbbd37",
   "metadata": {},
   "source": [
    "(d) Let\n",
    "$$ \\psi = \\log \\left( \\frac{p_1}{1-p_1} \\div \\frac{p_2}{1-p_2} \\right)$$\n",
    "be the log-odds ratio.\n",
    "Note that $\\psi = 0$ if $p_1 = p_2$.\n",
    "Find the MLE of $\\psi$.\n",
    "Use the delta method to find a 90 percent confidence interval for $\\psi$."
   ]
  },
  {
   "cell_type": "code",
   "execution_count": 115,
   "id": "f04d8c3a",
   "metadata": {},
   "outputs": [
    {
     "name": "stdout",
     "output_type": "stream",
     "text": [
      "--------------------------------------------------\n",
      "Method:        MLE\n",
      "Parameter:     psi\n",
      "--------------------------------------------------\n",
      "MLE:                 -0.981\n",
      "Standard error:      0.4564\n",
      "Confidence interval: (-1.7316, -0.2301)\n",
      "--------------------------------------------------\n"
     ]
    }
   ],
   "source": [
    "report(result(current_data, config('psi', 'mle', None, 'normal', 0.1)))"
   ]
  },
  {
   "cell_type": "markdown",
   "id": "16d679fc",
   "metadata": {},
   "source": [
    "(e) Use simulation to find the posterior mean and posterior 90 percent interval for $\\psi$."
   ]
  },
  {
   "cell_type": "code",
   "execution_count": 116,
   "id": "a4cb234c",
   "metadata": {},
   "outputs": [
    {
     "name": "stdout",
     "output_type": "stream",
     "text": [
      "--------------------------------------------------\n",
      "Method:        POSTERIOR SIMULATION\n",
      "Parameter:     psi\n",
      "Interval type: normal\n",
      "--------------------------------------------------\n",
      "Posterior mean:      -1.011\n",
      "Standard error:      0.4645\n",
      "Confidence interval: (-1.7750, -0.2468)\n",
      "--------------------------------------------------\n",
      "--------------------------------------------------\n",
      "Method:        POSTERIOR SIMULATION\n",
      "Parameter:     psi\n",
      "Interval type: percentile\n",
      "--------------------------------------------------\n",
      "Posterior mean:      -1.010\n",
      "Standard error:      0.4644\n",
      "Confidence interval: (-1.7842, -0.2584)\n",
      "--------------------------------------------------\n"
     ]
    }
   ],
   "source": [
    "report(result(current_data, config('psi', 'posterior simulation', int(1e6), 'normal', 0.1)))\n",
    "report(result(current_data, config('psi', 'posterior simulation', int(1e6), 'percentile', 0.1)))"
   ]
  }
 ],
 "metadata": {
  "kernelspec": {
   "display_name": "venv",
   "language": "python",
   "name": "venv"
  },
  "language_info": {
   "codemirror_mode": {
    "name": "ipython",
    "version": 3
   },
   "file_extension": ".py",
   "mimetype": "text/x-python",
   "name": "python",
   "nbconvert_exporter": "python",
   "pygments_lexer": "ipython3",
   "version": "3.12.3"
  }
 },
 "nbformat": 4,
 "nbformat_minor": 5
}
