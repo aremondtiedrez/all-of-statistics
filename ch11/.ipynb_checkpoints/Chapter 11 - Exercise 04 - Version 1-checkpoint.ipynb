{
 "cells": [
  {
   "cell_type": "markdown",
   "id": "627aa7ee",
   "metadata": {},
   "source": [
    "Suppose that 50 people are given a placebo and\n",
    "50 are given a new treatment.\n",
    "30 placebo patients show improvement while\n",
    "40 treated patients show improvement.\n",
    "Let $\\tau = p_1 - p_2$ where\n",
    "$p_2$ is the probability of improving under treatment and\n",
    "$p_1$ is the probability of improving under placebo."
   ]
  },
  {
   "cell_type": "code",
   "execution_count": 7,
   "id": "f605684c",
   "metadata": {},
   "outputs": [],
   "source": [
    "from collections import namedtuple\n",
    "import numpy as np\n",
    "import scipy.stats"
   ]
  },
  {
   "cell_type": "markdown",
   "id": "85c3b015",
   "metadata": {},
   "source": [
    "(a) Find the MLE of $\\tau$.\n",
    "Find the standard error and\n",
    "90 percent confidence interval using the delta method."
   ]
  },
  {
   "cell_type": "code",
   "execution_count": 8,
   "id": "2a383feb",
   "metadata": {},
   "outputs": [],
   "source": [
    "\"\"\"\n",
    "\n",
    "Since we very often pass the tuple (n1, s1, n2, s2)\n",
    "as an argument, we give that tuple a name 'data'.\n",
    "\n",
    "n1: number of patients in treatment 1\n",
    "s1: number of successes in treatment 1\n",
    "n2: number of patients in treatment 2\n",
    "s2: number of successes in treatment 2\n",
    "\n",
    "\"\"\"\n",
    "\n",
    "data = namedtuple('data', ['n1', 's1', 'n2', 's2'])\n",
    "\n",
    "def tau_mle(data):\n",
    "    \n",
    "    return data.s2/data.n2 - data.s1/data.n1\n",
    "\n",
    "def std_err_mle_tau(data):\n",
    "    \n",
    "    p1_mle = data.s1/data.n1\n",
    "    p2_mle = data.s2/data.n2\n",
    "    \n",
    "    return np.sqrt(\n",
    "        p1_mle*(1-p1_mle)/data.n1 + p2_mle*(1-p2_mle)/data.n2\n",
    "    )\n",
    "\n",
    "def normal_interval(estimate, std_error, alpha):\n",
    "    \n",
    "    z = scipy.stats.norm.isf(alpha/2)\n",
    "    \n",
    "    lower_bound = estimate - z*std_error\n",
    "    upper_bound = estimate + z*std_error\n",
    "    \n",
    "    return lower_bound, upper_bound\n",
    "\n",
    "def interval_mle_tau(data, alpha):\n",
    "    \n",
    "    return normal_interval(\n",
    "        estimate=tau_mle(current_data),\n",
    "        std_error=std_err_mle_tau(current_data),\n",
    "        alpha=alpha\n",
    "    )\n",
    "\n",
    "def interval_text(interval):\n",
    "    \"\"\" Expects interval = (lower_bound, upper_bound). \"\"\"\n",
    "    \n",
    "    lower_bound, upper_bound = interval\n",
    "    \n",
    "    return f\"({lower_bound:.4f}, {upper_bound:.4f})\""
   ]
  },
  {
   "cell_type": "code",
   "execution_count": 3,
   "id": "a78e9a73",
   "metadata": {},
   "outputs": [
    {
     "name": "stdout",
     "output_type": "stream",
     "text": [
      "-----------\n",
      "METHOD: MLE\n",
      "-----------\n",
      "The MLE for tau is 0.200.\n",
      "The standard error estimate is 0.0894.\n",
      "The 90 percent confidence interval is (0.0529, 0.3471).\n"
     ]
    }
   ],
   "source": [
    "# Report the results\n",
    "\n",
    "current_data = data(50, 30, 50, 40)\n",
    "alpha = 0.1\n",
    "\n",
    "print(\n",
    "    \"-----------\\n\"\n",
    "    \"METHOD: MLE\\n\"\n",
    "    \"-----------\\n\"\n",
    "    f\"The MLE for tau is {tau_mle(current_data):.3f}.\\n\"\n",
    "    f\"The standard error estimate is {std_err_mle_tau(current_data):.4f}.\\n\"\n",
    "    f\"The 90 percent confidence interval is {\n",
    "        interval_text(interval_mle_tau(current_data, alpha))\n",
    "    }.\"\n",
    ")"
   ]
  },
  {
   "cell_type": "markdown",
   "id": "7259de8f",
   "metadata": {},
   "source": [
    "(b) Find the standard error and 90 percent confidence interval using the parametric bootstrap."
   ]
  },
  {
   "cell_type": "code",
   "execution_count": 1,
   "id": "65afcc8d",
   "metadata": {},
   "outputs": [],
   "source": [
    "def boot_samples(data, B):\n",
    "    \n",
    "    p1_mle = data.s1/data.n1\n",
    "    p2_mle = data.s2/data.n2\n",
    "    \n",
    "    bernoulli1_boot_replications = scipy.stats.bernoulli.rvs(p=p1_mle, size=[data.n1, B])\n",
    "    bernoulli2_boot_replications = scipy.stats.bernoulli.rvs(p=p2_mle, size=[data.n2, B])\n",
    "    \n",
    "    return bernoulli1_boot_replications, bernoulli2_boot_replications\n",
    "\n",
    "def tau_mle_boot_replications(data, B):\n",
    "\n",
    "    bernoulli1_boot_replications, bernoulli2_boot_replications = boot_samples(data, B)\n",
    "    \n",
    "    boot_sample_mean1 = bernoulli1_boot_replications.mean(axis=0)\n",
    "    boot_sample_mean2 = bernoulli2_boot_replications.mean(axis=0)\n",
    "    \n",
    "    return boot_sample_mean2 - boot_sample_mean1\n",
    "\n",
    "def std_err_boot(data, B):\n",
    "    \n",
    "    return tau_mle_boot_replications(data, B).std()\n",
    "\n",
    "def interval_boot_normal(data, alpha, B):\n",
    "\n",
    "    return normal_interval(\n",
    "        estimate=tau_mle(current_data),\n",
    "        std_error=std_err_boot(current_data, B=B),\n",
    "        alpha=alpha\n",
    "    )\n",
    "\n",
    "def percentile_interval(replications, alpha):\n",
    "    \n",
    "    lower_bound = np.quantile(replications, q=alpha/2)\n",
    "    upper_bound = np.quantile(replications, q=1 - alpha/2)\n",
    "    \n",
    "    return lower_bound, upper_bound\n",
    "\n",
    "def interval_boot_percentile(data, alpha, B):\n",
    "    \n",
    "    return percentile_interval(\n",
    "        replications=tau_mle_boot_replications(data, B),\n",
    "        alpha=alpha\n",
    "    )"
   ]
  },
  {
   "cell_type": "code",
   "execution_count": 6,
   "id": "b3e19c4d",
   "metadata": {},
   "outputs": [
    {
     "name": "stdout",
     "output_type": "stream",
     "text": [
      "-----------------\n",
      "METHOD: Bootstrap\n",
      "-----------------\n",
      "A standard error estimate is 0.0893.\n",
      "A 90 percent confidence Normal interval is (0.0529, 0.3471).\n",
      "A 90 percent confidence percentile interval is (0.0600, 0.3400).\n",
      "\n",
      "Note: the standard error and the confidence intervals\n",
      "come from **different** bootstrap replication runs.\n"
     ]
    }
   ],
   "source": [
    "# Report the results\n",
    "\n",
    "current_data = data(50, 30, 50, 40)\n",
    "alpha = 0.1\n",
    "B = int(1e5)\n",
    "\n",
    "print(\n",
    "    \"-----------------\\n\"\n",
    "    \"METHOD: Bootstrap\\n\"\n",
    "    \"-----------------\\n\"\n",
    "    f\"A standard error estimate is {std_err_boot(current_data, B):.4f}.\\n\"\n",
    "    f\"A 90 percent confidence Normal interval is {\n",
    "        interval_text(interval_boot_normal(current_data, alpha, B))\n",
    "    }.\\n\"\n",
    "    f\"A 90 percent confidence percentile interval is {\n",
    "        interval_text(interval_boot_percentile(current_data, alpha, B))\n",
    "    }.\\n\\n\"\n",
    "    \"Note: the standard error and the confidence intervals\\n\"\n",
    "    \"come from **different** bootstrap replication runs.\"\n",
    ")"
   ]
  },
  {
   "cell_type": "markdown",
   "id": "b6ee72bf",
   "metadata": {},
   "source": [
    "(c) Use the prior $f(p_1, p_2) = 1$.\n",
    "Use simulation to find the posterior mean and posterior 90 percent interval for $\\tau$."
   ]
  },
  {
   "cell_type": "code",
   "execution_count": 12,
   "id": "a2bc8733",
   "metadata": {},
   "outputs": [],
   "source": [
    "def sim_samples(data, B):\n",
    "    \n",
    "    bernoulli1_sim_replications = scipy.stats.beta.rvs(a=data.s1, b=data.n1-data.s1, size=B)\n",
    "    bernoulli2_sim_replications = scipy.stats.beta.rvs(a=data.s2, b=data.n2-data.s2, size=B)\n",
    "    \n",
    "    return bernoulli1_sim_replications, bernoulli2_sim_replications\n",
    "\n",
    "def tau_mle_sim_replications(data, B):\n",
    "    \n",
    "    bernoulli1_sim_replications, bernoulli2_sim_replications = sim_samples(data, B)\n",
    "    \n",
    "    return bernoulli2_sim_replications - bernoulli1_sim_replications\n",
    "\n",
    "def post_mean_tau_sim(data, B):\n",
    "    \n",
    "    return tau_mle_sim_replications(data, B).mean()\n",
    "\n",
    "def std_err_tau_sim(data, B):\n",
    "    \n",
    "    return tau_mle_sim_replications(data, B).std()\n",
    "\n",
    "def interval_tau_sim_normal(data, alpha, B):\n",
    "\n",
    "    return normal_interval(\n",
    "        estimate=post_mean_tau_sim(data=data, B=B),\n",
    "        std_error=std_err_tau_sim(data=data, B=B),\n",
    "        alpha=alpha\n",
    "    )\n",
    "    \n",
    "def interval_tau_sim_percentile(data, alpha, B):\n",
    "    \n",
    "    return percentile_interval(\n",
    "        replications=tau_mle_sim_replications(data, B),\n",
    "        alpha=alpha\n",
    "    )"
   ]
  },
  {
   "cell_type": "code",
   "execution_count": 18,
   "id": "6f2ffc61",
   "metadata": {},
   "outputs": [
    {
     "name": "stdout",
     "output_type": "stream",
     "text": [
      "----------------------------\n",
      "METHOD: Posterior simulation\n",
      "----------------------------\n",
      "A posterior mean estimate for tau is 0.200.\n",
      "A standard error estimate is 0.088.\n",
      "A 90 percent confidence interval is (0.0543, 0.3459).\n",
      "A 90 percent confidence percentile interval is (0.0530, 0.3442).\n",
      "\n",
      "Note: the standard error and the confidence intervals\n",
      "come from **different** simulation runs.\n"
     ]
    }
   ],
   "source": [
    "# Report the results\n",
    "\n",
    "current_data = data(50, 30, 50, 40)\n",
    "alpha = 0.1\n",
    "B = int(1e6)\n",
    "\n",
    "print(\n",
    "    \"----------------------------\\n\"\n",
    "    \"METHOD: Posterior simulation\\n\"\n",
    "    \"----------------------------\\n\"\n",
    "    f\"A posterior mean estimate for tau is {post_mean_tau_sim(current_data, B):.3f}.\\n\"\n",
    "    f\"A standard error estimate is {std_err_tau_sim(current_data, B):.3f}.\\n\"\n",
    "    f\"A 90 percent confidence interval is {\n",
    "        interval_text(interval_tau_sim_normal(current_data, alpha, B))\n",
    "    }.\\n\"\n",
    "    f\"A 90 percent confidence percentile interval is {\n",
    "        interval_text(interval_tau_sim_percentile(current_data, alpha, B))\n",
    "    }.\\n\\n\"\n",
    "    \"Note: the standard error and the confidence intervals\\n\"\n",
    "    \"come from **different** simulation runs.\"\n",
    ")"
   ]
  },
  {
   "cell_type": "markdown",
   "id": "a4314136",
   "metadata": {},
   "source": [
    "(d) Let\n",
    "$$ \\psi = \\log \\left( \\frac{p_1}{1-p_1} \\div \\frac{p_2}{1-p_2} \\right)$$\n",
    "be the log-odds ratio.\n",
    "Note that $\\psi = 0$ if $p_1 = p_2$.\n",
    "Find the MLE of $\\psi$.\n",
    "Use the delta method to find a 90 percent confidence interval for $\\psi$."
   ]
  },
  {
   "cell_type": "code",
   "execution_count": 15,
   "id": "79115d42",
   "metadata": {},
   "outputs": [],
   "source": [
    "def log_odds(p1, p2):\n",
    "    \n",
    "    return np.log(\n",
    "        ( p1/(1-p1) ) / ( p2/(1-p2) )\n",
    "    )\n",
    "\n",
    "def psi_mle(data):\n",
    "    \n",
    "    p1_mle = data.s1/data.n1\n",
    "    p2_mle = data.s2/data.n2\n",
    "    \n",
    "    return log_odds(p1_mle, p2_mle)\n",
    "    \n",
    "def std_err_mle_psi(data):\n",
    "    \n",
    "    p1_mle = data.s1/data.n1\n",
    "    p2_mle = data.s2/data.n2\n",
    "    \n",
    "    return np.sqrt(\n",
    "        1/( data.n1 * p1_mle * (1 - p1_mle) )\n",
    "        + 1/( data.n2 * p2_mle * (1 - p2_mle) )\n",
    "    )\n",
    "    \n",
    "def interval_mle_psi(data, alpha):\n",
    "    \n",
    "    return normal_interval(\n",
    "        estimate=psi_mle(current_data),\n",
    "        std_error=std_err_mle_psi(current_data),\n",
    "        alpha=alpha\n",
    "    )"
   ]
  },
  {
   "cell_type": "code",
   "execution_count": 10,
   "id": "6f9b0576",
   "metadata": {},
   "outputs": [
    {
     "name": "stdout",
     "output_type": "stream",
     "text": [
      "-----------\n",
      "METHOD: MLE\n",
      "-----------\n",
      "The MLE for psi is -0.981.\n",
      "The standard error estimate is 0.4564.\n",
      "The 90 percent confidence interval is (-1.7316, -0.2301).\n"
     ]
    }
   ],
   "source": [
    "# Report the results\n",
    "\n",
    "current_data = data(50, 30, 50, 40)\n",
    "alpha = 0.1\n",
    "\n",
    "print(\n",
    "    \"-----------\\n\"\n",
    "    \"METHOD: MLE\\n\"\n",
    "    \"-----------\\n\"\n",
    "    f\"The MLE for psi is {psi_mle(current_data):.3f}.\\n\"\n",
    "    f\"The standard error estimate is {std_err_mle_psi(current_data):.4f}.\\n\"\n",
    "    f\"The 90 percent confidence interval is {\n",
    "        interval_text(interval_mle_psi(current_data, alpha))\n",
    "    }.\"\n",
    ")"
   ]
  },
  {
   "cell_type": "markdown",
   "id": "2cbb22d1",
   "metadata": {},
   "source": [
    "(e) Use simulation to find the posterior mean and posterior 90 percent interval for $\\psi$."
   ]
  },
  {
   "cell_type": "code",
   "execution_count": 16,
   "id": "50a30615",
   "metadata": {},
   "outputs": [],
   "source": [
    "def psi_mle_sim_replications(data, B):\n",
    "    \n",
    "    bernoulli1_sim_replications, bernoulli2_sim_replications = sim_samples(data, B)\n",
    "    \n",
    "    return log_odds(bernoulli1_sim_replications, bernoulli2_sim_replications)\n",
    "\n",
    "def post_mean_psi_sim(data, B):\n",
    "    \n",
    "    return psi_mle_sim_replications(data, B).mean()\n",
    "\n",
    "def std_err_psi_sim(data, B):\n",
    "    \n",
    "    return psi_mle_sim_replications(data, B).std()\n",
    "\n",
    "def interval_psi_sim_normal(data, alpha, B):\n",
    "\n",
    "    return normal_interval(\n",
    "        estimate=post_mean_psi_sim(data=data, B=B),\n",
    "        std_error=std_err_psi_sim(data=data, B=B),\n",
    "        alpha=alpha\n",
    "    )\n",
    "    \n",
    "def interval_psi_sim_percentile(data, alpha, B):\n",
    "    \n",
    "    return percentile_interval(\n",
    "        replications=psi_mle_sim_replications(data, B),\n",
    "        alpha=alpha\n",
    "    )"
   ]
  },
  {
   "cell_type": "code",
   "execution_count": 17,
   "id": "b2a853bb",
   "metadata": {},
   "outputs": [
    {
     "name": "stdout",
     "output_type": "stream",
     "text": [
      "----------------------------\n",
      "METHOD: Posterior simulation\n",
      "----------------------------\n",
      "A posterior mean estimate for psi is -1.010.\n",
      "A standard error estimate is 0.464.\n",
      "A 90 percent confidence interval is (-1.7749, -0.2470).\n",
      "A 90 percent confidence percentile interval is (-1.7852, -0.2575).\n",
      "\n",
      "Note: the standard error and the confidence intervals\n",
      "come from **different** simulation runs.\n"
     ]
    }
   ],
   "source": [
    "# Report the results\n",
    "\n",
    "current_data = data(50, 30, 50, 40)\n",
    "alpha = 0.1\n",
    "B = int(1e6)\n",
    "\n",
    "print(\n",
    "    \"----------------------------\\n\"\n",
    "    \"METHOD: Posterior simulation\\n\"\n",
    "    \"----------------------------\\n\"\n",
    "    f\"A posterior mean estimate for psi is {post_mean_psi_sim(current_data, B):.3f}.\\n\"\n",
    "    f\"A standard error estimate is {std_err_psi_sim(current_data, B):.3f}.\\n\"\n",
    "    f\"A 90 percent confidence interval is {\n",
    "        interval_text(interval_psi_sim_normal(current_data, alpha, B))\n",
    "    }.\\n\"\n",
    "    f\"A 90 percent confidence percentile interval is {\n",
    "        interval_text(interval_psi_sim_percentile(current_data, alpha, B))\n",
    "    }.\\n\\n\"\n",
    "    \"Note: the standard error and the confidence intervals\\n\"\n",
    "    \"come from **different** simulation runs.\"\n",
    ")"
   ]
  },
  {
   "cell_type": "markdown",
   "id": "56e2416d",
   "metadata": {},
   "source": [
    "### Important observation\n",
    "Note that we do **not** expect the posterior mean of $\\psi$\n",
    "to approach the \"true\" value\n",
    "$$h(0.6, 0.8) \\approx -0.98$$\n",
    "where $h$ denotes the log-odds function such that $\\psi = h(p_1,p_2)$.\n",
    "Indeed, this posterior mean is not *supposed* to approximate this value.\n",
    "Instead, this posterior mean is an approximation of the integral\n",
    "$$\n",
    "\\int\\int h(p_1, p_1) f_\\text{Beta}(p_1;50,30) f_\\text{Beta}(p_2;50,40) dp_1 dp_2.\n",
    "$$\n",
    "So what we are seeing is that this integral is $\\approx -1.01$.\n",
    "\n",
    "Note that, as the sample size grows larger\n",
    "(provided the proportions of improved patients stay the same in both groups)\n",
    "this product of Beta distributions\n",
    "will approach a Dirac mass centered at $(p_1, p_2) = (0.6, 0.8)$ such that\n",
    "$$\n",
    "\\lim_{n\\to\\infty} \\int\\int h(p_1, p_1) f_\\text{Beta}(p_1;5n,3n) f_\\text{Beta}(p_2;5n,4n) dp_1 dp_2\n",
    "= h(0.6, 0.8) \\approx -0.98.\n",
    "$$"
   ]
  }
 ],
 "metadata": {
  "kernelspec": {
   "display_name": "venv",
   "language": "python",
   "name": "venv"
  },
  "language_info": {
   "codemirror_mode": {
    "name": "ipython",
    "version": 3
   },
   "file_extension": ".py",
   "mimetype": "text/x-python",
   "name": "python",
   "nbconvert_exporter": "python",
   "pygments_lexer": "ipython3",
   "version": "3.12.3"
  }
 },
 "nbformat": 4,
 "nbformat_minor": 5
}
