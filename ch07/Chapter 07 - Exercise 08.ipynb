{
 "cells": [
  {
   "cell_type": "markdown",
   "id": "eccbe8da",
   "metadata": {},
   "source": [
    "Get the data on eruption times and waiting times between eruptions of the Old Faithful geyser from the website.\n",
    "Estimate the mean waiting time and give a standard error estimate.\n",
    "Also, give a 90 percent confidence interval for the mean waiting time.\n",
    "Now estimate the median waiting time."
   ]
  },
  {
   "cell_type": "code",
   "execution_count": 1,
   "id": "41c85be4",
   "metadata": {},
   "outputs": [],
   "source": [
    "import matplotlib.pyplot as plt\n",
    "import numpy as np\n",
    "import pandas as pd\n",
    "\n",
    "from scipy.stats import norm"
   ]
  },
  {
   "cell_type": "code",
   "execution_count": 2,
   "id": "296afd99",
   "metadata": {},
   "outputs": [],
   "source": [
    "pd_data = pd.read_csv('./data/faithful.dat', delimiter='\\s+')\n",
    "data = pd_data['waiting'].to_numpy()"
   ]
  },
  {
   "cell_type": "code",
   "execution_count": 3,
   "id": "b61e0429",
   "metadata": {},
   "outputs": [
    {
     "name": "stdout",
     "output_type": "stream",
     "text": [
      "An estimate for the mean waiting time is 71 minutes.\n",
      "An estimate for the standard error in the mean waiting time is 14 minutes.\n",
      "With 90 percent confidence, the mean waiting time is 71 ± 22 minutes.\n",
      "An estimate for the median is 76 minutes.\n"
     ]
    }
   ],
   "source": [
    "mean_est = np.mean(data)\n",
    "print(f\"An estimate for the mean waiting time is {mean_est:.0f} minutes.\")\n",
    "\n",
    "std_err_est = np.sqrt(np.var(data, ddof=0))\n",
    "print(f\"An estimate for the standard error in the mean waiting time is {std_err_est:.0f} minutes.\")\n",
    "\n",
    "alpha = 0.1\n",
    "z = norm.isf(alpha/2)\n",
    "error = z*std_err_est\n",
    "print(f\"With 90 percent confidence, the mean waiting time is {mean_est:.0f} ± {error:.0f} minutes.\")\n",
    "\n",
    "x=np.linspace(40, 100, 100)\n",
    "empirical_cdf = np.array([np.mean(data <= xi) for xi in x])\n",
    "median_est = x[np.searchsorted(empirical_cdf, 1/2, side='right')]\n",
    "print(f\"An estimate for the median is {median_est:.0f} minutes.\")"
   ]
  },
  {
   "cell_type": "code",
   "execution_count": 6,
   "id": "6246d5b3",
   "metadata": {},
   "outputs": [
    {
     "data": {
      "image/png": "[encoded data removed]",
      "text/plain": [
       "<Figure size 432x288 with 1 Axes>"
      ]
     },
     "metadata": {
      "needs_background": "light"
     },
     "output_type": "display_data"
    }
   ],
   "source": [
    "# Sanity check: plotting the data as a histogram\n",
    "plt.hist(data)\n",
    "plt.axvline(x=mean_est, color='b', label='Mean')\n",
    "plt.axvline(x=median_est, color='r', label='Median')\n",
    "plt.legend()\n",
    "plt.show()"
   ]
  },
  {
   "cell_type": "code",
   "execution_count": null,
   "id": "e2639362",
   "metadata": {},
   "outputs": [],
   "source": []
  },
  {
   "cell_type": "code",
   "execution_count": null,
   "id": "9ac28a00",
   "metadata": {},
   "outputs": [],
   "source": []
  },
  {
   "cell_type": "code",
   "execution_count": null,
   "id": "572431c1",
   "metadata": {},
   "outputs": [],
   "source": []
  }
 ],
 "metadata": {
  "kernelspec": {
   "display_name": "Python 3 (ipykernel)",
   "language": "python",
   "name": "python3"
  },
  "language_info": {
   "codemirror_mode": {
    "name": "ipython",
    "version": 3
   },
   "file_extension": ".py",
   "mimetype": "text/x-python",
   "name": "python",
   "nbconvert_exporter": "python",
   "pygments_lexer": "ipython3",
   "version": "3.12.3"
  }
 },
 "nbformat": 4,
 "nbformat_minor": 5
}
