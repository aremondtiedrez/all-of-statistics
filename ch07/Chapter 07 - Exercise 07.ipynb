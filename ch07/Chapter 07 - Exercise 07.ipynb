{
 "cells": [
  {
   "cell_type": "markdown",
   "id": "4b0f7555",
   "metadata": {},
   "source": [
    "Data on the magnitudes of earthquakes near Fiji are available on the website for this book.\n",
    "Estimate the CDF $F(x)$.\n",
    "Compute and plot a 95 percent confidence interval for $F$.\n",
    "Find an approximate 95 percent confidence interval for $F(4.9) - F(4.3)$."
   ]
  },
  {
   "cell_type": "code",
   "execution_count": 2,
   "id": "766d7992",
   "metadata": {},
   "outputs": [],
   "source": [
    "import matplotlib.pyplot as plt\n",
    "import numpy as np\n",
    "import pandas as pd\n",
    "\n",
    "from scipy.stats import norm"
   ]
  },
  {
   "cell_type": "code",
   "execution_count": 3,
   "id": "3bc8fd14",
   "metadata": {},
   "outputs": [],
   "source": [
    "pd_data = pd.read_csv('./data/fijiquakes_cleaned.dat', delimiter='\\t')\n",
    "data = pd_data['mag'].to_numpy()"
   ]
  },
  {
   "cell_type": "code",
   "execution_count": 4,
   "id": "1e4e9174",
   "metadata": {},
   "outputs": [],
   "source": [
    "def compute_empirical_cdf(X, x):\n",
    "    return [np.mean(X <= xi) for xi in x]"
   ]
  },
  {
   "cell_type": "code",
   "execution_count": 5,
   "id": "d0b20f8f",
   "metadata": {},
   "outputs": [],
   "source": [
    "def compute_empirical_cdf_band(X, x=np.linspace(4, 6.5, 10), alpha=0.05):\n",
    "    \n",
    "    empirical_cdf = compute_empirical_cdf(X, x)\n",
    "    \n",
    "    n = len(X)\n",
    "    epsilon = np.sqrt(np.log(2/alpha)/(2*n))\n",
    "\n",
    "    cdf_lowerbound = [max(empirical_cdf[i] - epsilon, 0) for i, xi in enumerate(x)]\n",
    "    cdf_upperbound = [min(empirical_cdf[i] + epsilon, 1) for i, xi in enumerate(x)]\n",
    "    \n",
    "    return empirical_cdf, cdf_lowerbound, cdf_upperbound"
   ]
  },
  {
   "cell_type": "code",
   "execution_count": 6,
   "id": "9d2e95c6",
   "metadata": {},
   "outputs": [],
   "source": [
    "def plot_empirical_cdf_band(\n",
    "    X,\n",
    "    x=np.linspace(3.5, 6.5, 31),\n",
    "    alpha=0.05,\n",
    "    plot_empirical_cdf=False,\n",
    "    plot_band=True\n",
    "):\n",
    "    \n",
    "    empirical_cdf, cdf_lowerbound, cdf_upperbound = compute_empirical_cdf_band(X, x, alpha=alpha)\n",
    "    \n",
    "    if plot_band:\n",
    "        plt.plot(x, cdf_lowerbound)\n",
    "        plt.plot(x, cdf_upperbound)\n",
    "    if plot_empirical_cdf:\n",
    "        plt.plot(x, empirical_cdf)\n",
    "        \n",
    "    plt.xlabel('x')\n",
    "    plt.ylabel('F_n (x)')\n",
    "    plt.show()\n",
    "    \n",
    "    return x, empirical_cdf, cdf_lowerbound, cdf_upperbound"
   ]
  },
  {
   "cell_type": "code",
   "execution_count": 7,
   "id": "108449ba",
   "metadata": {},
   "outputs": [
    {
     "data": {
      "image/png": "[encoded data removed]",
      "text/plain": [
       "<Figure size 640x480 with 1 Axes>"
      ]
     },
     "metadata": {},
     "output_type": "display_data"
    }
   ],
   "source": [
    "x, empirical_cdf, cdf_lowerbound, cdf_upperbound = plot_empirical_cdf_band(data)"
   ]
  },
  {
   "cell_type": "code",
   "execution_count": 8,
   "id": "7e31436a",
   "metadata": {},
   "outputs": [],
   "source": [
    "def confidence_interval_prob(data, x, y, alpha=0.05):\n",
    "\n",
    "    n = len(data)\n",
    "    \n",
    "    z = norm.isf(alpha/2)\n",
    "    \n",
    "    Fny = np.mean(data <= y)\n",
    "    Fnx = np.mean(data <= x)\n",
    "\n",
    "    estimator = Fny - Fnx\n",
    "    var_est = (Fny-Fnx)*(1-(Fny-Fnx))\n",
    "    std_err = np.sqrt(var_est/n)\n",
    "\n",
    "    lowerbound = estimator - z*std_err\n",
    "    upperbound = estimator + z*std_err\n",
    "    \n",
    "    return (lowerbound, upperbound)"
   ]
  },
  {
   "cell_type": "code",
   "execution_count": 9,
   "id": "0f45b92e",
   "metadata": {},
   "outputs": [
    {
     "name": "stdout",
     "output_type": "stream",
     "text": [
      "The probability of an earthquake of magnitude between 4.3 and 4.9 is between 49.5% and 55.7%.\n"
     ]
    }
   ],
   "source": [
    "lowerbound, upperbound = confidence_interval_prob(data, 4.3, 4.9)\n",
    "print(\n",
    "    f\"The probability of an earthquake of magnitude between 4.3 and 4.9 is between \"\n",
    "    f\"{lowerbound*100:.1f}% and {upperbound*100:.1f}%.\"\n",
    ")"
   ]
  }
 ],
 "metadata": {
  "kernelspec": {
   "display_name": "venv",
   "language": "python",
   "name": "venv"
  },
  "language_info": {
   "codemirror_mode": {
    "name": "ipython",
    "version": 3
   },
   "file_extension": ".py",
   "mimetype": "text/x-python",
   "name": "python",
   "nbconvert_exporter": "python",
   "pygments_lexer": "ipython3",
   "version": "3.12.3"
  }
 },
 "nbformat": 4,
 "nbformat_minor": 5
}
