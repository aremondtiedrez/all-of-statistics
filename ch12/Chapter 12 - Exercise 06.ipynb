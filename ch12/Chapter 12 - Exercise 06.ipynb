{
 "cells": [
  {
   "cell_type": "code",
   "execution_count": 2,
   "id": "e1d9adec",
   "metadata": {},
   "outputs": [],
   "source": [
    "from tabulate import tabulate\n",
    "import numpy as np\n",
    "import scipy.stats"
   ]
  },
  {
   "cell_type": "markdown",
   "id": "2da5b98c",
   "metadata": {},
   "source": [
    "# Problem"
   ]
  },
  {
   "cell_type": "markdown",
   "id": "a36e3417",
   "metadata": {},
   "source": [
    "Compare the risk of the MLE and the James-Stein estimator by simulation.\n",
    "Try various values of $n$ and various vectors $\\theta$.\n",
    "Summarize your results."
   ]
  },
  {
   "cell_type": "markdown",
   "id": "22a7010c",
   "metadata": {},
   "source": [
    "# Solution"
   ]
  },
  {
   "cell_type": "markdown",
   "id": "4bc5a06f",
   "metadata": {},
   "source": [
    "## The context\n",
    "Recall that the model is $X_i \\sim N(\\theta_i, 1)$, independently,\n",
    "for $\\theta_1, ..., \\theta_n$ given parameters.\n",
    "In other words $X \\sim N(\\theta, I)$.\n",
    "The loss is $L^2$-error-squared loss, namely\n",
    "$$\n",
    "L(\\theta, \\hat\\theta)\n",
    "= {||\\theta - \\hat\\theta||}_2^2\n",
    "= \\sum_{i=1}^n {( \\theta - \\theta_i )}^2.\n",
    "$$\n",
    "The MLE is $\\hat\\theta_{MLE} = X$ while the James-Stein estimator is $\\hat\\theta_{JS} = s(X) X$ for\n",
    "$$\n",
    "s(X) = \\max \\left( 0, 1 - \\frac{n-2}{\\sum_{i=1}^n X_i^2} \\right).\n",
    "$$"
   ]
  },
  {
   "cell_type": "markdown",
   "id": "fb5ce799",
   "metadata": {},
   "source": [
    "## Setup of the simulation\n",
    "For any parameter $\\theta$ and any point estimator $\\hat\\theta$ we may estimate the risk\n",
    "by *simulation*:\n",
    "$$\n",
    "R(\\theta,\\hat\\theta)\n",
    "= \\mathbb{E}_\\theta {||\\theta-\\hat\\theta||}_2^2\n",
    "= \\int_{\\mathbb{R}^n} {||\\theta-\\hat\\theta(x)||}_2^2 f(x;\\theta) dx\n",
    "\\sim \\frac{1}{B} \\sum_{j=1}^B {\\left|\\left|\\theta-\\hat\\theta\\left(X^{(j)}\\right)\\right|\\right|}_2^2\n",
    "=: R^*(\\theta,\\hat\\theta)\n",
    "$$\n",
    "for $X^{(1)}, ..., X^{(B)} \\sim N(\\theta, I)$.\n",
    "For completeness' sake note that we may expand the estimated risk further as\n",
    "$$\n",
    "R^*(\\theta,\\hat\\theta)\n",
    "= \\frac{1}{B} \\sum_{j=1}^B \\sum_{i=1}^n {\\left(\\theta_i-\\hat\\theta_i\\left(X^{(j)}\\right)\\right)}^2.\n",
    "$$"
   ]
  },
  {
   "cell_type": "code",
   "execution_count": 3,
   "id": "05a9df86",
   "metadata": {},
   "outputs": [],
   "source": [
    "# Produce the simulated random variables X^(1), ..., X^(B)\n",
    "def simulation_sample(theta, B):\n",
    "    \"\"\"\n",
    "    \n",
    "    Returns a two-dimensional array of the form\n",
    "    \n",
    "       X^(1)\n",
    "       ...\n",
    "       X^(B)\n",
    "       \n",
    "    where each row is a random variable with distribution N(theta, I).\n",
    "    \n",
    "    The two-dimensional array returned is thus\n",
    "    \n",
    "       X^(1)_1  ...   X^(1)_n\n",
    "       ...      ...   ...\n",
    "       X^(B)_1  ...   X^(B)_n\n",
    "    \n",
    "    \"\"\"\n",
    "    n = len(theta)\n",
    "    return scipy.stats.multivariate_normal.rvs(mean=theta, cov=np.identity(n), size=B)"
   ]
  },
  {
   "cell_type": "code",
   "execution_count": 4,
   "id": "2b44fe76",
   "metadata": {},
   "outputs": [],
   "source": [
    "# The maximum likelihood estimator\n",
    "def mle(X):\n",
    "    \"\"\"\n",
    "    \n",
    "    Takes as input an array of the form\n",
    "    \n",
    "       X^(1)\n",
    "       ...\n",
    "       X^(B)\n",
    "       \n",
    "    where each row is a vector of the same length.\n",
    "    \n",
    "    The two-dimensional array input is thus\n",
    "    \n",
    "       X^(1)_1  ...   X^(1)_n\n",
    "       ...      ...   ...\n",
    "       X^(B)_1  ...   X^(B)_n\n",
    "       \n",
    "    The function returns the original array since\n",
    "    the MLE of X^(i) is X^(i) itself.\n",
    "    \n",
    "    \"\"\"\n",
    "    return X"
   ]
  },
  {
   "cell_type": "code",
   "execution_count": 6,
   "id": "371c00a2",
   "metadata": {},
   "outputs": [],
   "source": [
    "# The James-Stein estimator\n",
    "def compute_js_est(X):\n",
    "    \"\"\"\n",
    "    \n",
    "    Takes as input an array of the form\n",
    "    \n",
    "       X^(1)\n",
    "       ...\n",
    "       X^(B)\n",
    "       \n",
    "    where each row is a vector of the same length.\n",
    "    \n",
    "    The two-dimensional array input is thus\n",
    "    \n",
    "       X^(1)_1  ...   X^(1)_n\n",
    "       ...      ...   ...\n",
    "       X^(B)_1  ...   X^(B)_n\n",
    "       \n",
    "    The function returns\n",
    "    \n",
    "       s[X^(1)] X^(1)\n",
    "       ...\n",
    "       s[X^(B)] X^(B)\n",
    "       \n",
    "    or\n",
    "    \n",
    "       s[X^(1)] X^(1)_1  ...   s[X^(1)] X^(1)_n\n",
    "       ...               ...   ...\n",
    "       s[X^(B)] X^(B)_1  ...   s[X^(B)] X^(B)_n\n",
    "    \n",
    "    \"\"\"\n",
    "    n = X.shape[1]\n",
    "    return np.array([\n",
    "        max(0, 1 - (n - 2)/np.square(Xj).sum())*Xj\n",
    "        for Xj in X\n",
    "    ])"
   ]
  },
  {
   "cell_type": "code",
   "execution_count": 7,
   "id": "270a811d",
   "metadata": {},
   "outputs": [],
   "source": [
    "# The simulation estimate of the risk\n",
    "def risk_estimate(theta, estimator, B):\n",
    "    \n",
    "    # Simulated random variables X^(1), ..., X^(B)\n",
    "    X = simulation_sample(theta, B)\n",
    "    \n",
    "    # Compute the risk estimate\n",
    "    return np.square(estimator(X) - theta).sum()/B"
   ]
  },
  {
   "cell_type": "markdown",
   "id": "58c66a57",
   "metadata": {},
   "source": [
    "### Sanity check\n",
    "For an *unbiased* estimator $\\theta$ of $\\hat\\theta$\n",
    "the risk is related to the variance-covariance matrix of $\\hat\\theta$ via\n",
    "$$\n",
    "R(\\theta, \\hat\\theta)\n",
    "= \\mathbb{E}_\\theta {||\\theta-\\hat\\theta||}_2^2\n",
    "= \\sum_{i=1}^n \\mathbb{E}_\\theta {(\\theta_i - \\hat\\theta_i)}^2\n",
    "= \\sum_{i=1}^n \\mathbb{V}_\\theta (\\hat\\theta_i)\n",
    "= \\text{diag}\\,\\mathbb{V}_\\theta (\\hat\\theta).\n",
    "$$\n",
    "In particular for the MLE $\\hat\\theta_{MLE} = X \\sim N(\\theta, I)$,\n",
    "which is an unbiased estimator of $\\theta$,\n",
    "$$\n",
    "R(\\theta, \\hat\\theta_{MLE})\n",
    "= \\text{diag}\\, \\mathbb{V}_\\theta (X)\n",
    "= \\text{diag}\\, I\n",
    "= n.\n",
    "$$\n",
    "We thus expect\n",
    "$$\n",
    "R^*(\\theta, \\hat\\theta_{MLE}) \\to n\n",
    "\\text{ as } B\\to\\infty.\n",
    "$$"
   ]
  },
  {
   "cell_type": "code",
   "execution_count": 8,
   "id": "97aee9d8",
   "metadata": {},
   "outputs": [
    {
     "name": "stdout",
     "output_type": "stream",
     "text": [
      "When n=17 and B=10,000 the MLE risk estimate is 16.998.\n"
     ]
    }
   ],
   "source": [
    "risk_est = risk_estimate(theta=np.zeros(17), estimator=mle, B=int(1e6))\n",
    "print(\n",
    "    f\"When n=17 and B=10,000 the MLE risk estimate is {risk_est:.3f}.\"\n",
    ")"
   ]
  },
  {
   "cell_type": "markdown",
   "id": "9fe029e4",
   "metadata": {},
   "source": [
    "## Computing both risks"
   ]
  },
  {
   "cell_type": "code",
   "execution_count": 9,
   "id": "a35e45aa",
   "metadata": {},
   "outputs": [],
   "source": [
    "def risks(theta, B):\n",
    "    mle_risk_est = risk_estimate(theta, mle, B)\n",
    "    js_risk_est = risk_estimate(theta, compute_js_est, B)\n",
    "    return mle_risk_est, js_risk_est\n",
    "\n",
    "def report_result(risks):\n",
    "    mle_risk, js_risk = risks\n",
    "    print(\n",
    "        f\"Risk of the MLE:                   {mle_risk:.3f}\\n\"\n",
    "        f\"Risk of the James-Stein estimator: {js_risk:.3f}\"\n",
    "    )\n",
    "    \n",
    "def run_experiment(n, Delta, B):\n",
    "    print(\n",
    "        \"Experiment settings: \"\n",
    "        f\"(n={n}; Delta={Delta}, B=10^{np.log10(B):.0f})\"\n",
    "    )\n",
    "    report_result(risks(\n",
    "        theta=np.random.uniform(low=-Delta, high=Delta, size=n),\n",
    "        B=int(1e5)\n",
    "    ))"
   ]
  },
  {
   "cell_type": "markdown",
   "id": "b71659bb",
   "metadata": {},
   "source": [
    "## Run experiments\n",
    "Remember that the theoretical value of the risk of the MLE is $n$.\n",
    "(This can be used to gauge whether $B$ is sufficiently large to\n",
    "ensure an accurate approximation of the risk of the James-Stein estimator.)"
   ]
  },
  {
   "cell_type": "markdown",
   "id": "982edc6d",
   "metadata": {},
   "source": [
    "### n = 10"
   ]
  },
  {
   "cell_type": "code",
   "execution_count": 10,
   "id": "8e8c5fcd",
   "metadata": {},
   "outputs": [
    {
     "name": "stdout",
     "output_type": "stream",
     "text": [
      "Experiment settings: (n=10; Delta=0.001, B=10^6)\n",
      "Risk of the MLE:                   9.998\n",
      "Risk of the James-Stein estimator: 1.266\n"
     ]
    }
   ],
   "source": [
    "run_experiment(n=10, Delta=0.001, B=int(1e6))"
   ]
  },
  {
   "cell_type": "code",
   "execution_count": 11,
   "id": "dc3c366f",
   "metadata": {},
   "outputs": [
    {
     "name": "stdout",
     "output_type": "stream",
     "text": [
      "Experiment settings: (n=10; Delta=0.5, B=10^6)\n",
      "Risk of the MLE:                   9.998\n",
      "Risk of the James-Stein estimator: 1.838\n"
     ]
    }
   ],
   "source": [
    "run_experiment(n=10, Delta=0.5, B=int(1e6))"
   ]
  },
  {
   "cell_type": "code",
   "execution_count": 12,
   "id": "ef628322",
   "metadata": {},
   "outputs": [
    {
     "name": "stdout",
     "output_type": "stream",
     "text": [
      "Experiment settings: (n=10; Delta=1, B=10^6)\n",
      "Risk of the MLE:                   9.996\n",
      "Risk of the James-Stein estimator: 2.642\n"
     ]
    }
   ],
   "source": [
    "run_experiment(n=10, Delta=1, B=int(1e6))"
   ]
  },
  {
   "cell_type": "code",
   "execution_count": 13,
   "id": "d3d03b64",
   "metadata": {},
   "outputs": [
    {
     "name": "stdout",
     "output_type": "stream",
     "text": [
      "Experiment settings: (n=10; Delta=3, B=10^6)\n",
      "Risk of the MLE:                   10.017\n",
      "Risk of the James-Stein estimator: 8.214\n"
     ]
    }
   ],
   "source": [
    "run_experiment(n=10, Delta=3, B=int(1e6))"
   ]
  },
  {
   "cell_type": "code",
   "execution_count": 14,
   "id": "6e5ed890",
   "metadata": {},
   "outputs": [
    {
     "name": "stdout",
     "output_type": "stream",
     "text": [
      "Experiment settings: (n=10; Delta=5, B=10^6)\n",
      "Risk of the MLE:                   9.999\n",
      "Risk of the James-Stein estimator: 9.349\n"
     ]
    }
   ],
   "source": [
    "run_experiment(n=10, Delta=5, B=int(1e6))"
   ]
  },
  {
   "cell_type": "code",
   "execution_count": 15,
   "id": "90d281ff",
   "metadata": {},
   "outputs": [
    {
     "name": "stdout",
     "output_type": "stream",
     "text": [
      "Experiment settings: (n=10; Delta=100, B=10^6)\n",
      "Risk of the MLE:                   10.027\n",
      "Risk of the James-Stein estimator: 10.004\n"
     ]
    }
   ],
   "source": [
    "run_experiment(n=10, Delta=100, B=int(1e6))"
   ]
  },
  {
   "cell_type": "markdown",
   "id": "04526fb7",
   "metadata": {},
   "source": [
    "### n = 50"
   ]
  },
  {
   "cell_type": "code",
   "execution_count": 16,
   "id": "0f61f130",
   "metadata": {},
   "outputs": [
    {
     "name": "stdout",
     "output_type": "stream",
     "text": [
      "Experiment settings: (n=50; Delta=0.001, B=10^5)\n",
      "Risk of the MLE:                   49.973\n",
      "Risk of the James-Stein estimator: 1.097\n"
     ]
    }
   ],
   "source": [
    "run_experiment(n=50, Delta=0.001, B=int(1e5))"
   ]
  },
  {
   "cell_type": "code",
   "execution_count": 17,
   "id": "54263b80",
   "metadata": {},
   "outputs": [
    {
     "name": "stdout",
     "output_type": "stream",
     "text": [
      "Experiment settings: (n=50; Delta=0.5, B=10^5)\n",
      "Risk of the MLE:                   49.947\n",
      "Risk of the James-Stein estimator: 4.198\n"
     ]
    }
   ],
   "source": [
    "run_experiment(n=50, Delta=0.5, B=int(1e5))"
   ]
  },
  {
   "cell_type": "code",
   "execution_count": 18,
   "id": "1e19911c",
   "metadata": {},
   "outputs": [
    {
     "name": "stdout",
     "output_type": "stream",
     "text": [
      "Experiment settings: (n=50; Delta=1, B=10^5)\n",
      "Risk of the MLE:                   49.989\n",
      "Risk of the James-Stein estimator: 13.881\n"
     ]
    }
   ],
   "source": [
    "run_experiment(n=50, Delta=1, B=int(1e5))"
   ]
  },
  {
   "cell_type": "code",
   "execution_count": 19,
   "id": "d0259360",
   "metadata": {},
   "outputs": [
    {
     "name": "stdout",
     "output_type": "stream",
     "text": [
      "Experiment settings: (n=50; Delta=3, B=10^5)\n",
      "Risk of the MLE:                   50.024\n",
      "Risk of the James-Stein estimator: 39.159\n"
     ]
    }
   ],
   "source": [
    "run_experiment(n=50, Delta=3, B=int(1e5))"
   ]
  },
  {
   "cell_type": "code",
   "execution_count": 20,
   "id": "5a99d6d0",
   "metadata": {},
   "outputs": [
    {
     "name": "stdout",
     "output_type": "stream",
     "text": [
      "Experiment settings: (n=50; Delta=5, B=10^5)\n",
      "Risk of the MLE:                   50.001\n",
      "Risk of the James-Stein estimator: 44.760\n"
     ]
    }
   ],
   "source": [
    "run_experiment(n=50, Delta=5, B=int(1e5))"
   ]
  },
  {
   "cell_type": "code",
   "execution_count": 21,
   "id": "17b45458",
   "metadata": {},
   "outputs": [
    {
     "name": "stdout",
     "output_type": "stream",
     "text": [
      "Experiment settings: (n=50; Delta=100, B=10^5)\n",
      "Risk of the MLE:                   50.006\n",
      "Risk of the James-Stein estimator: 49.996\n"
     ]
    }
   ],
   "source": [
    "run_experiment(n=50, Delta=100, B=int(1e5))"
   ]
  },
  {
   "cell_type": "markdown",
   "id": "d8a91367",
   "metadata": {},
   "source": [
    "### n = 200"
   ]
  },
  {
   "cell_type": "code",
   "execution_count": 22,
   "id": "cf291fbd",
   "metadata": {},
   "outputs": [
    {
     "name": "stdout",
     "output_type": "stream",
     "text": [
      "Experiment settings: (n=200; Delta=0.001, B=10^5)\n",
      "Risk of the MLE:                   200.040\n",
      "Risk of the James-Stein estimator: 1.062\n"
     ]
    }
   ],
   "source": [
    "run_experiment(n=200, Delta=0.001, B=int(1e5))"
   ]
  },
  {
   "cell_type": "code",
   "execution_count": 23,
   "id": "a8d834b6",
   "metadata": {},
   "outputs": [
    {
     "name": "stdout",
     "output_type": "stream",
     "text": [
      "Experiment settings: (n=200; Delta=0.5, B=10^5)\n",
      "Risk of the MLE:                   200.042\n",
      "Risk of the James-Stein estimator: 17.554\n"
     ]
    }
   ],
   "source": [
    "run_experiment(n=200, Delta=0.5, B=int(1e5))"
   ]
  },
  {
   "cell_type": "code",
   "execution_count": 24,
   "id": "977a933b",
   "metadata": {},
   "outputs": [
    {
     "name": "stdout",
     "output_type": "stream",
     "text": [
      "Experiment settings: (n=200; Delta=1, B=10^5)\n",
      "Risk of the MLE:                   199.881\n",
      "Risk of the James-Stein estimator: 51.554\n"
     ]
    }
   ],
   "source": [
    "run_experiment(n=200, Delta=1, B=int(1e5))"
   ]
  },
  {
   "cell_type": "code",
   "execution_count": 25,
   "id": "904f9037",
   "metadata": {},
   "outputs": [
    {
     "name": "stdout",
     "output_type": "stream",
     "text": [
      "Experiment settings: (n=200; Delta=3, B=10^5)\n",
      "Risk of the MLE:                   199.900\n",
      "Risk of the James-Stein estimator: 154.489\n"
     ]
    }
   ],
   "source": [
    "run_experiment(n=200, Delta=3, B=int(1e5))"
   ]
  },
  {
   "cell_type": "code",
   "execution_count": 26,
   "id": "b7064f35",
   "metadata": {},
   "outputs": [
    {
     "name": "stdout",
     "output_type": "stream",
     "text": [
      "Experiment settings: (n=200; Delta=5, B=10^5)\n",
      "Risk of the MLE:                   200.070\n",
      "Risk of the James-Stein estimator: 177.273\n"
     ]
    }
   ],
   "source": [
    "run_experiment(n=200, Delta=5, B=int(1e5))"
   ]
  },
  {
   "cell_type": "code",
   "execution_count": 27,
   "id": "fbc8682d",
   "metadata": {},
   "outputs": [
    {
     "name": "stdout",
     "output_type": "stream",
     "text": [
      "Experiment settings: (n=200; Delta=100, B=10^5)\n",
      "Risk of the MLE:                   199.972\n",
      "Risk of the James-Stein estimator: 199.835\n"
     ]
    }
   ],
   "source": [
    "run_experiment(n=200, Delta=100, B=int(1e5))"
   ]
  },
  {
   "cell_type": "markdown",
   "id": "8b439274",
   "metadata": {},
   "source": [
    "## Summarize experiments\n",
    "Since the theoretical value of the risk of the MLE is $n$,\n",
    "in this section we only compute the risk of the James-Stein operator (by simulation)."
   ]
  },
  {
   "cell_type": "code",
   "execution_count": 31,
   "id": "e1e302c2",
   "metadata": {},
   "outputs": [],
   "source": [
    "class Experiment():\n",
    "    \n",
    "    def __init__(self, n, delta, B):\n",
    "        self.n = n\n",
    "        self.delta = delta\n",
    "        self.B = B\n",
    "        self.has_run = False\n",
    "        self.js_est = None\n",
    "        \n",
    "    def run(self):\n",
    "        self.js_est = risk_estimate(\n",
    "            theta=np.random.uniform(\n",
    "                low=-self.delta,\n",
    "                high=self.delta,\n",
    "                size=self.n\n",
    "            ),\n",
    "            estimator=compute_js_est,\n",
    "            B=B\n",
    "        )\n",
    "        self.has_run = True\n",
    "        \n",
    "# Auxiliary functions to tabulate the results\n",
    "\n",
    "def table_row(delta, n_list, experiment_list):\n",
    "    return (\n",
    "        [\n",
    "            f\"Delta = {delta}\",\n",
    "        ]\n",
    "        + [\n",
    "            f\"{experiment_list[n_list.index(n)][delta_list.index(delta)].js_est:.1f}\"\n",
    "            for n in n_list\n",
    "        ]\n",
    "    )\n",
    "    \n",
    "def full_table(n_list, delta_list, experiment_list):\n",
    "    return (\n",
    "        [\n",
    "            ['MLE risk (theory)'] +  list(n_list),\n",
    "        ]\n",
    "        + [\n",
    "            table_row(delta, n_list, experiment_list)\n",
    "            for delta in delta_list\n",
    "        ]\n",
    "    )"
   ]
  },
  {
   "cell_type": "code",
   "execution_count": 32,
   "id": "2274e255",
   "metadata": {},
   "outputs": [],
   "source": [
    "# Parameters to run through\n",
    "B = int(1e4)\n",
    "n_list = (10, 50, 200)\n",
    "delta_list = (0.001, 0.5, 1, 3, 5, 100)\n",
    "\n",
    "# Populate the experiment list\n",
    "experiment_list = [[Experiment(n, delta, B) for delta in delta_list] for n in n_list]"
   ]
  },
  {
   "cell_type": "code",
   "execution_count": 33,
   "id": "39bc9a76",
   "metadata": {},
   "outputs": [],
   "source": [
    "# Run all of the experiments\n",
    "for experiment_sublist in experiment_list:\n",
    "    for experiment in experiment_sublist:\n",
    "        experiment.run()"
   ]
  },
  {
   "cell_type": "code",
   "execution_count": 34,
   "id": "4dd00ade",
   "metadata": {},
   "outputs": [
    {
     "name": "stdout",
     "output_type": "stream",
     "text": [
      "                     n=10    n=50    n=200\n",
      "-----------------  ------  ------  -------\n",
      "MLE risk (theory)    10      50      200\n",
      "Delta = 0.001         1.3     1.1      1\n",
      "Delta = 0.5           2.1     5.1     17.4\n",
      "Delta = 1             4.3    12.1     55.7\n",
      "Delta = 3             8.3    38.5    150.8\n",
      "Delta = 5             9.4    45.1    179.5\n",
      "Delta = 100          10      50.1    199.9\n"
     ]
    }
   ],
   "source": [
    "# Table the results\n",
    "print(tabulate(\n",
    "    full_table(n_list, delta_list, experiment_list),\n",
    "    headers = [''] +[f'n={n}' for n in n_list]\n",
    "))"
   ]
  },
  {
   "cell_type": "markdown",
   "id": "36be48bb",
   "metadata": {},
   "source": [
    "## Conclusion\n",
    "When the parameters are concentrated near zero,\n",
    "the James-Stein estimator has a much lower risk\n",
    "(approaching one) than the MLE.\n",
    "This remains true even for a large number of\n",
    "samples/parameters.\n",
    "\n",
    "As the parameters stray further away from zero,\n",
    "however, the James-Stein estimator's risk increases\n",
    "(albeit always bounded above by the\n",
    "risk of the MLE, as predicted by theory)."
   ]
  }
 ],
 "metadata": {
  "kernelspec": {
   "display_name": "venv",
   "language": "python",
   "name": "venv"
  },
  "language_info": {
   "codemirror_mode": {
    "name": "ipython",
    "version": 3
   },
   "file_extension": ".py",
   "mimetype": "text/x-python",
   "name": "python",
   "nbconvert_exporter": "python",
   "pygments_lexer": "ipython3",
   "version": "3.12.3"
  }
 },
 "nbformat": 4,
 "nbformat_minor": 5
}
