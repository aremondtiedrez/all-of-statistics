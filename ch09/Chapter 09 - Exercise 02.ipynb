{
 "cells": [
  {
   "cell_type": "code",
   "execution_count": 1,
   "id": "8d9bb98f",
   "metadata": {},
   "outputs": [],
   "source": [
    "import numpy as np\n",
    "import scipy.stats"
   ]
  },
  {
   "cell_type": "code",
   "execution_count": 2,
   "id": "5fec6f44",
   "metadata": {},
   "outputs": [],
   "source": [
    "def generate_data(a=1, b=3, n=10):\n",
    "    return scipy.stats.uniform(loc=a, scale=b-a).rvs(size=n)\n",
    "\n",
    "def MLE(X):\n",
    "    return (min(X) + max(X))/2"
   ]
  },
  {
   "cell_type": "code",
   "execution_count": 8,
   "id": "b90aefbc",
   "metadata": {},
   "outputs": [
    {
     "data": {
      "text/plain": [
       "1.9595653315667503"
      ]
     },
     "execution_count": 8,
     "metadata": {},
     "output_type": "execute_result"
    }
   ],
   "source": [
    "MLE(generate_data())"
   ]
  },
  {
   "cell_type": "code",
   "execution_count": 30,
   "id": "8d396f6b",
   "metadata": {},
   "outputs": [],
   "source": [
    "# Run many trials and compute (MLE - tau)^2 every time.\n",
    "# Then average over the trials.\n",
    "\n",
    "def estimate_MSE(trials, generate_data, estimator, true_value):\n",
    "    return sum(\n",
    "        (estimator(generate_data()) - true_value)**2\n",
    "        for _ in range(trials)\n",
    "    )/trials"
   ]
  },
  {
   "cell_type": "code",
   "execution_count": 46,
   "id": "734f7c23",
   "metadata": {},
   "outputs": [
    {
     "data": {
      "text/plain": [
       "0.015236614748205562"
      ]
     },
     "execution_count": 46,
     "metadata": {},
     "output_type": "execute_result"
    }
   ],
   "source": [
    "a = 1\n",
    "b = 3\n",
    "n = 10\n",
    "\n",
    "true_value = (a+b)/2\n",
    "\n",
    "estimate_MSE(trials=int(1e4), generate_data=generate_data, estimator=MLE, true_value=true_value)"
   ]
  }
 ],
 "metadata": {
  "kernelspec": {
   "display_name": "Python 3 (ipykernel)",
   "language": "python",
   "name": "python3"
  },
  "language_info": {
   "codemirror_mode": {
    "name": "ipython",
    "version": 3
   },
   "file_extension": ".py",
   "mimetype": "text/x-python",
   "name": "python",
   "nbconvert_exporter": "python",
   "pygments_lexer": "ipython3",
   "version": "3.12.3"
  }
 },
 "nbformat": 4,
 "nbformat_minor": 5
}
