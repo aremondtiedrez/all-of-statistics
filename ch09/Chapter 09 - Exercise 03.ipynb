{
 "cells": [
  {
   "cell_type": "code",
   "execution_count": 4,
   "id": "366b7d65",
   "metadata": {},
   "outputs": [],
   "source": [
    "import numpy as np\n",
    "import scipy.stats"
   ]
  },
  {
   "cell_type": "markdown",
   "id": "76650afa",
   "metadata": {},
   "source": [
    "The data is entered by hand from the book."
   ]
  },
  {
   "cell_type": "code",
   "execution_count": 5,
   "id": "3e48cfeb",
   "metadata": {},
   "outputs": [],
   "source": [
    "data = np.array((\n",
    "    3.23,\n",
    "    -2.50,\n",
    "    1.88,\n",
    "    -0.68,\n",
    "    4.43,\n",
    "    0.17,\n",
    "    1.03,\n",
    "    -0.07,\n",
    "    -0.01,\n",
    "    0.76,\n",
    "    1.76,\n",
    "    3.18,\n",
    "    0.33,\n",
    "    -0.31,\n",
    "    0.30,\n",
    "    -0.61,\n",
    "    1.52,\n",
    "    5.43,\n",
    "    1.54,\n",
    "    2.28,\n",
    "    0.42,\n",
    "    2.33,\n",
    "    -1.03,\n",
    "    4.00,\n",
    "    0.39\n",
    "))"
   ]
  },
  {
   "cell_type": "markdown",
   "id": "8bfbde5a",
   "metadata": {},
   "source": [
    "First we perform the MLE computations and use the delta method to estimate the standard error."
   ]
  },
  {
   "cell_type": "code",
   "execution_count": 292,
   "id": "4edd4ce1",
   "metadata": {},
   "outputs": [
    {
     "name": "stdout",
     "output_type": "stream",
     "text": [
      "The sample mean is 1.19.\n",
      "The population variance is 3.30.\n",
      "The estimate of tau is 4.18.\n",
      "Using the delta method, the standard error estimate is 0.558.\n"
     ]
    }
   ],
   "source": [
    "sample_mean = data.mean()\n",
    "population_variance = data.var()\n",
    "\n",
    "tau_estimate = sample_mean + np.sqrt(population_variance)*scipy.stats.norm.ppf(0.95)\n",
    "\n",
    "n = len(data)\n",
    "se_delta_estimate = np.sqrt((population_variance/n)*(1 + ((scipy.stats.norm.ppf(0.95))**2)/2))\n",
    "\n",
    "print(\n",
    "    f\"The sample mean is {sample_mean:.2f}.\\n\"\n",
    "    f\"The population variance is {population_variance:.2f}.\\n\"\n",
    "    f\"The estimate of tau is {tau_estimate:.2f}.\\n\"\n",
    "    f\"Using the delta method, the standard error estimate is {se_delta_estimate:.3f}.\"\n",
    ")"
   ]
  },
  {
   "cell_type": "markdown",
   "id": "d21cc187",
   "metadata": {},
   "source": [
    "We now perform the bootstrap estimation of the variance."
   ]
  },
  {
   "cell_type": "code",
   "execution_count": 276,
   "id": "47459279",
   "metadata": {},
   "outputs": [],
   "source": [
    "def parameter_estimator(data):\n",
    "    return (\n",
    "        data.mean(),\n",
    "        data.var()\n",
    "    )\n",
    "    \n",
    "def tau(parameter):\n",
    "    mean, variance = parameter\n",
    "    return mean + np.sqrt(variance)*scipy.stats.norm.ppf(0.95)\n",
    "\n",
    "def bootstrap_resample(parameter_estimate, n):\n",
    "    mean_estimate, variance_estimate = parameter_estimate\n",
    "    return scipy.stats.norm.rvs(loc=mean_estimate, scale=np.sqrt(variance_estimate), size=n)\n",
    "\n",
    "def bootstrap_replications(estimator, parameter_estimator, parameter_estimate, n, B):\n",
    "    return [\n",
    "        tau(parameter_estimator(\n",
    "            bootstrap_resample(parameter_estimate=parameter_estimate, n=n)\n",
    "        ))\n",
    "    for _ in range(B)]\n",
    "\n",
    "def se_boostrap(data, estimator, parameter_estimator, B):\n",
    "    \n",
    "    n = len(data)\n",
    "    \n",
    "    parameter_estimate = parameter_estimator(data)\n",
    "\n",
    "    replicated_data = bootstrap_replications(\n",
    "        estimator=estimator,\n",
    "        parameter_estimator=parameter_estimator,\n",
    "        parameter_estimate=parameter_estimate,\n",
    "        n=n,\n",
    "        B=B\n",
    "    )\n",
    "    se_boot_estimate = np.std(replicated_data)\n",
    "\n",
    "    return se_boot_estimate"
   ]
  },
  {
   "cell_type": "code",
   "execution_count": 299,
   "id": "0ee5159e",
   "metadata": {},
   "outputs": [
    {
     "name": "stdout",
     "output_type": "stream",
     "text": [
      "Using the parametric bootstrap method, the standard error estimate is 0.554.\n"
     ]
    }
   ],
   "source": [
    "se_boot_estimate = se_boostrap(data, estimator=tau, parameter_estimator=parameter_estimator, B=int(1e5))\n",
    "\n",
    "print(\n",
    "    f\"Using the parametric bootstrap method, the standard error estimate is {se_boot_estimate:.3f}.\"\n",
    ")"
   ]
  }
 ],
 "metadata": {
  "kernelspec": {
   "display_name": "venv",
   "language": "python",
   "name": "venv"
  },
  "language_info": {
   "codemirror_mode": {
    "name": "ipython",
    "version": 3
   },
   "file_extension": ".py",
   "mimetype": "text/x-python",
   "name": "python",
   "nbconvert_exporter": "python",
   "pygments_lexer": "ipython3",
   "version": "3.12.3"
  }
 },
 "nbformat": 4,
 "nbformat_minor": 5
}
