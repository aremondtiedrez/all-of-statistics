{
 "cells": [
  {
   "cell_type": "code",
   "execution_count": 26,
   "id": "2bcf0543",
   "metadata": {},
   "outputs": [],
   "source": [
    "import matplotlib.pyplot as plt\n",
    "import numpy as np\n",
    "import random\n",
    "import scipy.stats\n",
    "\n",
    "def generate_data(mu=5, n=100):\n",
    "    return scipy.stats.norm.rvs(loc=mu, scale=1, size=n)\n",
    "\n",
    "def mu_estimator(data):\n",
    "    return data.mean()\n",
    "\n",
    "def theta(mu):\n",
    "    return np.exp(mu)\n",
    "\n",
    "def se_delta(mu_estimate, n):\n",
    "    return np.exp(mu_estimate)/np.sqrt(n)\n",
    "\n",
    "def confidence_interval(estimate, se):\n",
    "    \n",
    "    z = scipy.stats.norm.isf(0.025)\n",
    "    \n",
    "    return (estimate - z*se, estimate + z*se)\n",
    "\n",
    "def parametric_bootstrap_replications(mu_estimate, n, B):\n",
    "    \n",
    "    return np.array([\n",
    "        theta(mu_estimator(\n",
    "            scipy.stats.norm.rvs(loc=mu_estimate, scale=1, size=n)\n",
    "        ))\n",
    "        for _ in range(B)\n",
    "    ])\n",
    "    \n",
    "def se_parametric_bootstrap(mu_estimate, n, B):\n",
    "    return parametric_bootstrap_replications(mu_estimate=mu_estimate, n=n, B=B).std()\n",
    "\n",
    "def nonparametric_bootstrap_resample(data):\n",
    "    return np.array(random.choices(population=data, k=len(data)))\n",
    "\n",
    "def nonparametric_bootstrap_replications(data, B=100):\n",
    "    \n",
    "    return np.array([\n",
    "        theta(mu_estimator(\n",
    "            nonparametric_bootstrap_resample(data)\n",
    "        ))\n",
    "        for _ in range(B)\n",
    "    ])\n",
    "    \n",
    "def se_nonparametric_bootstrap(data, B=100):\n",
    "    return nonparametric_bootstrap_replications(data=data, B=B).std()\n",
    "\n",
    "def mle_confidence_intervals(mu=5, n=100, B=int(1e3)):\n",
    "    \n",
    "    # Generate the data\n",
    "    data = generate_data(mu=mu, n=n)\n",
    "    \n",
    "    # Estimate mu and theta\n",
    "    mu_estimate = mu_estimator(data)\n",
    "    theta_estimate = theta(mu_estimate)\n",
    "    \n",
    "    # Initialize the output dictionary\n",
    "    confidence_intervals = {\n",
    "        \"delta\": None,\n",
    "        \"parametric\": None,\n",
    "        \"nonparametric\": None\n",
    "    }\n",
    "    \n",
    "    # Delta method\n",
    "    confidence_intervals[\"delta\"] = confidence_interval(\n",
    "        theta_estimate,\n",
    "        se_delta(mu_estimate=mu_estimate, n=n)\n",
    "    )\n",
    "    \n",
    "    # Parametric bootstrap\n",
    "    confidence_intervals[\"parametric\"] = confidence_interval(\n",
    "        theta_estimate,\n",
    "        se_parametric_bootstrap(mu_estimate=mu_estimate, n=n, B=B)\n",
    "    )\n",
    "    \n",
    "    # Nonparametric bootstrap\n",
    "    confidence_intervals[\"nonparametric\"] = confidence_interval(\n",
    "        theta_estimate,\n",
    "        se_nonparametric_bootstrap(data, B=B)\n",
    "    )\n",
    "    \n",
    "    return confidence_intervals"
   ]
  },
  {
   "cell_type": "code",
   "execution_count": 27,
   "id": "d06fc9c4",
   "metadata": {},
   "outputs": [
    {
     "name": "stdout",
     "output_type": "stream",
     "text": [
      "------------------------------------------\n",
      "95% Confidence intervals\n",
      "------------------------------------------\n",
      "Delta method:                   (122, 182)\n",
      "Parametric bootstrap method:    (122, 182)\n",
      "Nonparametric bootstrap method: (123, 181)\n",
      "------------------------------------------\n",
      "\n"
     ]
    }
   ],
   "source": [
    "confidence_intervals = mle_confidence_intervals(mu=5, n=100, B=int(1e3))\n",
    "\n",
    "print(\n",
    "    \"------------------------------------------\\n\"\n",
    "    \"95% Confidence intervals\\n\"\n",
    "    \"------------------------------------------\\n\"\n",
    "    \"Delta method:                   \"\n",
    "    f\"({confidence_intervals[\"delta\"][0]:.0f}, {confidence_intervals[\"delta\"][1]:.0f})\\n\"\n",
    "    \"Parametric bootstrap method:    \"\n",
    "    f\"({confidence_intervals[\"parametric\"][0]:.0f}, {confidence_intervals[\"parametric\"][1]:.0f})\\n\"\n",
    "    \"Nonparametric bootstrap method: \"\n",
    "    f\"({confidence_intervals[\"nonparametric\"][0]:.0f}, {confidence_intervals[\"nonparametric\"][1]:.0f})\\n\"\n",
    "    \"------------------------------------------\\n\"\n",
    ")"
   ]
  },
  {
   "cell_type": "code",
   "execution_count": 33,
   "id": "a841e6e7",
   "metadata": {},
   "outputs": [],
   "source": [
    "def plot_distributions(mu=5, n=100, B=int(1e4), trials=int(5e4), lower_x_cutoff = 80, upper_x_cutoff = 240):\n",
    "    \n",
    "    # Generate the data\n",
    "    test_data = generate_data(mu=mu, n=n)\n",
    "    \n",
    "    # Perform the estimation of mu and compute n\n",
    "    mu_estimate = mu_estimator(test_data)\n",
    "    \n",
    "    # Plot the histogram of the parametric bootstrap replications\n",
    "    plt.hist(\n",
    "        parametric_bootstrap_replications(mu_estimate=mu_estimate, n=n, B=B),\n",
    "        label='Param. bootstrap',\n",
    "        density=True, bins=20, alpha=0.5\n",
    "    )\n",
    "    \n",
    "    # Plot the histogram of the nonparametric bootstrap replications\n",
    "    plt.hist(\n",
    "        nonparametric_bootstrap_replications(test_data, B=B),\n",
    "        label='Nonparam. bootstrap',\n",
    "        density=True, bins=20, alpha=0.5\n",
    "    )\n",
    "    \n",
    "    # Plot the asymptotic Normal distribution approximated by the delta method\n",
    "    se = se_delta(mu_estimate, n)\n",
    "    x = np.linspace(start=lower_x_cutoff, stop=upper_x_cutoff, num=500)\n",
    "    y = scipy.stats.norm.pdf(x, loc=theta(mu_estimate), scale=se)\n",
    "    plt.plot(x, y, label='Asymp. Normal dist.')\n",
    "    \n",
    "    # Plot a histogram estimate of the true sampling distribution of the theta estimate\n",
    "    sampling_distribution = np.array([\n",
    "        theta(mu_estimator(generate_data()))\n",
    "        for _ in range(trials)\n",
    "    ])\n",
    "    plt.hist(\n",
    "        sampling_distribution,\n",
    "        label='Sampling dist.',\n",
    "        density=True, bins=40, alpha=0.5\n",
    "    )\n",
    "    \n",
    "    # Finalize and show the plot\n",
    "    plt.legend(loc='upper right')\n",
    "    plt.show()"
   ]
  },
  {
   "cell_type": "code",
   "execution_count": 40,
   "id": "ad6784f8",
   "metadata": {},
   "outputs": [
    {
     "data": {
      "image/png": "[encoded data removed]",
      "text/plain": [
       "<Figure size 640x480 with 1 Axes>"
      ]
     },
     "metadata": {},
     "output_type": "display_data"
    }
   ],
   "source": [
    "plot_distributions()"
   ]
  },
  {
   "cell_type": "code",
   "execution_count": null,
   "id": "6701c29f",
   "metadata": {},
   "outputs": [],
   "source": []
  },
  {
   "cell_type": "code",
   "execution_count": null,
   "id": "e2d556d0",
   "metadata": {},
   "outputs": [],
   "source": []
  },
  {
   "cell_type": "code",
   "execution_count": null,
   "id": "6ca136f4",
   "metadata": {},
   "outputs": [],
   "source": []
  },
  {
   "cell_type": "code",
   "execution_count": null,
   "id": "02286526",
   "metadata": {},
   "outputs": [],
   "source": []
  },
  {
   "cell_type": "code",
   "execution_count": null,
   "id": "af4de4f8",
   "metadata": {},
   "outputs": [],
   "source": []
  },
  {
   "cell_type": "code",
   "execution_count": null,
   "id": "9e0a6b82",
   "metadata": {},
   "outputs": [],
   "source": []
  },
  {
   "cell_type": "code",
   "execution_count": null,
   "id": "35e57cb1",
   "metadata": {},
   "outputs": [],
   "source": []
  }
 ],
 "metadata": {
  "kernelspec": {
   "display_name": "venv",
   "language": "python",
   "name": "venv"
  },
  "language_info": {
   "codemirror_mode": {
    "name": "ipython",
    "version": 3
   },
   "file_extension": ".py",
   "mimetype": "text/x-python",
   "name": "python",
   "nbconvert_exporter": "python",
   "pygments_lexer": "ipython3",
   "version": "3.12.3"
  }
 },
 "nbformat": 4,
 "nbformat_minor": 5
}
