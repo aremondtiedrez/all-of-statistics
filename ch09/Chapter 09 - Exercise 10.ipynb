{
 "cells": [
  {
   "cell_type": "code",
   "execution_count": 1,
   "id": "e75c3434",
   "metadata": {},
   "outputs": [],
   "source": [
    "import matplotlib.pyplot as plt\n",
    "import numpy as np\n",
    "import random\n",
    "import scipy.stats"
   ]
  },
  {
   "cell_type": "markdown",
   "id": "9c17a89a",
   "metadata": {},
   "source": [
    "### Generate the data"
   ]
  },
  {
   "cell_type": "code",
   "execution_count": 2,
   "id": "809de8d4",
   "metadata": {},
   "outputs": [],
   "source": [
    "def generate_data(theta=1, n=50):\n",
    "    return scipy.stats.uniform(scale=theta).rvs(size=n)"
   ]
  },
  {
   "cell_type": "markdown",
   "id": "ce6559cc",
   "metadata": {},
   "source": [
    "### The estimator"
   ]
  },
  {
   "cell_type": "code",
   "execution_count": 3,
   "id": "e4999db5",
   "metadata": {},
   "outputs": [],
   "source": [
    "def theta_estimator(data):\n",
    "    return max(data)"
   ]
  },
  {
   "cell_type": "markdown",
   "id": "8f67b1dc",
   "metadata": {},
   "source": [
    "### Parametric bootstrap replications"
   ]
  },
  {
   "cell_type": "code",
   "execution_count": 4,
   "id": "10e07476",
   "metadata": {},
   "outputs": [],
   "source": [
    "def parametric_bootstrap_replications(theta_estimate, n, B):\n",
    "    return np.array([\n",
    "        theta_estimator(\n",
    "            scipy.stats.uniform.rvs(scale=theta_estimate, size=n)\n",
    "        )\n",
    "        for _ in range(B)\n",
    "    ])"
   ]
  },
  {
   "cell_type": "markdown",
   "id": "ba69d16d",
   "metadata": {},
   "source": [
    "### Nonarametric bootstrap replications"
   ]
  },
  {
   "cell_type": "code",
   "execution_count": 5,
   "id": "0ae51046",
   "metadata": {},
   "outputs": [],
   "source": [
    "def nonparametric_bootstrap_resample(data):\n",
    "    return random.choices(population=data, k=len(data))\n",
    "\n",
    "def nonparametric_bootstrap_replications(data=generate_data(), estimator=theta_estimator, B=1000):\n",
    "    return [estimator(nonparametric_bootstrap_resample(data)) for _ in range(B)]"
   ]
  },
  {
   "cell_type": "markdown",
   "id": "b8c2f9b9",
   "metadata": {},
   "source": [
    "### Compare the bootstrap distribution with the true distribution of the estimator"
   ]
  },
  {
   "cell_type": "markdown",
   "id": "78728e17",
   "metadata": {},
   "source": [
    "The true PDF of the estimator"
   ]
  },
  {
   "cell_type": "code",
   "execution_count": 6,
   "id": "cbec8e94",
   "metadata": {},
   "outputs": [],
   "source": [
    "def f(x, n=50):\n",
    "    if 0 < x < 1:\n",
    "        return n*(x**(n-1))"
   ]
  },
  {
   "cell_type": "code",
   "execution_count": 87,
   "id": "78d9a168",
   "metadata": {},
   "outputs": [],
   "source": [
    "def plot_distributions(theta=1, n=50, B=int(1e3)):\n",
    "\n",
    "    # Focuses the graphs on the meaningful region where x > lower_x_cutoff\n",
    "    lower_x_cutoff = 0.8\n",
    "\n",
    "    # Generate the initial data\n",
    "    data = generate_data(theta=theta, n=n)\n",
    "    # Estimate theta\n",
    "    theta_estimate = theta_estimator(data)\n",
    "\n",
    "    # Generate the parametric bootstrap data\n",
    "    parametric_replicated_data = parametric_bootstrap_replications(theta_estimate=theta_estimate, n=n, B=B)\n",
    "    # Plot the parametric bootstrap data\n",
    "    plt.hist(parametric_replicated_data, alpha=0.5, density=True, label='Parametric replications')\n",
    "\n",
    "    # Generate the nonparametric bootstrap data\n",
    "    nonparametric_replicated_data = np.array(nonparametric_bootstrap_replications(data))\n",
    "    # Plot the nonparametric bootstrap data\n",
    "    plt.hist(nonparametric_replicated_data, alpha=0.5, density=True, label='Nonparametric replications')\n",
    "\n",
    "    # Plot the true distribution\n",
    "    x = np.linspace(start=lower_x_cutoff, stop=1, num=1000)\n",
    "    y = [f(xi) for xi in x]\n",
    "    plt.plot(x, y, label='True distribution')\n",
    "\n",
    "    # Plot legend and axes\n",
    "    plt.legend(loc='upper left')\n",
    "    ax = plt.gca()\n",
    "    ax.set_xlim((lower_x_cutoff, 1.005))\n",
    "    ax.get_yaxis().set_visible(False)\n",
    "    plt.show()\n",
    "    \n",
    "    # For post-mortem analysis\n",
    "    return data"
   ]
  },
  {
   "cell_type": "code",
   "execution_count": 97,
   "id": "263b5250",
   "metadata": {},
   "outputs": [
    {
     "data": {
      "image/png": "[encoded data removed]",
      "text/plain": [
       "<Figure size 640x480 with 1 Axes>"
      ]
     },
     "metadata": {},
     "output_type": "display_data"
    },
    {
     "name": "stdout",
     "output_type": "stream",
     "text": [
      "In the original dataset, the maximum value is 0.98.\n"
     ]
    }
   ],
   "source": [
    "data = plot_distributions(theta=1, n=int(5e1), B=int(1e3))\n",
    "print(f\"In the original dataset, the maximum value is {data.max():.2f}.\")"
   ]
  },
  {
   "cell_type": "code",
   "execution_count": null,
   "id": "155b5fdc",
   "metadata": {},
   "outputs": [],
   "source": []
  },
  {
   "cell_type": "code",
   "execution_count": null,
   "id": "a80fd136",
   "metadata": {},
   "outputs": [],
   "source": []
  },
  {
   "cell_type": "code",
   "execution_count": null,
   "id": "d1e9df0e",
   "metadata": {},
   "outputs": [],
   "source": []
  },
  {
   "cell_type": "code",
   "execution_count": null,
   "id": "86bd6c69",
   "metadata": {},
   "outputs": [],
   "source": []
  },
  {
   "cell_type": "code",
   "execution_count": null,
   "id": "3ef0c4d0",
   "metadata": {},
   "outputs": [],
   "source": []
  },
  {
   "cell_type": "code",
   "execution_count": null,
   "id": "0eeb6053",
   "metadata": {},
   "outputs": [],
   "source": []
  },
  {
   "cell_type": "code",
   "execution_count": null,
   "id": "e53de7a1",
   "metadata": {},
   "outputs": [],
   "source": []
  },
  {
   "cell_type": "code",
   "execution_count": null,
   "id": "1d3bc0da",
   "metadata": {},
   "outputs": [],
   "source": []
  }
 ],
 "metadata": {
  "kernelspec": {
   "display_name": "venv",
   "language": "python",
   "name": "venv"
  },
  "language_info": {
   "codemirror_mode": {
    "name": "ipython",
    "version": 3
   },
   "file_extension": ".py",
   "mimetype": "text/x-python",
   "name": "python",
   "nbconvert_exporter": "python",
   "pygments_lexer": "ipython3",
   "version": "3.12.3"
  }
 },
 "nbformat": 4,
 "nbformat_minor": 5
}
