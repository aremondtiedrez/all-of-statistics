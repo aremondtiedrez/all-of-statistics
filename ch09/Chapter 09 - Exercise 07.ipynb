{
 "cells": [
  {
   "cell_type": "code",
   "execution_count": 1,
   "id": "26947da2",
   "metadata": {},
   "outputs": [],
   "source": [
    "import numpy as np\n",
    "import scipy.stats"
   ]
  },
  {
   "cell_type": "markdown",
   "id": "c1fbfcf7",
   "metadata": {},
   "source": [
    "Define the functions necessary to run the parametric bootstrap"
   ]
  },
  {
   "cell_type": "code",
   "execution_count": 2,
   "id": "21e7c3a7",
   "metadata": {},
   "outputs": [],
   "source": [
    "n1 = 200\n",
    "n2 = 200"
   ]
  },
  {
   "cell_type": "code",
   "execution_count": 3,
   "id": "ea3734a6",
   "metadata": {},
   "outputs": [],
   "source": [
    "def bootstrap_resample(p1_estimate, p2_estimate, n1=n1, n2=n2):\n",
    "    return (\n",
    "        scipy.stats.binom.rvs(n=n1, p=p1_estimate, size=1),\n",
    "        scipy.stats.binom.rvs(n=n2, p=p2_estimate, size=1)\n",
    "    )\n",
    "    \n",
    "def psi_estimator(X, n1=n1, n2=n2):\n",
    "    X1, X2 = X\n",
    "    return X1/n1 - X2/n2"
   ]
  },
  {
   "cell_type": "code",
   "execution_count": 4,
   "id": "24bf2f38",
   "metadata": {},
   "outputs": [
    {
     "name": "stdout",
     "output_type": "stream",
     "text": [
      "The MLE of psi is: 0.06.\n",
      "The delta method estimate of the standard error is:         0.0420.\n",
      "The parametric bootstrap estimate of the standard error is: 0.0419.\n"
     ]
    }
   ],
   "source": [
    "# Record the data\n",
    "\n",
    "X1 = 160\n",
    "X2 = 148\n",
    "\n",
    "# Estimate psi\n",
    "\n",
    "p1_estimate = X1/n1\n",
    "p2_estimate = X2/n2\n",
    "\n",
    "psi_estimate = p1_estimate - p2_estimate\n",
    "\n",
    "# Estimate the standard error using the delta method\n",
    "\n",
    "se_delta = np.sqrt(\n",
    "    (p1_estimate*(1-p1_estimate))/n1\n",
    "    + (p2_estimate*(1-p2_estimate))/n2\n",
    ")\n",
    "\n",
    "# Estimate the standard error using the parametric bootstrap method\n",
    "\n",
    "B = int(5e5)\n",
    "\n",
    "replicated_data = np.array([\n",
    "    psi_estimator(bootstrap_resample(\n",
    "        p1_estimate=p1_estimate, p2_estimate=p2_estimate\n",
    "    ))\n",
    "    for _ in range(B)\n",
    "])\n",
    "\n",
    "se_bootstrap = replicated_data.std()\n",
    "\n",
    "\n",
    "print(\n",
    "    f\"The MLE of psi is: {psi_estimate:.2f}.\\n\"\n",
    "    f\"The delta method estimate of the standard error is:         {se_delta:.4f}.\\n\"\n",
    "    f\"The parametric bootstrap estimate of the standard error is: {se_bootstrap:.4f}.\"\n",
    ")"
   ]
  }
 ],
 "metadata": {
  "kernelspec": {
   "display_name": "venv",
   "language": "python",
   "name": "venv"
  },
  "language_info": {
   "codemirror_mode": {
    "name": "ipython",
    "version": 3
   },
   "file_extension": ".py",
   "mimetype": "text/x-python",
   "name": "python",
   "nbconvert_exporter": "python",
   "pygments_lexer": "ipython3",
   "version": "3.12.3"
  }
 },
 "nbformat": 4,
 "nbformat_minor": 5
}
