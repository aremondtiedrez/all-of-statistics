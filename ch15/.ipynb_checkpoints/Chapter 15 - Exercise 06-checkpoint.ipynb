{
 "cells": [
  {
   "cell_type": "markdown",
   "id": "a9f3cf87",
   "metadata": {},
   "source": [
    "Estimate the correlation between temperature and latitude using the data from\n",
    "https://lib.stat.cmu.edu/DASL/Datafiles/USTemperatures.html.\n",
    "\n",
    "Use the correlation coefficient.\n",
    "Provide estimates, tests, and confidence intervals."
   ]
  },
  {
   "cell_type": "code",
   "execution_count": 1,
   "id": "5e88525d",
   "metadata": {},
   "outputs": [],
   "source": [
    "from collections import namedtuple\n",
    "\n",
    "import numpy as np\n",
    "import pandas as pd\n",
    "import random\n",
    "import scipy.stats"
   ]
  },
  {
   "cell_type": "code",
   "execution_count": 2,
   "id": "35538cbd",
   "metadata": {},
   "outputs": [
    {
     "data": {
      "text/plain": [
       "<Axes: xlabel='Lat', ylabel='JanTemp'>"
      ]
     },
     "execution_count": 2,
     "metadata": {},
     "output_type": "execute_result"
    },
    {
     "data": {
      "image/png": "[encoded data removed]",
      "text/plain": [
       "<Figure size 640x480 with 1 Axes>"
      ]
     },
     "metadata": {},
     "output_type": "display_data"
    }
   ],
   "source": [
    "# Read the data into a pandas data frame\n",
    "temp_df = pd.read_csv('../data/USTemperatures_clean.dat', sep='\\t')\n",
    "\n",
    "# Sanity check: plot the two colums of interest against one another\n",
    "temp_df.plot.scatter(x='Lat', y='JanTemp')"
   ]
  },
  {
   "cell_type": "code",
   "execution_count": 30,
   "id": "e9ab64bc",
   "metadata": {},
   "outputs": [],
   "source": [
    "# Extract the data of interest as a numpy array\n",
    "# Col. 1 = X; Col. 2 = Y\n",
    "data = temp_df[['Lat', 'JanTemp']].to_numpy()\n",
    "\n",
    "FisherCorrelationResult = namedtuple('Fisher_correlation_result',[\n",
    "    'correlation', 'interval', 'theta', 'se'\n",
    "])\n",
    "\n",
    "def fisher_correlation(data, alpha=0.05):\n",
    "    \n",
    "    (n, _) = data.shape\n",
    "    correlation = np.corrcoef(data, rowvar=False)[0,1]\n",
    "    theta = np.arctanh(correlation)\n",
    "    se = 1/np.sqrt(n-3)\n",
    "    z = scipy.stats.norm.isf(alpha/2)\n",
    "\n",
    "    lower_bound = np.tanh(theta - z*se)\n",
    "    upper_bound = np.tanh(theta + z*se)\n",
    "    \n",
    "    return FisherCorrelationResult(\n",
    "        correlation, (lower_bound, upper_bound), theta, se\n",
    "    )\n",
    "    \n",
    "def bootstrap_resample(data):\n",
    "    return np.array(random.choices(population=data, k=len(data)))\n",
    "\n",
    "def bootstrap_replications(data, B):\n",
    "    return np.array([\n",
    "        fisher_correlation(bootstrap_resample(data)).correlation\n",
    "        for _ in range(B)\n",
    "    ])\n",
    "    \n",
    "# We use a *percentile* bootstrap confidence interval\n",
    "# since the distribution of the plug-in estimate for\n",
    "# the correlation coefficient CANNOT be normally distributed\n",
    "# (it is contained between -1 and 1).\n",
    "def bootstrap_percentile_interval(data, B, alpha=0.05):\n",
    "    \n",
    "    replicated_data = bootstrap_replications(data, B)\n",
    "    \n",
    "    lower_bound = np.quantile(replicated_data, q=alpha/2)\n",
    "    upper_bound = np.quantile(replicated_data, q=1-alpha/2)\n",
    "    \n",
    "    return (lower_bound, upper_bound)\n",
    "\n",
    "def wald(data, alpha=0.05):\n",
    "    \n",
    "    fisher_result = fisher_correlation(data)\n",
    "    test_statistic = fisher_result.theta/fisher_result.se\n",
    "    pvalue = 2*scipy.stats.norm.cdf(-np.abs(test_statistic))\n",
    "    \n",
    "    return pvalue\n",
    "\n",
    "def report(data, B=int(1e4)):\n",
    "    \n",
    "    # Fisher estimate and confidence interval for the correlation\n",
    "    fisher_result = fisher_correlation(data)\n",
    "    fisher_lb, fisher_ub = fisher_result.interval\n",
    "    \n",
    "    # Bootstrap confidence interval for the correlation\n",
    "    boot_lb, boot_ub = bootstrap_percentile_interval(data, B)\n",
    "    \n",
    "    # p-value of the Fisher-Wald test for correlation\n",
    "    pvalue = wald(data)\n",
    "    \n",
    "    print(\n",
    "        \"The correlation estimate is \"\n",
    "        f\"{fisher_result.correlation:.2}.\\n\"\n",
    "        \"The Fisher confidence interval is: \"\n",
    "        f\"({fisher_lb:.2f}, {fisher_ub:.2f})\\n\"\n",
    "        \"The bootstrap confidence interval is: \"\n",
    "        f\"({boot_lb:.2f}, {boot_ub:.2f})\\n\"\n",
    "        \"The p-value of the Fisher-Wald test \"\n",
    "        f\"for correlation is {pvalue:.3}\"\n",
    "    )"
   ]
  },
  {
   "cell_type": "code",
   "execution_count": 31,
   "id": "cd311147",
   "metadata": {},
   "outputs": [
    {
     "name": "stdout",
     "output_type": "stream",
     "text": [
      "The correlation estimate is -0.85.\n",
      "The Fisher confidence interval is: (-0.91, -0.75)\n",
      "The bootstrap confidence interval is: (-0.94, -0.70)\n",
      "The p-value of the Fisher-Wald test for correlation is 9.57e-20\n"
     ]
    }
   ],
   "source": [
    "report(data)"
   ]
  },
  {
   "cell_type": "markdown",
   "id": "71eca430",
   "metadata": {},
   "source": [
    "### Analysis of the results\n",
    "- There is overwhelming evidence that the two variables,\n",
    "  latitude and temperature, are correlated.\n",
    "- The correlation is estimated to be between $-0.9$ and $-0.75$\n",
    "  (using Fisher's method, the bootstrap confidence interval\n",
    "  is a little wider)."
   ]
  }
 ],
 "metadata": {
  "kernelspec": {
   "display_name": "venv",
   "language": "python",
   "name": "venv"
  },
  "language_info": {
   "codemirror_mode": {
    "name": "ipython",
    "version": 3
   },
   "file_extension": ".py",
   "mimetype": "text/x-python",
   "name": "python",
   "nbconvert_exporter": "python",
   "pygments_lexer": "ipython3",
   "version": "3.12.3"
  }
 },
 "nbformat": 4,
 "nbformat_minor": 5
}
