{
 "cells": [
  {
   "cell_type": "markdown",
   "id": "60b3ecc7",
   "metadata": {},
   "source": [
    "Test whether calcium intake and drop in blood pressure are associated.\n",
    "Use the data in http://lib.stat.cmu.edu/DASL/Datafiles/Calcium.html"
   ]
  },
  {
   "cell_type": "code",
   "execution_count": 1,
   "id": "73587e57",
   "metadata": {},
   "outputs": [],
   "source": [
    "from collections import Counter\n",
    "\n",
    "import matplotlib.pyplot as plt\n",
    "import numpy as np\n",
    "import pandas as pd\n",
    "import scipy.stats"
   ]
  },
  {
   "cell_type": "code",
   "execution_count": 2,
   "id": "786519a7",
   "metadata": {},
   "outputs": [
    {
     "data": {
      "text/html": [
       "<div>\n",
       "<style scoped>\n",
       "    .dataframe tbody tr th:only-of-type {\n",
       "        vertical-align: middle;\n",
       "    }\n",
       "\n",
       "    .dataframe tbody tr th {\n",
       "        vertical-align: top;\n",
       "    }\n",
       "\n",
       "    .dataframe thead th {\n",
       "        text-align: right;\n",
       "    }\n",
       "</style>\n",
       "<table border=\"1\" class=\"dataframe\">\n",
       "  <thead>\n",
       "    <tr style=\"text-align: right;\">\n",
       "      <th></th>\n",
       "      <th>Treatment</th>\n",
       "      <th>Decrease</th>\n",
       "    </tr>\n",
       "  </thead>\n",
       "  <tbody>\n",
       "    <tr>\n",
       "      <th>0</th>\n",
       "      <td>Calcium</td>\n",
       "      <td>7</td>\n",
       "    </tr>\n",
       "    <tr>\n",
       "      <th>1</th>\n",
       "      <td>Calcium</td>\n",
       "      <td>-4</td>\n",
       "    </tr>\n",
       "    <tr>\n",
       "      <th>2</th>\n",
       "      <td>Calcium</td>\n",
       "      <td>18</td>\n",
       "    </tr>\n",
       "    <tr>\n",
       "      <th>3</th>\n",
       "      <td>Calcium</td>\n",
       "      <td>17</td>\n",
       "    </tr>\n",
       "    <tr>\n",
       "      <th>4</th>\n",
       "      <td>Calcium</td>\n",
       "      <td>-3</td>\n",
       "    </tr>\n",
       "    <tr>\n",
       "      <th>5</th>\n",
       "      <td>Calcium</td>\n",
       "      <td>-5</td>\n",
       "    </tr>\n",
       "    <tr>\n",
       "      <th>6</th>\n",
       "      <td>Calcium</td>\n",
       "      <td>1</td>\n",
       "    </tr>\n",
       "    <tr>\n",
       "      <th>7</th>\n",
       "      <td>Calcium</td>\n",
       "      <td>10</td>\n",
       "    </tr>\n",
       "    <tr>\n",
       "      <th>8</th>\n",
       "      <td>Calcium</td>\n",
       "      <td>11</td>\n",
       "    </tr>\n",
       "    <tr>\n",
       "      <th>9</th>\n",
       "      <td>Calcium</td>\n",
       "      <td>-2</td>\n",
       "    </tr>\n",
       "    <tr>\n",
       "      <th>10</th>\n",
       "      <td>Placebo</td>\n",
       "      <td>-1</td>\n",
       "    </tr>\n",
       "    <tr>\n",
       "      <th>11</th>\n",
       "      <td>Placebo</td>\n",
       "      <td>12</td>\n",
       "    </tr>\n",
       "    <tr>\n",
       "      <th>12</th>\n",
       "      <td>Placebo</td>\n",
       "      <td>-1</td>\n",
       "    </tr>\n",
       "    <tr>\n",
       "      <th>13</th>\n",
       "      <td>Placebo</td>\n",
       "      <td>-3</td>\n",
       "    </tr>\n",
       "    <tr>\n",
       "      <th>14</th>\n",
       "      <td>Placebo</td>\n",
       "      <td>3</td>\n",
       "    </tr>\n",
       "    <tr>\n",
       "      <th>15</th>\n",
       "      <td>Placebo</td>\n",
       "      <td>-5</td>\n",
       "    </tr>\n",
       "    <tr>\n",
       "      <th>16</th>\n",
       "      <td>Placebo</td>\n",
       "      <td>5</td>\n",
       "    </tr>\n",
       "    <tr>\n",
       "      <th>17</th>\n",
       "      <td>Placebo</td>\n",
       "      <td>2</td>\n",
       "    </tr>\n",
       "    <tr>\n",
       "      <th>18</th>\n",
       "      <td>Placebo</td>\n",
       "      <td>-11</td>\n",
       "    </tr>\n",
       "    <tr>\n",
       "      <th>19</th>\n",
       "      <td>Placebo</td>\n",
       "      <td>-1</td>\n",
       "    </tr>\n",
       "    <tr>\n",
       "      <th>20</th>\n",
       "      <td>Placebo</td>\n",
       "      <td>-3</td>\n",
       "    </tr>\n",
       "  </tbody>\n",
       "</table>\n",
       "</div>"
      ],
      "text/plain": [
       "   Treatment  Decrease\n",
       "0    Calcium         7\n",
       "1    Calcium        -4\n",
       "2    Calcium        18\n",
       "3    Calcium        17\n",
       "4    Calcium        -3\n",
       "5    Calcium        -5\n",
       "6    Calcium         1\n",
       "7    Calcium        10\n",
       "8    Calcium        11\n",
       "9    Calcium        -2\n",
       "10   Placebo        -1\n",
       "11   Placebo        12\n",
       "12   Placebo        -1\n",
       "13   Placebo        -3\n",
       "14   Placebo         3\n",
       "15   Placebo        -5\n",
       "16   Placebo         5\n",
       "17   Placebo         2\n",
       "18   Placebo       -11\n",
       "19   Placebo        -1\n",
       "20   Placebo        -3"
      ]
     },
     "execution_count": 2,
     "metadata": {},
     "output_type": "execute_result"
    }
   ],
   "source": [
    "# Read the data into a pandas data frame\n",
    "calcium_df = pd.read_csv('../data/Calcium_clean.dat', sep='\\t')\n",
    "\n",
    "# Sanity check: print the data frame (only the columns of interest)\n",
    "calcium_df[['Treatment', 'Decrease']]"
   ]
  },
  {
   "cell_type": "markdown",
   "id": "986c9bad",
   "metadata": {},
   "source": [
    "The convenion used here is\n",
    "\\begin{align*}\n",
    "    &Y = 0 \\iff \\text{Treatment}\\\\\n",
    "    &Y = 1 \\iff \\text{Placebo}\n",
    "\\end{align*}\n",
    "and $Z$ denotes the decrease in blood pressure."
   ]
  },
  {
   "cell_type": "code",
   "execution_count": 3,
   "id": "00ddf546",
   "metadata": {},
   "outputs": [],
   "source": [
    "# Transform the data to match the convention above\n",
    "data = np.array([\n",
    "    (1, z)\n",
    "    if treatment == 'Calcium'\n",
    "    else (0, z)\n",
    "    for treatment, z in calcium_df[['Treatment', 'Decrease']].to_numpy()\n",
    "])"
   ]
  },
  {
   "cell_type": "code",
   "execution_count": 4,
   "id": "7d9bfd6e",
   "metadata": {},
   "outputs": [
    {
     "data": {
      "image/png": "[encoded data removed]",
      "text/plain": [
       "<Figure size 640x480 with 1 Axes>"
      ]
     },
     "metadata": {},
     "output_type": "display_data"
    }
   ],
   "source": [
    "# Sanity check: plot the two empirical CDFs\n",
    "\n",
    "F0 = scipy.stats.ecdf([z for y, z in data if y==0])\n",
    "F1 = scipy.stats.ecdf([z for y, z in data if y==1])\n",
    "\n",
    "F0.cdf.plot()\n",
    "F1.cdf.plot()\n",
    "plt.show()"
   ]
  },
  {
   "cell_type": "code",
   "execution_count": 5,
   "id": "ac84b43f",
   "metadata": {},
   "outputs": [
    {
     "name": "stdout",
     "output_type": "stream",
     "text": [
      "The Kolmogorov-Smirnov test has a pvalue of 0.345\n"
     ]
    }
   ],
   "source": [
    "# Perform the Kolmogorov-Smirnov two-sample test for independence\n",
    "\n",
    "Z = data[:, 1]\n",
    "ks_test_statistic = np.max(np.abs(\n",
    "    F0.cdf.evaluate(Z) - F1.cdf.evaluate(Z)\n",
    "))\n",
    "\n",
    "Y = data[:, 0]\n",
    "n0 = sum(1-Y)\n",
    "n1 = sum(Y)\n",
    "\n",
    "# The dsitribution known in the notes as the Kolmogorov distribution\n",
    "# is known to scipy.stats as 'kstwobign'\n",
    "pval = scipy.stats.kstwobign.sf(\n",
    "    np.sqrt(n0*n1/(n0+n1))*ks_test_statistic\n",
    ")\n",
    "\n",
    "# Report the result\n",
    "print(\n",
    "    f\"The Kolmogorov-Smirnov test has a pvalue of {pval:.3}\"\n",
    ")"
   ]
  },
  {
   "cell_type": "markdown",
   "id": "2d97d610",
   "metadata": {},
   "source": [
    "## Analysis of the result\n",
    "In this instance the Kolmogorov-Smirnov test does not allow us to reject the null that\n",
    "the variables $Y$ and $Z$ are independent.\n",
    "In other words we **cannot** conclude from this data that calcium intake\n",
    "and drop in blood pressure are associated."
   ]
  }
 ],
 "metadata": {
  "kernelspec": {
   "display_name": "venv",
   "language": "python",
   "name": "venv"
  },
  "language_info": {
   "codemirror_mode": {
    "name": "ipython",
    "version": 3
   },
   "file_extension": ".py",
   "mimetype": "text/x-python",
   "name": "python",
   "nbconvert_exporter": "python",
   "pygments_lexer": "ipython3",
   "version": "3.12.3"
  }
 },
 "nbformat": 4,
 "nbformat_minor": 5
}
