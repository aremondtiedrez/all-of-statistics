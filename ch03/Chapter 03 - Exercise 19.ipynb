{
 "cells": [
  {
   "cell_type": "markdown",
   "id": "68ea70fc",
   "metadata": {},
   "source": [
    "#### Problem\n",
    "This question is to help you understand the idea of a **sampling distribution**.\n",
    "Let $X_1,\\,\\dots,\\,X_n$ be IID with mean $\\mu$ and variance $\\sigma^2$.\n",
    "Let $\\overline{X}_n = n^{-1} \\sum_{i=1}^n X_i$.\n",
    "Then $\\overline{X}_n$ is a **statistic**, that is, a function of the data.\n",
    "Since $\\overline{X}_n$ is a random variable, it has a distribution.\n",
    "This distribution is called the *sampling distribution of the statistic*.\n",
    "Recall that $\\mathbb{E} \\big( \\overline{X}_n \\big) = \\mu$\n",
    "and $\\mathbb{V} \\big( \\overline{X}_n \\big) = \\frac{\\sigma^2}{n}$.\n",
    "Don't confuse the distribution of the data $f_X$ and the distribution of the statistic $f_{\\overline{X}_n}$.\n",
    "\n",
    "To make this clear, let $X_1,\\,\\dots,\\,X_n \\sim \\text{Uniform}(0,1)$,\n",
    "Plot $f_X$.\n",
    "Now let $\\overline{X}_n = n^{-1} \\sum_{i=1}^n X_i$.\n",
    "Find $\\mathbb{E} \\big( \\overline{X}_n \\big)$ and $\\mathbb{V} \\big( \\overline{X}_n \\big)$.\n",
    "Plot them as a function of $n$.\n",
    "Interpret.\n",
    "Now simulate the distribution of $\\overline{X}_n$ for $n=1,\\,5,\\,25,\\,100$.\n",
    "Check that the simulated values of $\\mathbb{E} \\big( \\overline{X}_n \\big)$\n",
    "and $\\mathbb{V} \\big( \\overline{X}_n \\big)$ agree with your theoretical calculations.\n",
    "What do you notice about the sampling distribution of $\\overline{X}_n$ as $n$ increases?"
   ]
  },
  {
   "cell_type": "markdown",
   "id": "c0ade73c",
   "metadata": {},
   "source": [
    "#### Solution\n",
    "We note that $\\mathbb{E} \\big( \\overline{X}_n \\big) = \\mu = \\frac{1}{2}$\n",
    "and that $\\mathbb{V} \\big( \\overline{X}_n \\big) = \\frac{\\sigma^2}{n} = \\frac{1}{12n}$."
   ]
  },
  {
   "cell_type": "code",
   "execution_count": 1,
   "id": "07d86876",
   "metadata": {},
   "outputs": [],
   "source": [
    "import numpy as np\n",
    "import matplotlib.pyplot as plt\n",
    "\n",
    "from scipy.stats import uniform"
   ]
  },
  {
   "cell_type": "code",
   "execution_count": 2,
   "id": "c7db2412",
   "metadata": {},
   "outputs": [],
   "source": [
    "def sample_mean(n):\n",
    "    \"\"\"Produce a SINGLE realisation of the sample mean.\"\"\"\n",
    "    X = uniform.rvs(size=n)\n",
    "    return np.mean(X)\n",
    "\n",
    "def sample_mean_trials(n, trials):\n",
    "    \"\"\"Produce MANY realisations of the sample mean.\"\"\"\n",
    "    return [sample_mean(n) for _ in range(trials)]\n",
    "\n",
    "def result_string(n, trials, Xn):\n",
    "    mean = np.mean(Xn)\n",
    "    variance = np.var(Xn)\n",
    "    return (\n",
    "        f\"We performed {trials} trials with n = {n} for each trial:\\n\"\n",
    "        f\"The numerical mean is       {mean:.5f}\\n\"\n",
    "        f\"The theoretical mean is     {0.5:.5f}\\n\"\n",
    "        f\"The numerical variance is   {variance:.5f}\\n\"\n",
    "        f\"The theoretical variance is {1/(12*n):.5f}\"\n",
    "    )"
   ]
  },
  {
   "cell_type": "code",
   "execution_count": 3,
   "id": "ca05a2c2",
   "metadata": {},
   "outputs": [
    {
     "name": "stdout",
     "output_type": "stream",
     "text": [
      "We performed 10000 trials with n = 5 for each trial:\n",
      "The numerical mean is       0.49863\n",
      "The theoretical mean is     0.50000\n",
      "The numerical variance is   0.01682\n",
      "The theoretical variance is 0.01667\n"
     ]
    }
   ],
   "source": [
    "n = 5\n",
    "trials = int(1e4)\n",
    "Xn = sample_mean_trials(n, trials)\n",
    "print(result_string(n, trials, Xn))"
   ]
  },
  {
   "cell_type": "code",
   "execution_count": 4,
   "id": "9593125e",
   "metadata": {},
   "outputs": [
    {
     "name": "stdout",
     "output_type": "stream",
     "text": [
      "We performed 10000 trials with n = 25 for each trial:\n",
      "The numerical mean is       0.50157\n",
      "The theoretical mean is     0.50000\n",
      "The numerical variance is   0.00333\n",
      "The theoretical variance is 0.00333\n"
     ]
    }
   ],
   "source": [
    "n = 25\n",
    "trials = int(1e4)\n",
    "Xn = sample_mean_trials(n, trials)\n",
    "print(result_string(n, trials, Xn))"
   ]
  },
  {
   "cell_type": "code",
   "execution_count": 5,
   "id": "3f5919d5",
   "metadata": {},
   "outputs": [
    {
     "name": "stdout",
     "output_type": "stream",
     "text": [
      "We performed 10000 trials with n = 100 for each trial:\n",
      "The numerical mean is       0.49980\n",
      "The theoretical mean is     0.50000\n",
      "The numerical variance is   0.00084\n",
      "The theoretical variance is 0.00083\n"
     ]
    }
   ],
   "source": [
    "n = 100\n",
    "trials = int(1e4)\n",
    "Xn = sample_mean_trials(n, trials)\n",
    "print(result_string(n, trials, Xn))"
   ]
  }
 ],
 "metadata": {
  "kernelspec": {
   "display_name": "Python 3 (ipykernel)",
   "language": "python",
   "name": "python3"
  },
  "language_info": {
   "codemirror_mode": {
    "name": "ipython",
    "version": 3
   },
   "file_extension": ".py",
   "mimetype": "text/x-python",
   "name": "python",
   "nbconvert_exporter": "python",
   "pygments_lexer": "ipython3",
   "version": "3.12.3"
  }
 },
 "nbformat": 4,
 "nbformat_minor": 5
}
