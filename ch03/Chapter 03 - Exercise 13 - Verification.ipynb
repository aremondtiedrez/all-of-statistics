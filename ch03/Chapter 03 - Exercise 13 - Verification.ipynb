{
 "cells": [
  {
   "cell_type": "markdown",
   "id": "2db4ae74",
   "metadata": {},
   "source": [
    "#### Problem\n",
    "Suppose we generate a random variable $X$ in the following way.\n",
    "First we flip a fair coin.\n",
    "If the coin is heads, take $X$ to have a $\\text{Uniform}(0,1)$ distribution.\n",
    "If the coin is tails, take $X$ to have a $\\text{Uniform}(3,4)$ distribution.\n",
    "\n",
    "#### Purpose of this notebook\n",
    "We verify numerically the results obtained analytically."
   ]
  },
  {
   "cell_type": "code",
   "execution_count": 135,
   "id": "6558096b",
   "metadata": {},
   "outputs": [],
   "source": [
    "import numpy as np\n",
    "\n",
    "from scipy.stats import bernoulli\n",
    "from scipy.stats import uniform"
   ]
  },
  {
   "cell_type": "code",
   "execution_count": 136,
   "id": "1ddc9665",
   "metadata": {},
   "outputs": [],
   "source": [
    "def X_from_toss(toss_num):\n",
    "    if toss_num == 0:\n",
    "        return uniform.rvs()\n",
    "    elif toss_num == 1:\n",
    "        return uniform(loc=3).rvs()\n",
    "    else:\n",
    "        raise ValueError(\"The argument of X_from_toss must be 0 or 1.\")"
   ]
  },
  {
   "cell_type": "code",
   "execution_count": 157,
   "id": "fa3d5bdc",
   "metadata": {},
   "outputs": [
    {
     "name": "stdout",
     "output_type": "stream",
     "text": [
      "The sample mean of X is 2.003.\n",
      "The sample variance of X is 2.329.\n"
     ]
    }
   ],
   "source": [
    "n = int(1e5)\n",
    "Y = bernoulli.rvs(p=1/2, size=n)\n",
    "Xraw = [uniform.rvs(size=n), uniform.rvs(loc=3, size=n)]\n",
    "X = [Xraw[Yi][i] for i, Yi in enumerate(Y)]\n",
    "\n",
    "sample_mean = np.mean(X)\n",
    "sample_var = np.sum((X - sample_mean)**2) / (len(X) - 1)\n",
    "\n",
    "print(f\"The sample mean of X is {sample_mean:.3f}.\")\n",
    "print(f\"The sample variance of X is {sample_var:.3f}.\")"
   ]
  }
 ],
 "metadata": {
  "kernelspec": {
   "display_name": "Python 3 (ipykernel)",
   "language": "python",
   "name": "python3"
  },
  "language_info": {
   "codemirror_mode": {
    "name": "ipython",
    "version": 3
   },
   "file_extension": ".py",
   "mimetype": "text/x-python",
   "name": "python",
   "nbconvert_exporter": "python",
   "pygments_lexer": "ipython3",
   "version": "3.12.3"
  }
 },
 "nbformat": 4,
 "nbformat_minor": 5
}
