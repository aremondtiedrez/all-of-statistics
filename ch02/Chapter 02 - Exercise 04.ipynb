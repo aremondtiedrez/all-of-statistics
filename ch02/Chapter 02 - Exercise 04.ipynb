{
 "cells": [
  {
   "cell_type": "markdown",
   "id": "1fe71368",
   "metadata": {},
   "source": [
    "This is a test to see if we are able to\n",
    "1. sample from a random variable with a custom CDF and\n",
    "2. plot the empirical CDF of (another) sampled random variable."
   ]
  },
  {
   "cell_type": "code",
   "execution_count": 1,
   "id": "c8614f01",
   "metadata": {},
   "outputs": [],
   "source": [
    "import scipy.stats\n",
    "\n",
    "def F(x):\n",
    "    if x <= 0:\n",
    "        return 0\n",
    "    if 0 < x <= 1:\n",
    "        return x/4\n",
    "    if 1 < x <= 3:\n",
    "        return 1/4\n",
    "    if 3 < x <= 5:\n",
    "        return (1/4) + 3*(x-3)/8\n",
    "    if 5 < x:\n",
    "        return 1\n",
    "\n",
    "class custom_dist(scipy.stats.rv_continuous):\n",
    "    def _cdf(self, x):\n",
    "        return F(x)"
   ]
  },
  {
   "cell_type": "code",
   "execution_count": 25,
   "id": "c613a757",
   "metadata": {},
   "outputs": [
    {
     "data": {
      "image/png": "[encoded data removed]",
      "text/plain": [
       "<Figure size 432x288 with 1 Axes>"
      ]
     },
     "metadata": {
      "needs_background": "light"
     },
     "output_type": "display_data"
    }
   ],
   "source": [
    "import matplotlib.pyplot as plt\n",
    "import numpy as np\n",
    "\n",
    "X = custom_dist().rvs(size=2000)\n",
    "ycutoff = 5\n",
    "Y = [1/x for x in X if 1/x < ycutoff] # Cut-off Y at y=ycutoff to avoid too much of the tail being plotted\n",
    "\n",
    "plt.plot(np.sort(Y), np.linspace(0, 1, len(Y), endpoint=False))\n",
    "plt.show()"
   ]
  }
 ],
 "metadata": {
  "kernelspec": {
   "display_name": "Python 3 (ipykernel)",
   "language": "python",
   "name": "python3"
  },
  "language_info": {
   "codemirror_mode": {
    "name": "ipython",
    "version": 3
   },
   "file_extension": ".py",
   "mimetype": "text/x-python",
   "name": "python",
   "nbconvert_exporter": "python",
   "pygments_lexer": "ipython3",
   "version": "3.12.3"
  }
 },
 "nbformat": 4,
 "nbformat_minor": 5
}
