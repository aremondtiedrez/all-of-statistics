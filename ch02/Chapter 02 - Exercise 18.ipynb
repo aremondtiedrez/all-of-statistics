{
 "cells": [
  {
   "cell_type": "markdown",
   "id": "3cb09889",
   "metadata": {},
   "source": [
    "### Exercise\n",
    "Let $X\\sim N(3, 16)$.\n",
    "1. Find $\\mathbb{P}(X < 7)$.\n",
    "2. Find $\\mathbb{P}(X > -2)$.\n",
    "3. Find $x$ such that $\\mathbb{P}(X > x) = 0.05$.\n",
    "4. Find $\\mathbb{P}(0\\leqslant X < 4)$.\n",
    "5. Find $x$ such that $\\mathbb{P} ( |X| > |x| ) = 0.05$."
   ]
  },
  {
   "cell_type": "code",
   "execution_count": 1,
   "id": "a858cece",
   "metadata": {},
   "outputs": [],
   "source": [
    "import numpy as np\n",
    "from scipy.stats import norm\n",
    "\n",
    "X = norm(loc=3, scale=4)"
   ]
  },
  {
   "cell_type": "markdown",
   "id": "f14f392e",
   "metadata": {},
   "source": [
    "Theoretical computations"
   ]
  },
  {
   "cell_type": "code",
   "execution_count": 2,
   "id": "c1a54dfd",
   "metadata": {},
   "outputs": [
    {
     "name": "stdout",
     "output_type": "stream",
     "text": [
      "1. P(X < 7) = 0.84\n",
      "2. P(X > -2) = 0.89\n",
      "   Alternatively, P(X > -2) = 0.89\n",
      "3. P(X > x) = 0.05 occurs for x = 9.58\n",
      "4. P(0 < X < 4) = 0.37\n",
      "\n"
     ]
    }
   ],
   "source": [
    "print(\n",
    "    f\"1. P(X < 7) = {X.cdf(7):.2f}\\n\"\n",
    "    f\"2. P(X > -2) = {1 - X.cdf(-2):.2f}\\n\"\n",
    "    f\"   Alternatively, P(X > -2) = {1 - X.cdf(-2):.2f}\\n\"\n",
    "    f\"3. P(X > x) = 0.05 occurs for x = {X.ppf(1-0.05):.2f}\\n\"\n",
    "    f\"4. P(0 < X < 4) = {X.cdf(4) - X.cdf(0):.2f}\\n\"\n",
    ")"
   ]
  },
  {
   "cell_type": "markdown",
   "id": "1f66620d",
   "metadata": {},
   "source": [
    "The last item, number 5, is more delicate since the distribution of $X$ is *not* symmetric about zero.\n",
    "We therefore search for the smallest $x$ for which $F(x) - F(-x) > 0.95$."
   ]
  },
  {
   "cell_type": "code",
   "execution_count": 3,
   "id": "3977dd4f",
   "metadata": {},
   "outputs": [
    {
     "name": "stdout",
     "output_type": "stream",
     "text": [
      "5. P(|X| > x) = 0.05 for x = 9.62\n"
     ]
    }
   ],
   "source": [
    "xpoints = np.linspace(-10, 10, 1000)\n",
    "ypoints = X.cdf(xpoints) - X.cdf(-xpoints)\n",
    "x = xpoints[next(i for i, y in enumerate(ypoints) if y > 0.95)]\n",
    "print(f\"5. P(|X| > x) = 0.05 for x = {x:.2f}\")"
   ]
  },
  {
   "cell_type": "markdown",
   "id": "37aa0af2",
   "metadata": {},
   "source": [
    "Empirical validation"
   ]
  },
  {
   "cell_type": "code",
   "execution_count": 4,
   "id": "58952552",
   "metadata": {},
   "outputs": [],
   "source": [
    "N = 1000000\n",
    "samples = X.rvs(size=N)"
   ]
  },
  {
   "cell_type": "code",
   "execution_count": 5,
   "id": "4a1d730e",
   "metadata": {},
   "outputs": [
    {
     "name": "stdout",
     "output_type": "stream",
     "text": [
      "1. 84% of the samples are below 7.\n",
      "2. 89% of the samples are above -2.\n",
      "3. 5.0% of the samples are above 9.58.\n",
      "4. 37% of the samples are between 0 and 4.\n",
      "5. 5.0% of the samples are below -9.62 or above 9.62.\n",
      "\n"
     ]
    }
   ],
   "source": [
    "print(\n",
    "    f\"1. {sum(samples < 7)/N * 100:.0f}% of the samples are below 7.\\n\"\n",
    "    f\"2. {sum(samples > -2)/N * 100:.0f}% of the samples are above -2.\\n\"\n",
    "    f\"3. {sum(samples > 9.58)/N * 100:.1f}% of the samples are above 9.58.\\n\"\n",
    "    f\"4. {sum(abs(samples - 2) < 2)/N * 100:.0f}% of the samples are between 0 and 4.\\n\"\n",
    "    f\"5. {sum(abs(samples) > 9.62)/N * 100:.1f}% of the samples are below -9.62 or above 9.62.\\n\"\n",
    ")\n"
   ]
  },
  {
   "cell_type": "markdown",
   "id": "8d6e03d2",
   "metadata": {},
   "source": [
    "We note that, for the last item, the condition is symmetric but does not equally exclude positive and negative samples in practice due to the fact that $X$ is centered at $x=3$. Indeed, the condition $|X| > 9.62$ is much more likely to exclude positive numbers than negative numbers, as shown below."
   ]
  },
  {
   "cell_type": "code",
   "execution_count": 6,
   "id": "0b0d6fe7",
   "metadata": {},
   "outputs": [
    {
     "name": "stdout",
     "output_type": "stream",
     "text": [
      "0.1% of the samples are below 9.62.\n",
      "4.9% of the samples are above 9.62.\n"
     ]
    }
   ],
   "source": [
    "print(\n",
    "    f\"{sum(samples <-9.62)/N * 100:.1f}% of the samples are below 9.62.\\n\"\n",
    "    f\"{sum(samples > 9.62)/N * 100:.1f}% of the samples are above 9.62.\"\n",
    ")"
   ]
  }
 ],
 "metadata": {
  "kernelspec": {
   "display_name": "Python 3 (ipykernel)",
   "language": "python",
   "name": "python3"
  },
  "language_info": {
   "codemirror_mode": {
    "name": "ipython",
    "version": 3
   },
   "file_extension": ".py",
   "mimetype": "text/x-python",
   "name": "python",
   "nbconvert_exporter": "python",
   "pygments_lexer": "ipython3",
   "version": "3.12.3"
  }
 },
 "nbformat": 4,
 "nbformat_minor": 5
}
