{
 "cells": [
  {
   "cell_type": "markdown",
   "id": "3058c4b9",
   "metadata": {},
   "source": [
    "### A universal random number generator\n",
    "Let $X$ have a continuous, strcitly increasing CDF $F$.\n",
    "Let $Y = F(X)$.\n",
    "Find the density of $Y$.\n",
    "This is called the probability integral transform.\n",
    "Now let $U \\sim \\text{Uniform} (0,1)$ and let $Z = F^{-1} (U)$.\n",
    "Show that $Z \\sim F$.\n",
    "Now write a program that takes $\\text{Uniform}(0,1)$ random variables and generates random variables from an $\\text{Exponential} (\\beta)$ distribution.\n",
    "\n",
    "(The first part of the problem is done analytically in the probability notes pdf document.)"
   ]
  },
  {
   "cell_type": "code",
   "execution_count": 7,
   "id": "cac7a942",
   "metadata": {},
   "outputs": [],
   "source": [
    "import matplotlib.pyplot as plt\n",
    "import numpy as np\n",
    "\n",
    "from scipy.stats import uniform\n",
    "\n",
    "def plot_pdf_and_hist(pdf, pdf_param, xmin, xmax, pdf_plt_num_points, sample_list, hist_num_bins):\n",
    "    \n",
    "    plt.hist(sample_list, bins=hist_num_bins, density=True)\n",
    "    \n",
    "    x = np.linspace(xmin, xmax, pdf_plt_num_points)\n",
    "    y = pdf_exp(x, pdf_param)\n",
    "    plt.plot(x, y)\n",
    "    \n",
    "    plt.xlim(xmin, xmax)\n",
    "    \n",
    "    plt.show()"
   ]
  },
  {
   "cell_type": "code",
   "execution_count": 8,
   "id": "612d2058",
   "metadata": {},
   "outputs": [
    {
     "data": {
      "image/png": "[encoded data removed]",
      "text/plain": [
       "<Figure size 432x288 with 1 Axes>"
      ]
     },
     "metadata": {
      "needs_background": "light"
     },
     "output_type": "display_data"
    }
   ],
   "source": [
    "def pdf_exp(z, beta):\n",
    "    return np.exp(-z/beta)/beta\n",
    "\n",
    "def quartile_func(q, beta):\n",
    "    return -beta*np.log(1-q)\n",
    "\n",
    "beta = 1.2\n",
    "U = uniform.rvs(size=100000)\n",
    "Z = quartile_func(U, beta)\n",
    "\n",
    "plot_pdf_and_hist(\n",
    "    pdf=pdf_exp,\n",
    "    pdf_param=beta,\n",
    "    xmin=0.01,\n",
    "    xmax=6,\n",
    "    pdf_plt_num_points=100,\n",
    "    sample_list=Z,\n",
    "    hist_num_bins=100\n",
    ")"
   ]
  },
  {
   "cell_type": "code",
   "execution_count": null,
   "id": "22e808c3",
   "metadata": {},
   "outputs": [],
   "source": []
  },
  {
   "cell_type": "code",
   "execution_count": null,
   "id": "ceb094ee",
   "metadata": {},
   "outputs": [],
   "source": []
  },
  {
   "cell_type": "code",
   "execution_count": null,
   "id": "0dff56c0",
   "metadata": {},
   "outputs": [],
   "source": []
  }
 ],
 "metadata": {
  "kernelspec": {
   "display_name": "Python 3 (ipykernel)",
   "language": "python",
   "name": "python3"
  },
  "language_info": {
   "codemirror_mode": {
    "name": "ipython",
    "version": 3
   },
   "file_extension": ".py",
   "mimetype": "text/x-python",
   "name": "python",
   "nbconvert_exporter": "python",
   "pygments_lexer": "ipython3",
   "version": "3.12.3"
  }
 },
 "nbformat": 4,
 "nbformat_minor": 5
}
