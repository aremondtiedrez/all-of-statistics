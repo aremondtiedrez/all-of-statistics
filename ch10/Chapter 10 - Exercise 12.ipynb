{
 "cells": [
  {
   "cell_type": "code",
   "execution_count": 14,
   "id": "66b9aaeb",
   "metadata": {},
   "outputs": [],
   "source": [
    "import math\n",
    "import numpy as np\n",
    "import scipy.stats\n",
    "\n",
    "import matplotlib.pyplot as plt"
   ]
  },
  {
   "cell_type": "code",
   "execution_count": 139,
   "id": "df0200e2",
   "metadata": {},
   "outputs": [],
   "source": [
    "def poisson_data(lambda0=1, n=20):\n",
    "    return scipy.stats.poisson.rvs(mu=lambda0, size=n)\n",
    "\n",
    "def wald_statistic(data, lambda0):\n",
    "    \n",
    "    n = len(data)\n",
    "    \n",
    "    lambda_estimate = np.mean(data)\n",
    "    \n",
    "    return np.sqrt(n)*(1 - (lambda0/lambda_estimate))\n",
    "\n",
    "def in_rejection_region(test_statistic, alpha):\n",
    "    \n",
    "    z = scipy.stats.norm.isf(alpha/2)\n",
    "    \n",
    "    return abs(test_statistic) > z\n",
    "\n",
    "def empirical_type_I_error(true_lambda, n, alpha, trials):\n",
    "    \n",
    "    test_rejects_null = [\n",
    "        in_rejection_region(\n",
    "            test_statistic=wald_statistic(\n",
    "                poisson_data(\n",
    "                    lambda0=true_lambda,\n",
    "                    n=n),\n",
    "                lambda0=true_lambda),\n",
    "            alpha=alpha\n",
    "        )\n",
    "        for _ in range(trials)\n",
    "    ]\n",
    "    \n",
    "    return np.mean(test_rejects_null)"
   ]
  },
  {
   "cell_type": "markdown",
   "id": "bfa8f181",
   "metadata": {},
   "source": [
    "### Report out the results"
   ]
  },
  {
   "cell_type": "code",
   "execution_count": 159,
   "id": "72c2b26b",
   "metadata": {},
   "outputs": [
    {
     "name": "stdout",
     "output_type": "stream",
     "text": [
      "When n=20 and we perform 10000 trials,\n",
      "the empirical type I error is 0.070\n",
      "\n",
      "\n",
      "When n=500 and we perform 10000 trials,\n",
      "the empirical type I error is 0.053\n"
     ]
    }
   ],
   "source": [
    "true_lambda = 1\n",
    "alpha = 0.05\n",
    "\n",
    "n = 20\n",
    "trials = int(1e4)\n",
    "\n",
    "print(\n",
    "    f\"When n={n} and we perform {int(trials)} trials,\\n\"\n",
    "    f\"the empirical type I error is {\n",
    "        empirical_type_I_error(true_lambda, n, alpha, trials)\n",
    "        :.3f\n",
    "    }\"\n",
    ")\n",
    "print(\"\\n\")\n",
    "\n",
    "n = 500\n",
    "trials = int(1e4)\n",
    "\n",
    "print(\n",
    "    f\"When n={n} and we perform {int(trials)} trials,\\n\"\n",
    "    f\"the empirical type I error is {\n",
    "        empirical_type_I_error(true_lambda, n, alpha, trials)\n",
    "        :.3f\n",
    "    }\"\n",
    ")"
   ]
  }
 ],
 "metadata": {
  "kernelspec": {
   "display_name": "venv",
   "language": "python",
   "name": "venv"
  },
  "language_info": {
   "codemirror_mode": {
    "name": "ipython",
    "version": 3
   },
   "file_extension": ".py",
   "mimetype": "text/x-python",
   "name": "python",
   "nbconvert_exporter": "python",
   "pygments_lexer": "ipython3",
   "version": "3.12.3"
  }
 },
 "nbformat": 4,
 "nbformat_minor": 5
}
