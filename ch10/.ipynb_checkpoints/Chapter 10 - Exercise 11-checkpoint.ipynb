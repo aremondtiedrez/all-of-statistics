{
 "cells": [
  {
   "cell_type": "code",
   "execution_count": 34,
   "id": "bf48d355",
   "metadata": {},
   "outputs": [],
   "source": [
    "import numpy as np\n",
    "import scipy.stats"
   ]
  },
  {
   "cell_type": "markdown",
   "id": "155a86ab",
   "metadata": {},
   "source": [
    "#### Data (entered by hand)"
   ]
  },
  {
   "cell_type": "code",
   "execution_count": 35,
   "id": "3ec182fd",
   "metadata": {},
   "outputs": [],
   "source": [
    "drugs = [\n",
    "    \"chlorpromazine\",\n",
    "    \"dimenhydrinate\",\n",
    "    \"pentobarbital (100 mg)\",\n",
    "    \"pentobarbital (150 mg)\",\n",
    "]\n",
    "\n",
    "treatments = drugs + [\"placebo\"]\n",
    "\n",
    "data = {\n",
    "    \"placebo\": {\n",
    "        \"patients\": 80,\n",
    "        \"nausea\": 45\n",
    "    },\n",
    "    \"chlorpromazine\": {\n",
    "        \"patients\": 75,\n",
    "        \"nausea\": 26\n",
    "    },\n",
    "    \"dimenhydrinate\": {\n",
    "        \"patients\": 85,\n",
    "        \"nausea\": 52\n",
    "    },\n",
    "    \"pentobarbital (100 mg)\": {\n",
    "        \"patients\": 67,\n",
    "        \"nausea\": 35\n",
    "    },\n",
    "    \"pentobarbital (150 mg)\": {\n",
    "        \"patients\": 85,\n",
    "        \"nausea\": 37\n",
    "    }\n",
    "}"
   ]
  },
  {
   "cell_type": "markdown",
   "id": "6d3c7f7d",
   "metadata": {},
   "source": [
    "#### Auxiliary functions"
   ]
  },
  {
   "cell_type": "code",
   "execution_count": 46,
   "id": "18efe6f7",
   "metadata": {},
   "outputs": [],
   "source": [
    "def wald_statistic(p_drug, p_placebo, n):\n",
    "    return np.sqrt(n)*(p_drug - p_placebo)/np.sqrt(p_drug*(1-p_drug)+p_placebo*(1-p_placebo))\n",
    "\n",
    "def pvalue(wald_statistic):\n",
    "    return 2*scipy.stats.norm.cdf(-abs(wald_statistic))"
   ]
  },
  {
   "cell_type": "markdown",
   "id": "61caddd8",
   "metadata": {},
   "source": [
    "#### Main computations"
   ]
  },
  {
   "cell_type": "code",
   "execution_count": 51,
   "id": "628e4e5b",
   "metadata": {},
   "outputs": [],
   "source": [
    "p_estimate = {\n",
    "    treatment:\n",
    "    data[treatment][\"nausea\"]/data[treatment][\"patients\"]\n",
    "    for treatment in treatments\n",
    "}\n",
    "\n",
    "wald_statistics = {\n",
    "    drug:\n",
    "    wald_statistic(\n",
    "        p_drug = p_estimate[drug],\n",
    "        p_placebo = p_estimate[\"placebo\"],\n",
    "        n = data[drug][\"patients\"]\n",
    "    )\n",
    "    for drug in drugs\n",
    "}\n",
    "\n",
    "pvalues = {\n",
    "    drug:\n",
    "    pvalue(wald_statistics[drug])\n",
    "    for drug in drugs\n",
    "}"
   ]
  },
  {
   "cell_type": "markdown",
   "id": "fd9d262a",
   "metadata": {},
   "source": [
    "#### Report the results"
   ]
  },
  {
   "cell_type": "code",
   "execution_count": 68,
   "id": "b5c37d88",
   "metadata": {},
   "outputs": [
    {
     "name": "stdout",
     "output_type": "stream",
     "text": [
      "The estimate of p for the placebo is 0.56.\n",
      "\n",
      "Wald test comparing the placebo\n",
      "to the drug Chlorpromazine.\n",
      "Estimate of p 0.35.\n",
      "Wald test statistic -2.72.\n",
      "The p-value is 0.007.\n",
      "\n",
      "Wald test comparing the placebo\n",
      "to the drug Dimenhydrinate.\n",
      "Estimate of p 0.61.\n",
      "Wald test statistic 0.65.\n",
      "The p-value is 0.514.\n",
      "\n",
      "Wald test comparing the placebo\n",
      "to the drug Pentobarbital (100 mg).\n",
      "Estimate of p 0.52.\n",
      "Wald test statistic -0.47.\n",
      "The p-value is 0.641.\n",
      "\n",
      "Wald test comparing the placebo\n",
      "to the drug Pentobarbital (150 mg).\n",
      "Estimate of p 0.44.\n",
      "Wald test statistic -1.67.\n",
      "The p-value is 0.094.\n"
     ]
    }
   ],
   "source": [
    "print(\n",
    "    f\"The estimate of p for the placebo is {p_estimate[\"placebo\"]:.2f}.\\n\"\n",
    ")\n",
    "\n",
    "print(\"\\n\\n\".join(\n",
    "    \"Wald test comparing the placebo\\n\"\n",
    "    f\"to the drug {drug.capitalize()}.\\n\"\n",
    "    f\"Estimate of p {p_estimate[drug]:.2f}.\\n\"\n",
    "    f\"Wald test statistic {wald_statistics[drug]:.2f}.\\n\"\n",
    "    f\"The p-value is {pvalues[drug]:.3f}.\"\n",
    "    for drug in drugs\n",
    "))"
   ]
  },
  {
   "cell_type": "code",
   "execution_count": null,
   "id": "137770fe",
   "metadata": {},
   "outputs": [],
   "source": []
  },
  {
   "cell_type": "code",
   "execution_count": null,
   "id": "0b128869",
   "metadata": {},
   "outputs": [],
   "source": []
  },
  {
   "cell_type": "code",
   "execution_count": null,
   "id": "866aae09",
   "metadata": {},
   "outputs": [],
   "source": []
  },
  {
   "cell_type": "code",
   "execution_count": null,
   "id": "daad85af",
   "metadata": {},
   "outputs": [],
   "source": []
  },
  {
   "cell_type": "code",
   "execution_count": null,
   "id": "19466f2d",
   "metadata": {},
   "outputs": [],
   "source": []
  },
  {
   "cell_type": "code",
   "execution_count": null,
   "id": "e3f49b11",
   "metadata": {},
   "outputs": [],
   "source": []
  },
  {
   "cell_type": "code",
   "execution_count": null,
   "id": "24709637",
   "metadata": {},
   "outputs": [],
   "source": []
  },
  {
   "cell_type": "code",
   "execution_count": null,
   "id": "17540ab3",
   "metadata": {},
   "outputs": [],
   "source": []
  }
 ],
 "metadata": {
  "kernelspec": {
   "display_name": "venv",
   "language": "python",
   "name": "venv"
  },
  "language_info": {
   "codemirror_mode": {
    "name": "ipython",
    "version": 3
   },
   "file_extension": ".py",
   "mimetype": "text/x-python",
   "name": "python",
   "nbconvert_exporter": "python",
   "pygments_lexer": "ipython3",
   "version": "3.12.3"
  }
 },
 "nbformat": 4,
 "nbformat_minor": 5
}
