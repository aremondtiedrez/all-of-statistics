{
 "cells": [
  {
   "cell_type": "code",
   "execution_count": 2,
   "id": "d31237a6",
   "metadata": {},
   "outputs": [],
   "source": [
    "import math\n",
    "import numpy as np\n",
    "import scipy.stats\n",
    "import random"
   ]
  },
  {
   "cell_type": "markdown",
   "id": "85d6cca0",
   "metadata": {},
   "source": [
    "Enter the data by hand"
   ]
  },
  {
   "cell_type": "code",
   "execution_count": 3,
   "id": "078233c8",
   "metadata": {},
   "outputs": [],
   "source": [
    "X = [\n",
    "    0.225,\n",
    "    0.262,\n",
    "    0.217,\n",
    "    0.240,\n",
    "    0.230,\n",
    "    0.229,\n",
    "    0.235,\n",
    "    0.217\n",
    "]\n",
    "\n",
    "Y = [\n",
    "    0.209,\n",
    "    0.205,\n",
    "    0.196,\n",
    "    0.210,\n",
    "    0.202,\n",
    "    0.207,\n",
    "    0.224,\n",
    "    0.223,\n",
    "    0.220,\n",
    "    0.201\n",
    "]"
   ]
  },
  {
   "cell_type": "markdown",
   "id": "4422bbb6",
   "metadata": {},
   "source": [
    "### Wald test"
   ]
  },
  {
   "cell_type": "code",
   "execution_count": 83,
   "id": "ede76a59",
   "metadata": {},
   "outputs": [
    {
     "name": "stdout",
     "output_type": "stream",
     "text": [
      "The Wald statistic is 3.94\n",
      "The p-value is 0.000080.\n",
      "\n",
      "A 95% confidence interval for the\n",
      "difference of means is (0.01, 0.03).\n"
     ]
    }
   ],
   "source": [
    "# Number of data points\n",
    "m = len(X)\n",
    "n = len(Y)\n",
    "\n",
    "# Sample means\n",
    "sample_mean_X = np.mean(X)\n",
    "sample_mean_Y = np.mean(Y)\n",
    "\n",
    "# Difference of means estimate\n",
    "estimate = sample_mean_X - sample_mean_Y\n",
    "\n",
    "# Population variances\n",
    "pop_var_X = np.var(X)\n",
    "pop_var_Y = np.var(Y)\n",
    "\n",
    "# Estimated standard error\n",
    "se = np.sqrt(pop_var_X/m + pop_var_Y/n)\n",
    "\n",
    "# Wald test statistic\n",
    "W = (sample_mean_X - sample_mean_Y)/se\n",
    "\n",
    "# p-value\n",
    "pvalue = 2*scipy.stats.norm.cdf(-abs(W))\n",
    "\n",
    "# Confidence interval\n",
    "alpha = 0.05\n",
    "z = scipy.stats.norm.isf(alpha/2)\n",
    "lower_bound = estimate - se*z\n",
    "upper_bound = estimate + se*z\n",
    "\n",
    "# Report out\n",
    "print(\n",
    "    f\"The Wald statistic is {W:.2f}\\n\"\n",
    "    f\"The p-value is {pvalue:.6f}.\\n\\n\"\n",
    "    \"A 95% confidence interval for the\\n\"\n",
    "    f\"difference of means is ({lower_bound:.2f}, {upper_bound:.2f}).\"\n",
    ")"
   ]
  },
  {
   "cell_type": "markdown",
   "id": "50760de7",
   "metadata": {},
   "source": [
    "### Permutation test"
   ]
  },
  {
   "cell_type": "code",
   "execution_count": 84,
   "id": "2ab5f49e",
   "metadata": {},
   "outputs": [],
   "source": [
    "def sample_mean_difference(data):\n",
    "    \"\"\"\n",
    "    Expects argument in the form data=(X, Y).\n",
    "    \"\"\"\n",
    "    X, Y = data\n",
    "    return abs(np.mean(X) - np.mean(Y))\n",
    "\n",
    "def permutations(mylist, num):\n",
    "    \"\"\" Generate num-many distinct permutations of mylist \"\"\"\n",
    "    \n",
    "    permutation_list = []\n",
    "    \n",
    "    # Check that we are not asking for more distinct permutations than there are\n",
    "    if num > math.factorial(len(mylist)):\n",
    "        raise ValueError(\"num cannot be larger than factorial(mylist)\")\n",
    "    \n",
    "    while len(permutation_list) < num:\n",
    "        \n",
    "        # Produce a permutation of mylist\n",
    "        new_permutation = random.sample(mylist, len(mylist))\n",
    " \n",
    "        if new_permutation not in permutation_list:\n",
    "            permutation_list.append(new_permutation)\n",
    "            \n",
    "    return permutation_list\n",
    "\n",
    "def data_permutations(data, num):\n",
    "    \"\"\" \n",
    "    Given data=(X, Y) return a list of\n",
    "    num-many permutations of the data,\n",
    "    treating the Xi's and the Yj's\n",
    "    interchangeably. Each permutation\n",
    "    returned is in the form (X, Y) again.\n",
    "    \"\"\"\n",
    "    \n",
    "    X, Y = data\n",
    "    combined_data = X + Y\n",
    "    raw_permutation_list = permutations(X + Y, num)\n",
    "    \n",
    "    # For each permutation in the list,\n",
    "    # split it into two pieces\n",
    "    # according to how many Xi's and Yj's\n",
    "    # were present in the original data\n",
    "    m = len(X)\n",
    "    processed_permutation_list = [\n",
    "        (permutation[:m], permutation[m:])\n",
    "        for permutation in raw_permutation_list\n",
    "    ]\n",
    "    \n",
    "    return processed_permutation_list\n",
    "\n",
    "def permutation_statistic(data, builder_statistic, num):\n",
    "    \"\"\"\n",
    "    Uses num-many permutations to compute\n",
    "    an approximation of the permutation test\n",
    "    statistic (using test_statistic as the\n",
    "    'builder' statistic -- by default\n",
    "    this is the sample mean).\n",
    "    \n",
    "    Expects argument in the form data=(X, Y).\n",
    "    builder_statistic should be a function\n",
    "    taking as argument data=(X, Y).\n",
    "    \"\"\"\n",
    "    \n",
    "    reference_statistic_value = builder_statistic(data)\n",
    "    \n",
    "    permutation_test_statistic = sum(\n",
    "        builder_statistic(permutation) > reference_statistic_value\n",
    "        for permutation in data_permutations(data, num)\n",
    "    )/num\n",
    "    \n",
    "    return permutation_test_statistic"
   ]
  },
  {
   "cell_type": "code",
   "execution_count": 112,
   "id": "eb733bb6",
   "metadata": {},
   "outputs": [
    {
     "name": "stdout",
     "output_type": "stream",
     "text": [
      "For the permutation test,the p-value is 0.00087.\n",
      "(Obtained using 30000 permutations.)\n"
     ]
    }
   ],
   "source": [
    "# Compute the permutation test statistic\n",
    "num=int(3e4)\n",
    "pertmutation_test_statistic = permutation_statistic(\n",
    "    data=(X, Y),\n",
    "    builder_statistic=sample_mean_difference,\n",
    "    num=num\n",
    ")\n",
    "\n",
    "# Report out\n",
    "print(\n",
    "    \"For the permutation test,\"\n",
    "    f\"the p-value is {pertmutation_test_statistic:.5f}.\\n\"\n",
    "    f\"(Obtained using {int(num)} permutations.)\"\n",
    ")"
   ]
  }
 ],
 "metadata": {
  "kernelspec": {
   "display_name": "venv",
   "language": "python",
   "name": "venv"
  },
  "language_info": {
   "codemirror_mode": {
    "name": "ipython",
    "version": 3
   },
   "file_extension": ".py",
   "mimetype": "text/x-python",
   "name": "python",
   "nbconvert_exporter": "python",
   "pygments_lexer": "ipython3",
   "version": "3.12.3"
  }
 },
 "nbformat": 4,
 "nbformat_minor": 5
}
