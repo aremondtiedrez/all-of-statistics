{
 "cells": [
  {
   "cell_type": "code",
   "execution_count": 4,
   "id": "abdd27a5",
   "metadata": {},
   "outputs": [],
   "source": [
    "import numpy as np\n",
    "import scipy.stats"
   ]
  },
  {
   "cell_type": "markdown",
   "id": "d6d9840c",
   "metadata": {},
   "source": [
    "#### The data, entered by hand."
   ]
  },
  {
   "cell_type": "code",
   "execution_count": 14,
   "id": "b09f7641",
   "metadata": {},
   "outputs": [],
   "source": [
    "X = (\n",
    "    55,\n",
    "    33,\n",
    "    70,\n",
    "    49\n",
    ")\n",
    "\n",
    "Y = (\n",
    "    141,\n",
    "    146,\n",
    "    139,\n",
    "    161\n",
    ")"
   ]
  },
  {
   "cell_type": "markdown",
   "id": "8ca76aac",
   "metadata": {},
   "source": [
    "#### Record the form of the likelihood ratio for each week"
   ]
  },
  {
   "cell_type": "code",
   "execution_count": 58,
   "id": "20611206",
   "metadata": {},
   "outputs": [],
   "source": [
    "def likelihood_ratio(x, y, nX, nY):\n",
    "    \n",
    "    return (\n",
    "        ( (x/nX)**x )\n",
    "        *( (y/nY)**y )\n",
    "    )/(\n",
    "        ( (x + y)/(nX + nY) )**(x + y)\n",
    "    )"
   ]
  },
  {
   "cell_type": "markdown",
   "id": "4c153ca1",
   "metadata": {},
   "source": [
    "#### Perform the likelihood ratio test and report the results."
   ]
  },
  {
   "cell_type": "code",
   "execution_count": 69,
   "id": "18f64f1a",
   "metadata": {},
   "outputs": [
    {
     "name": "stdout",
     "output_type": "stream",
     "text": [
      "We performed a likelihood ratio test at level alpha = 0.05.\n",
      "The null hypothesis was rejected.\n",
      "The p-value is 0.00036.\n"
     ]
    }
   ],
   "source": [
    "alpha = 0.05\n",
    "\n",
    "# Compute the number of deaths recorded for each ethnicity\n",
    "nC = sum(X)\n",
    "nJ = sum(Y)\n",
    "\n",
    "# Compute the likelihood ratio statistic\n",
    "likelihood_ratio_statistic = 2*sum(\n",
    "    np.log(likelihood_ratio(xi, yi, nC, nJ))\n",
    "    for xi, yi in zip(X, Y)\n",
    ")\n",
    "\n",
    "# Compute the cutoff above which we reject the null\n",
    "cutoff = scipy.stats.chi2(df=1).isf(alpha)\n",
    "\n",
    "# Determine whether or not we reject the null\n",
    "is_rejected = likelihood_ratio_statistic > cutoff\n",
    "rejection_text = {\n",
    "    True:'The null hypothesis was rejected.',\n",
    "    False:'The null hypothesis was not rejected.'\n",
    "}\n",
    "\n",
    "# Compute the p-value\n",
    "pval = scipy.stats.chi2(df=1).sf(\n",
    "    likelihood_ratio_statistic\n",
    ")\n",
    "\n",
    "# Report out the results\n",
    "print(\n",
    "    f\"We performed a likelihood ratio test at level alpha = {alpha:.2f}.\\n\"\n",
    "    + rejection_text[is_rejected] + \"\\n\"\n",
    "    f\"The p-value is {pval:.5f}.\"\n",
    ")"
   ]
  },
  {
   "cell_type": "markdown",
   "id": "e5369fe5",
   "metadata": {},
   "source": [
    "#### Record the form of Pearson's test statistic when $p_1 = p_2 = p_3 = p_4 = 1/4$"
   ]
  },
  {
   "cell_type": "code",
   "execution_count": 82,
   "id": "44702075",
   "metadata": {},
   "outputs": [],
   "source": [
    "def pearson_statistic(data):\n",
    "    \n",
    "    n = sum(data)\n",
    "    \n",
    "    return (4/n)*sum(\n",
    "        ( xi-(n/4) )**2\n",
    "        for xi in data\n",
    "    )"
   ]
  },
  {
   "cell_type": "markdown",
   "id": "403918b2",
   "metadata": {},
   "source": [
    "#### Perform two of Pearson's $\\chi^2$ test with a Bonferroni correction"
   ]
  },
  {
   "cell_type": "code",
   "execution_count": 152,
   "id": "24126ec9",
   "metadata": {},
   "outputs": [
    {
     "name": "stdout",
     "output_type": "stream",
     "text": [
      "We performed Pearson's chi squared test at level alpha = 0.05,\n",
      "with 2 simultaneously tested hyotheses.\n",
      "\n",
      "We are considering Chinese women.\n",
      "The null hypothesis was rejected.\n",
      "The p-value is 0.004.\n",
      "\n",
      "We are considering Jewish women.\n",
      "The null hypothesis was not rejected.\n",
      "The p-value is 0.568.\n"
     ]
    }
   ],
   "source": [
    "alpha = 0.05\n",
    "\n",
    "# List the ethnicities\n",
    "ethnicities = (\"Chinese\", \"Jewish\")\n",
    "\n",
    "# Number of independent hypothesis test\n",
    "m = 2\n",
    "\n",
    "# Compute Pearson's chi square statistic for each ethnicity\n",
    "T = {\n",
    "    \"Chinese\" : pearson_statistic(X),\n",
    "    \"Jewish\": pearson_statistic(Y)\n",
    "}\n",
    "\n",
    "# Compute the cutoff above which reject the null (without the Bonferroni correction)\n",
    "cutoff = scipy.stats.chi2(df=3).isf(alpha)\n",
    "\n",
    "# Compute the p-value\n",
    "pval = {\n",
    "    ethnicity: scipy.stats.chi2(df=3).sf(\n",
    "        T[ethnicity]\n",
    "    )\n",
    "    for ethnicity in ethnicities\n",
    "}\n",
    "\n",
    "# Determine whether or not we reject the null\n",
    "is_rejected = {\n",
    "    ethnicity : pval[ethnicity] < (alpha/m)\n",
    "    for ethnicity in ethnicities\n",
    "}\n",
    "rejection_text = {\n",
    "    True:'The null hypothesis was rejected.',\n",
    "    False:'The null hypothesis was not rejected.'\n",
    "}\n",
    "\n",
    "# Report out the results\n",
    "intro_text = (\n",
    "        f\"We performed Pearson's chi squared test at level alpha = {alpha:.2f},\\n\"\n",
    "        + f\"with {m:.0f} simultaneously tested hyotheses.\\n\\n\"\n",
    ")\n",
    "result_text = {\n",
    "    ethnicity :\n",
    "        f\"We are considering {ethnicity} women.\\n\"\n",
    "        + rejection_text[is_rejected[ethnicity]] + \"\\n\"\n",
    "        + f\"The p-value is {pval[ethnicity]:.3f}.\"\n",
    "    for ethnicity in ethnicities\n",
    "}\n",
    "\n",
    "print(\n",
    "    intro_text\n",
    "    + \"\\n\\n\".join(\n",
    "        result_text.values()\n",
    "    )\n",
    ")"
   ]
  },
  {
   "cell_type": "code",
   "execution_count": null,
   "id": "511a7275",
   "metadata": {},
   "outputs": [],
   "source": []
  },
  {
   "cell_type": "code",
   "execution_count": null,
   "id": "585e8a62",
   "metadata": {},
   "outputs": [],
   "source": []
  }
 ],
 "metadata": {
  "kernelspec": {
   "display_name": "venv",
   "language": "python",
   "name": "venv"
  },
  "language_info": {
   "codemirror_mode": {
    "name": "ipython",
    "version": 3
   },
   "file_extension": ".py",
   "mimetype": "text/x-python",
   "name": "python",
   "nbconvert_exporter": "python",
   "pygments_lexer": "ipython3",
   "version": "3.12.3"
  }
 },
 "nbformat": 4,
 "nbformat_minor": 5
}
