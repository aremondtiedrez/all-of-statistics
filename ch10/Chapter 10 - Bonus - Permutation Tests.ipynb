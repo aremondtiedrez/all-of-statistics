{
 "cells": [
  {
   "cell_type": "code",
   "execution_count": 1,
   "id": "bd7ec83c",
   "metadata": {},
   "outputs": [],
   "source": [
    "import math\n",
    "import matplotlib.pyplot as plt\n",
    "import numpy as np\n",
    "import scipy.stats"
   ]
  },
  {
   "cell_type": "markdown",
   "id": "05db76ed",
   "metadata": {},
   "source": [
    "### Defining some of the 'builder' statistics that will be used"
   ]
  },
  {
   "cell_type": "code",
   "execution_count": 2,
   "id": "70a01021",
   "metadata": {},
   "outputs": [],
   "source": [
    "def difference_of_statistics(statistic):\n",
    "    \"\"\"\n",
    "    Expects statistic to be a function.\n",
    "    \"\"\"\n",
    "    def myfunction(data):\n",
    "        \"\"\"\n",
    "        Expects data in the form data=(X, Y).\n",
    "        \"\"\"\n",
    "        X, Y = data\n",
    "        return abs(statistic(X) - statistic(Y))\n",
    "    return myfunction\n",
    "\n",
    "sample_mean = np.mean\n",
    "population_variance = np.var\n",
    "\n",
    "# Here are ways in which we can use the function difference_of_statistics.\n",
    "# \n",
    "# To compute the difference in sample means:\n",
    "# difference_of_statistics(sample_mean)(X, Y)\n",
    "# \n",
    "# To compute the difference in population variances:\n",
    "# difference_of_statistics(population_variance)(X, Y)"
   ]
  },
  {
   "cell_type": "markdown",
   "id": "0ebb587f",
   "metadata": {},
   "source": [
    "### Setting up the permutation test"
   ]
  },
  {
   "cell_type": "code",
   "execution_count": 3,
   "id": "9b4d434e",
   "metadata": {},
   "outputs": [],
   "source": [
    "def permutations(mylist, num):\n",
    "    \"\"\" Generate num-many distinct permutations of mylist \"\"\"\n",
    "    \n",
    "    permutation_list = []\n",
    "    \n",
    "    # Check that we are not asking for more distinct permutations than there are\n",
    "    if num > math.factorial(len(mylist)):\n",
    "        raise ValueError(\"num cannot be larger than factorial(mylist)\")\n",
    "    \n",
    "    while len(permutation_list) < num:\n",
    "        \n",
    "        # Produce a permutation of mylist\n",
    "        new_permutation = list(np.random.permutation(mylist))\n",
    " \n",
    "        if new_permutation not in permutation_list:\n",
    "            permutation_list.append(new_permutation)\n",
    "            \n",
    "    return permutation_list\n",
    "\n",
    "def data_permutations(data, num):\n",
    "    \"\"\" \n",
    "    Given data=(X, Y) return a list of\n",
    "    num-many permutations of the data,\n",
    "    treating the Xi's and the Yj's\n",
    "    interchangeably. Each permutation\n",
    "    returned is in the form (X, Y) again.\n",
    "    \"\"\"\n",
    "    \n",
    "    X, Y = data\n",
    "    combined_data = np.concatenate((X, Y))\n",
    "    raw_permutation_list = permutations(combined_data, num)\n",
    "    \n",
    "    # For each permutation in the list,\n",
    "    # split it into two pieces\n",
    "    # according to how many Xi's and Yj's\n",
    "    # were present in the original data\n",
    "    m = len(X)\n",
    "    processed_permutation_list = [\n",
    "        (permutation[:m], permutation[m:])\n",
    "        for permutation in raw_permutation_list\n",
    "    ]\n",
    "    \n",
    "    return processed_permutation_list\n",
    "\n",
    "def permutation_statistic(data, builder_statistic, num):\n",
    "    \"\"\"\n",
    "    Uses num-many permutations to compute\n",
    "    an approximation of the permutation test\n",
    "    statistic (using test_statistic as the\n",
    "    'builder' statistic -- by default\n",
    "    this is the sample mean).\n",
    "    \n",
    "    Expects argument in the form data=(X, Y).\n",
    "    builder_statistic should be a function\n",
    "    taking as argument data=(X, Y).\n",
    "    \"\"\"\n",
    "    \n",
    "    reference_statistic_value = builder_statistic(data)\n",
    "    \n",
    "    permutation_test_statistic = sum(\n",
    "        builder_statistic(permutation) > reference_statistic_value\n",
    "        for permutation in data_permutations(data, num)\n",
    "    )/num\n",
    "    \n",
    "    # Remember:\n",
    "    # The permutation test statistics is EQUAL to the p-value\n",
    "    return permutation_test_statistic"
   ]
  },
  {
   "cell_type": "code",
   "execution_count": 5,
   "id": "7cc3ddca",
   "metadata": {},
   "outputs": [
    {
     "data": {
      "text/plain": [
       "np.float64(0.016)"
      ]
     },
     "execution_count": 5,
     "metadata": {},
     "output_type": "execute_result"
    }
   ],
   "source": [
    "permutation_statistic(\n",
    "    data=(\n",
    "        scipy.stats.norm.rvs(loc=0, scale=1, size=10),\n",
    "        scipy.stats.norm.rvs(loc=1, scale=1, size=10)\n",
    "    ),\n",
    "    builder_statistic=difference_of_statistics(sample_mean),\n",
    "    num=int(1e3)\n",
    ")"
   ]
  },
  {
   "cell_type": "markdown",
   "id": "5e599542",
   "metadata": {},
   "source": [
    "### Automating the process"
   ]
  },
  {
   "cell_type": "code",
   "execution_count": 10,
   "id": "538ffd49",
   "metadata": {},
   "outputs": [],
   "source": [
    "def plot_permutation_test_pvalues(\n",
    "    distribution1,\n",
    "    distribution2,\n",
    "    sample_size,\n",
    "    builder_statistic,\n",
    "    number_of_permutations,\n",
    "    trials\n",
    "):\n",
    "    \n",
    "    pvalue_list = [\n",
    "        permutation_statistic(\n",
    "            data=(\n",
    "                distribution1.rvs(size=sample_size),\n",
    "                distribution2.rvs(size=sample_size)\n",
    "            ),\n",
    "            builder_statistic=builder_statistic,\n",
    "            num=number_of_permutations\n",
    "        )\n",
    "        for _ in range(trials)\n",
    "    ]\n",
    "    \n",
    "    plt.hist(pvalue_list)\n",
    "    plt.show()"
   ]
  },
  {
   "cell_type": "code",
   "execution_count": 21,
   "id": "9e9a2b82",
   "metadata": {},
   "outputs": [
    {
     "data": {
      "image/png": "[encoded data removed]",
      "text/plain": [
       "<Figure size 640x480 with 1 Axes>"
      ]
     },
     "metadata": {},
     "output_type": "display_data"
    }
   ],
   "source": [
    "# Comparing two normal distributions with different means,\n",
    "# using the sample mean as 'builder' statistic\n",
    "\n",
    "plot_permutation_test_pvalues(\n",
    "    distribution1=scipy.stats.norm(loc=0, scale=1),\n",
    "    distribution2=scipy.stats.norm(loc=1, scale=1),\n",
    "    sample_size=10,\n",
    "    builder_statistic=difference_of_statistics(sample_mean),\n",
    "    number_of_permutations=int(1e3),\n",
    "    trials=30\n",
    ")"
   ]
  },
  {
   "cell_type": "code",
   "execution_count": 22,
   "id": "bfec8dae",
   "metadata": {},
   "outputs": [
    {
     "data": {
      "image/png": "[encoded data removed]",
      "text/plain": [
       "<Figure size 640x480 with 1 Axes>"
      ]
     },
     "metadata": {},
     "output_type": "display_data"
    }
   ],
   "source": [
    "# Comparing two normal distributions with different VARIANCES,\n",
    "# using the sample mean as 'builder' statistic\n",
    "\n",
    "plot_permutation_test_pvalues(\n",
    "    distribution1=scipy.stats.norm(loc=0, scale=1),\n",
    "    distribution2=scipy.stats.norm(loc=0, scale=3),\n",
    "    sample_size=10,\n",
    "    builder_statistic=difference_of_statistics(sample_mean),\n",
    "    number_of_permutations=int(1e3),\n",
    "    trials=30\n",
    ")"
   ]
  },
  {
   "cell_type": "code",
   "execution_count": 23,
   "id": "8fc5d4a2",
   "metadata": {},
   "outputs": [
    {
     "data": {
      "image/png": "[encoded data removed]",
      "text/plain": [
       "<Figure size 640x480 with 1 Axes>"
      ]
     },
     "metadata": {},
     "output_type": "display_data"
    }
   ],
   "source": [
    "# Comparing two normal distributions with different VARIANCES,\n",
    "# using the POPULATION VARIANCE as 'builder' statistic\n",
    "\n",
    "plot_permutation_test_pvalues(\n",
    "    distribution1=scipy.stats.norm(loc=0, scale=1),\n",
    "    distribution2=scipy.stats.norm(loc=0, scale=3),\n",
    "    sample_size=10,\n",
    "    builder_statistic=difference_of_statistics(population_variance),\n",
    "    number_of_permutations=int(1e3),\n",
    "    trials=30\n",
    ")"
   ]
  },
  {
   "cell_type": "code",
   "execution_count": null,
   "id": "c89dcc39",
   "metadata": {},
   "outputs": [],
   "source": []
  },
  {
   "cell_type": "code",
   "execution_count": null,
   "id": "3bc4d74a",
   "metadata": {},
   "outputs": [],
   "source": []
  },
  {
   "cell_type": "code",
   "execution_count": null,
   "id": "c90258c5",
   "metadata": {},
   "outputs": [],
   "source": []
  },
  {
   "cell_type": "code",
   "execution_count": null,
   "id": "02294a40",
   "metadata": {},
   "outputs": [],
   "source": []
  },
  {
   "cell_type": "code",
   "execution_count": null,
   "id": "c0a6cebe",
   "metadata": {},
   "outputs": [],
   "source": []
  },
  {
   "cell_type": "code",
   "execution_count": null,
   "id": "eb847970",
   "metadata": {},
   "outputs": [],
   "source": []
  }
 ],
 "metadata": {
  "kernelspec": {
   "display_name": "venv",
   "language": "python",
   "name": "venv"
  },
  "language_info": {
   "codemirror_mode": {
    "name": "ipython",
    "version": 3
   },
   "file_extension": ".py",
   "mimetype": "text/x-python",
   "name": "python",
   "nbconvert_exporter": "python",
   "pygments_lexer": "ipython3",
   "version": "3.12.3"
  }
 },
 "nbformat": 4,
 "nbformat_minor": 5
}
