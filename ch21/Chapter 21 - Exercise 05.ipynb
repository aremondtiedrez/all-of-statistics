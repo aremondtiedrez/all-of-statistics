{
 "cells": [
  {
   "cell_type": "markdown",
   "id": "b7d47226-73d9-495c-a948-f081457ec314",
   "metadata": {},
   "source": [
    "Plot the first five Legendre polynomials.\n",
    "Verify, numerically, that they are orthonormal."
   ]
  },
  {
   "cell_type": "code",
   "execution_count": 18,
   "id": "312f42ac-a6de-4c4d-a83d-b0aa23b0004e",
   "metadata": {},
   "outputs": [],
   "source": [
    "from scipy.special import legendre\n",
    "import itertools"
   ]
  },
  {
   "cell_type": "markdown",
   "id": "a5fc3763-59f8-46a5-825b-104433699727",
   "metadata": {},
   "source": [
    "The first five Legendre polynomials are\n",
    "\\begin{align*}\n",
    "    &P_0 (x) = 1\\\\\n",
    "    &P_1 (x) = x\\\\\n",
    "    &P_2 (x) = \\frac{1}{2} \\left( 3x^2 - 1 \\right)\\\\\n",
    "    &P_3 (x) = \\frac{1}{2} \\left( 5x^3 - 3x \\right)\\\\\n",
    "    &P_4 (x) = \\frac{1}{8} \\left( 35x^4 - 30x^2 + 3 \\right)\n",
    "\\end{align*}"
   ]
  },
  {
   "cell_type": "code",
   "execution_count": 58,
   "id": "f36024fb-7337-4916-b7fd-bc7aae9aca4f",
   "metadata": {},
   "outputs": [
    {
     "name": "stdout",
     "output_type": "stream",
     "text": [
      "We compute the inner product between the Legendre polynomials with n=i and n=j.\n",
      "i=0, j=1; inner product:  0.000.\n",
      "i=0, j=2; inner product:  0.000.\n",
      "i=0, j=3; inner product:  0.000.\n",
      "i=0, j=4; inner product: -0.000.\n",
      "i=1, j=2; inner product:  0.000.\n",
      "i=1, j=3; inner product: -0.000.\n",
      "i=1, j=4; inner product:  0.000.\n",
      "i=2, j=3; inner product:  0.000.\n",
      "i=2, j=4; inner product: -0.000.\n",
      "i=3, j=4; inner product:  0.000.\n"
     ]
    },
    {
     "name": "stderr",
     "output_type": "stream",
     "text": [
      "/home/antoine/Documents/python/.jupyterlabenv/lib/python3.12/site-packages/numpy/lib/_polynomial_impl.py:1343: FutureWarning: In the future extra properties will not be copied across when constructing one poly1d from another\n",
      "  other = poly1d(other)\n"
     ]
    }
   ],
   "source": [
    "# We will verify the orthogonality of\n",
    "# the Legendre polynomials up to n = n_max\n",
    "n_max = 4\n",
    "\n",
    "# Running list of results\n",
    "result = []\n",
    "\n",
    "# itertools.combinations produces\n",
    "# all possible pairs of indices (i, j)\n",
    "# for i, j in {0, ..., n_max}\n",
    "n_generator = range(n_max + 1)\n",
    "for i, j in itertools.combinations(n_list, r=2):\n",
    "    \n",
    "    # Multiply the Legendre polynomials together\n",
    "    # and compute the antiderivative of their product\n",
    "    antiderivative = (legendre(i)*legendre(j)).integ()\n",
    "    \n",
    "    # Use the antiderivative to integrate\n",
    "    # the product of Legendre polynomials from -1 to 1\n",
    "    inner_product = antiderivative(1) - antiderivative(-1)\n",
    "\n",
    "    # Add the result to the running list\n",
    "    result.append((i, j, inner_product))\n",
    "\n",
    "# Report out the results\n",
    "print(\"We compute the inner product between the Legendre polynomials with n=i and n=j.\")\n",
    "for i, j, inner_product in result:\n",
    "    print(f\"i={i}, j={j}; inner product: {inner_product:6.3f}.\")"
   ]
  },
  {
   "cell_type": "markdown",
   "id": "23ac9c83-2fb8-4033-a26c-99059fe37113",
   "metadata": {},
   "source": [
    "#### Bonus\n",
    "We verify numerically the norms of the first five Legendre polynomials."
   ]
  },
  {
   "cell_type": "code",
   "execution_count": 59,
   "id": "60d9da22-188b-4254-bf6b-86dd6d06cf16",
   "metadata": {},
   "outputs": [
    {
     "name": "stdout",
     "output_type": "stream",
     "text": [
      "We compute that norms of the Legendre polynomials.\n",
      "n=0: norm = 2.000; theoretical value: 2.000.\n",
      "n=1: norm = 0.667; theoretical value: 0.667.\n",
      "n=2: norm = 0.400; theoretical value: 0.400.\n",
      "n=3: norm = 0.286; theoretical value: 0.286.\n",
      "n=4: norm = 0.222; theoretical value: 0.222.\n"
     ]
    }
   ],
   "source": [
    "# Running list of norms\n",
    "norms = []\n",
    "\n",
    "for n in n_generator:\n",
    "\n",
    "    # Square the Legendre polynomial and\n",
    "    # compute the antiderivative of that square\n",
    "    antiderivative = (legendre(n)**2).integ()\n",
    "\n",
    "    # Use the antiderivative to integrate\n",
    "    # the squared Legendre polynomial from -1 to 1\n",
    "    norm = antiderivative(1) - antiderivative(-1)\n",
    "\n",
    "    # Add the norm to the running list\n",
    "    norms.append((n, norm))\n",
    "\n",
    "# Report out the norms\n",
    "print(\"We compute that norms of the Legendre polynomials.\")\n",
    "for n, norm in norms:\n",
    "    print(f\"n={n}: norm = {norm:.3f}; theoretical value: {2/(2*n+1):.3f}.\")"
   ]
  }
 ],
 "metadata": {
  "kernelspec": {
   "display_name": "Python 3 (ipykernel)",
   "language": "python",
   "name": "python3"
  },
  "language_info": {
   "codemirror_mode": {
    "name": "ipython",
    "version": 3
   },
   "file_extension": ".py",
   "mimetype": "text/x-python",
   "name": "python",
   "nbconvert_exporter": "python",
   "pygments_lexer": "ipython3",
   "version": "3.12.3"
  }
 },
 "nbformat": 4,
 "nbformat_minor": 5
}
