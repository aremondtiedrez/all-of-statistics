{
 "cells": [
  {
   "cell_type": "markdown",
   "id": "b9ca25d9-aaef-4055-b627-a5016b6dfe33",
   "metadata": {},
   "source": [
    "Let $X_1, ... X_n \\sim N(0, \\sigma^2)$.\n",
    "Let\n",
    "$$\n",
    "    \\hat\\sigma = \\sqrt{\\frac{\\pi}{2}} \\,\\text{median}\\, \\left( |X_1|, ..., |X_n| \\right).\n",
    "$$\n",
    "1. Simulate $n=100$ observations from a $N(0, 1)$ distribution.\n",
    "   Compute $\\hat\\sigma$ as well as the usual estimate of $\\sigma$.\n",
    "   Repeat 1,000 times and compare the MSE.\n",
    "2. Repeat 1 but add outliers to the data.\n",
    "   To do this, simulate each observation from a $N(0,1)$\n",
    "   with probability 0.95 and from a $N(0, 10)$ with probability 0.05."
   ]
  },
  {
   "cell_type": "code",
   "execution_count": 230,
   "id": "2e0220ed-eca7-4c62-a22a-7806ed415b88",
   "metadata": {},
   "outputs": [],
   "source": [
    "import numpy as np\n",
    "from scipy import stats"
   ]
  },
  {
   "cell_type": "markdown",
   "id": "f322e552-1289-4f7b-85e7-5d4b59ffba78",
   "metadata": {},
   "source": [
    "We perform a single trial and compute the median estimate\n",
    "$\\hat \\sigma$ using the formula above,\n",
    "as well as the sample standard deviation\n",
    "(the square root of the sample variance)."
   ]
  },
  {
   "cell_type": "code",
   "execution_count": 349,
   "id": "c5d24ced-bb4d-4a9c-91ba-991c8b8660c0",
   "metadata": {},
   "outputs": [
    {
     "name": "stdout",
     "output_type": "stream",
     "text": [
      "Median estimate:       0.822\n",
      "Sample std. deviation: 0.965\n"
     ]
    }
   ],
   "source": [
    "n = 100\n",
    "X = stats.norm.rvs(size=n)\n",
    "sigma_hat = np.median(np.abs(X))/stats.norm.ppf(3/4)\n",
    "sample_std = np.std(X, ddof=1)\n",
    "print(\n",
    "    f\"Median estimate:       {sigma_hat:.3}\\n\"\n",
    "    f\"Sample std. deviation: {sample_std:.3}\"\n",
    ")"
   ]
  },
  {
   "cell_type": "markdown",
   "id": "634ee8e4-57e4-425c-a733-a538fe777621",
   "metadata": {},
   "source": [
    "We perform 1,000 trials, computing $\\hat\\sigma$ and the sample standard deviation every time.\n",
    "We then estimate the MSE of each estimator by\n",
    "$$\n",
    "    \\frac{1}{k} \\sum_{j=1}^K {( \\hat\\sigma_j - \\sigma )}^2\n",
    "$$\n",
    "where $K$ is the number of trials and here the true variance is $\\sigma^2 = 1$."
   ]
  },
  {
   "cell_type": "code",
   "execution_count": 355,
   "id": "b33d83b1-fa87-491b-8f58-3de489c29aab",
   "metadata": {},
   "outputs": [
    {
     "name": "stdout",
     "output_type": "stream",
     "text": [
      "The median estimate MSE is: 0.0125\n",
      "The sample variance MSE is: 0.00514\n",
      "\n"
     ]
    }
   ],
   "source": [
    "n = 100\n",
    "trials = 1000\n",
    "true_variance = 1\n",
    "\n",
    "X = stats.norm.rvs(size=(n, trials))\n",
    "mse_sigma_hat = np.mean(\n",
    "    (np.median(np.abs(X), axis=0)/stats.norm.ppf(3/4) - true_variance)**2\n",
    ")\n",
    "mse_sample_variance = np.mean(\n",
    "    (np.std(X, axis=0, ddof=0) - true_variance)**2\n",
    ")\n",
    "print(\n",
    "    f\"The median estimate MSE is: {mse_sigma_hat:.3}\\n\"\n",
    "    f\"The sample variance MSE is: {mse_sample_variance:.3}\\n\"\n",
    ")"
   ]
  },
  {
   "cell_type": "markdown",
   "id": "abb76c91-49d4-47c0-ac99-f4eae7ba35ac",
   "metadata": {},
   "source": [
    "We perform a single trial and compute the median estimate\n",
    "$\\hat \\sigma$ using the formula above,\n",
    "as well as the sample standard deviation\n",
    "(the square root of the sample variance).\n",
    "\n",
    "This time the distribution of $X$ is $0.95 N(0,1) + 0.05 N(0, 1)$."
   ]
  },
  {
   "cell_type": "code",
   "execution_count": 351,
   "id": "dc3572a5-e300-4c2c-90be-029afa46370d",
   "metadata": {},
   "outputs": [
    {
     "name": "stdout",
     "output_type": "stream",
     "text": [
      "Median estimate:       1.13\n",
      "Sample std. deviation: 1.26\n"
     ]
    }
   ],
   "source": [
    "n = 100\n",
    "sigma = 1 + 9*stats.bernoulli.rvs(p=0.05, size=n)\n",
    "X = stats.norm.rvs(scale=np.sqrt(sigma))\n",
    "sigma_hat = np.median(np.abs(X))/stats.norm.ppf(3/4)\n",
    "sample_std = np.std(X, ddof=1)\n",
    "print(\n",
    "    f\"Median estimate:       {sigma_hat:.3}\\n\"\n",
    "    f\"Sample std. deviation: {sample_std:.3}\"\n",
    ")"
   ]
  },
  {
   "cell_type": "markdown",
   "id": "4fe0cd08-6d4c-4d2f-8780-f18b5164a6bf",
   "metadata": {},
   "source": [
    "We perform 1,000 trials, computing $\\hat\\sigma$ and the sample standard deviation every time.\n",
    "We then estimate the MSE of each estimator as above.\n",
    "\n",
    "This time the distribution of $X$ is $0.95 N(0,1) + 0.05 N(0, 1)$."
   ]
  },
  {
   "cell_type": "code",
   "execution_count": 356,
   "id": "5ddf1ccc-3462-4424-bcdf-2f8ef4781cb8",
   "metadata": {},
   "outputs": [
    {
     "name": "stdout",
     "output_type": "stream",
     "text": [
      "The median estimate MSE is: 0.0182\n",
      "The sample variance MSE is: 0.0565\n",
      "\n"
     ]
    }
   ],
   "source": [
    "n = 100\n",
    "trials = 1000\n",
    "true_variance = 1\n",
    "\n",
    "sigma = 1 + 9*stats.bernoulli.rvs(p=0.05, size=(n, trials))\n",
    "X = stats.norm.rvs(scale=np.sqrt(sigma))\n",
    "mse_sigma_hat = np.mean(\n",
    "    (np.median(np.abs(X), axis=0)/stats.norm.ppf(3/4) - true_variance)**2\n",
    ")\n",
    "mse_sample_variance = np.mean(\n",
    "    (np.std(X, axis=0, ddof=0) - true_variance)**2\n",
    ")\n",
    "print(\n",
    "    f\"The median estimate MSE is: {mse_sigma_hat:.3}\\n\"\n",
    "    f\"The sample variance MSE is: {mse_sample_variance:.3}\\n\"\n",
    ")"
   ]
  },
  {
   "cell_type": "markdown",
   "id": "533469b1-b178-4a5c-9d0e-07d278224ad8",
   "metadata": {},
   "source": [
    "### Summary of observations\n",
    "- When there are no outliers, the sample variance outperforms\n",
    "  the median estimator by having a smaller mean squared error (MSE).\n",
    "  This is as expected since the maximum likelihood estimator (MLE)\n",
    "  for the variance of the Normal model is the *population*\n",
    "  variance (which is not quite the *sample* variance used here,\n",
    "  because of a factor of $\\frac{n}{n-1}$).\n",
    "- When there are outliers, the median estimator\n",
    "  demonstrates its robustness by having a smaller MSE\n",
    "  than the sample variance."
   ]
  }
 ],
 "metadata": {
  "kernelspec": {
   "display_name": "Python 3 (ipykernel)",
   "language": "python",
   "name": "python3"
  },
  "language_info": {
   "codemirror_mode": {
    "name": "ipython",
    "version": 3
   },
   "file_extension": ".py",
   "mimetype": "text/x-python",
   "name": "python",
   "nbconvert_exporter": "python",
   "pygments_lexer": "ipython3",
   "version": "3.12.3"
  }
 },
 "nbformat": 4,
 "nbformat_minor": 5
}
