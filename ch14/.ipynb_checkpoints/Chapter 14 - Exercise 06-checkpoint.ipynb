{
 "cells": [
  {
   "cell_type": "markdown",
   "id": "df3ca645",
   "metadata": {},
   "source": [
    "Repeat the previous exercise 1000 times.\n",
    "Compare the coverage of the two confidence intervals for $\\rho$."
   ]
  },
  {
   "cell_type": "code",
   "execution_count": 2,
   "id": "4141bb91",
   "metadata": {},
   "outputs": [],
   "source": [
    "from collections import namedtuple\n",
    "\n",
    "import numpy as np\n",
    "import random\n",
    "import scipy.stats"
   ]
  },
  {
   "cell_type": "code",
   "execution_count": 3,
   "id": "5822121c",
   "metadata": {},
   "outputs": [],
   "source": [
    "Statistics_list = namedtuple('Statistics_list', [\n",
    "    'n', 'mean', 'variance', 'covariance', 'correlation'\n",
    "])\n",
    "\n",
    "def generate_data():\n",
    "    return scipy.stats.multivariate_normal.rvs(\n",
    "        mean = [3, 8],\n",
    "        cov  = [[1, 1], [1, 2]],\n",
    "        size = 100\n",
    "    )\n",
    "    \n",
    "def estimates(data):\n",
    "    \"\"\"\n",
    "    Compute the plug-in estimates.\n",
    "    Note that the estimate of the covariance is therefore unbiased\n",
    "    (i.e. dividing by n-1).\n",
    "    \"\"\"\n",
    "    \n",
    "    (n, _) = data.shape\n",
    "    mean = data.mean(axis=0)\n",
    "    covariance_matrix = np.cov(data, rowvar=False)\n",
    "    variance = np.diagonal(covariance_matrix)\n",
    "    covariance = covariance_matrix[0, 1]\n",
    "    correlation = covariance/np.sqrt(variance[0]*variance[1])\n",
    "    \n",
    "    return Statistics_list(n, mean, variance, covariance, correlation)\n",
    "\n",
    "def fisher_interval(statistics_list, alpha):\n",
    "    \n",
    "    std_err_theta = (statistics_list.n-3)**(-1/2)\n",
    "    theta_est = np.arctanh(statistics_list.correlation)\n",
    "    z = scipy.stats.norm.isf(alpha/2)\n",
    "\n",
    "    return (\n",
    "        np.tanh(theta_est - z*std_err_theta),\n",
    "        np.tanh(theta_est + z*std_err_theta)\n",
    "    )\n",
    "    \n",
    "def bootstrap_resample(data):\n",
    "    return np.array(random.choices(population=data, k=len(data)))\n",
    "\n",
    "def bootstrap_replications(data, B):\n",
    "    return np.array([\n",
    "        estimates(bootstrap_resample(data)).correlation\n",
    "        for _ in range(B)\n",
    "    ])\n",
    "    \n",
    "# We use a *percentile* bootstrap confidence interval\n",
    "# since the distribution of the plug-in estimate for\n",
    "# the correlation coefficient CANNOT be normally distributed\n",
    "# (it is contained between -1 and 1).\n",
    "def bootstrap_percentile_interval(data, B, alpha):\n",
    "    \n",
    "    replicated_data = bootstrap_replications(data, B)\n",
    "    \n",
    "    lower_bound = np.quantile(replicated_data, q=alpha/2)\n",
    "    upper_bound = np.quantile(replicated_data, q=1-alpha/2)\n",
    "    \n",
    "    return (lower_bound, upper_bound)\n",
    "\n",
    "def is_in_interval(number, interval):\n",
    "    lower_bound, upper_bound = interval\n",
    "    return lower_bound < number < upper_bound\n",
    "\n",
    "def test_intervals(true_correlation, data, B, alpha):\n",
    "    \n",
    "    statistics_list = estimates(data)\n",
    "    fisher = fisher_interval(statistics_list, alpha)\n",
    "    bootstrap = bootstrap_percentile_interval(data, B, alpha)\n",
    "    \n",
    "    return (\n",
    "        is_in_interval(true_correlation, fisher),\n",
    "        is_in_interval(true_correlation, bootstrap)\n",
    "    )"
   ]
  },
  {
   "cell_type": "code",
   "execution_count": 12,
   "id": "6bd1dba1",
   "metadata": {},
   "outputs": [
    {
     "name": "stdout",
     "output_type": "stream",
     "text": [
      "Afer 1000 trials, the empirical coverages are as follow.\n",
      "Fisher interval:    0.954\n",
      "Bootstrap interval: 0.938\n"
     ]
    }
   ],
   "source": [
    "trials = 1000\n",
    "true_correlation = 1/np.sqrt(2)\n",
    "\n",
    "result = np.array([\n",
    "    test_intervals(\n",
    "        true_correlation,\n",
    "        generate_data(),\n",
    "        B=int(1e3),\n",
    "        alpha=0.05\n",
    "    )\n",
    "    for _ in range(trials)\n",
    "])\n",
    "\n",
    "fisher_coverage, bootstrap_coverage = result.mean(axis=0)\n",
    "print(\n",
    "    f\"Afer {trials} trials, the empirical coverages are as follow.\\n\"\n",
    "    f\"Fisher interval:    {fisher_coverage:5}\\n\"\n",
    "    f\"Bootstrap interval: {bootstrap_coverage:5}\"\n",
    ")"
   ]
  }
 ],
 "metadata": {
  "kernelspec": {
   "display_name": "venv",
   "language": "python",
   "name": "venv"
  },
  "language_info": {
   "codemirror_mode": {
    "name": "ipython",
    "version": 3
   },
   "file_extension": ".py",
   "mimetype": "text/x-python",
   "name": "python",
   "nbconvert_exporter": "python",
   "pygments_lexer": "ipython3",
   "version": "3.12.3"
  }
 },
 "nbformat": 4,
 "nbformat_minor": 5
}
