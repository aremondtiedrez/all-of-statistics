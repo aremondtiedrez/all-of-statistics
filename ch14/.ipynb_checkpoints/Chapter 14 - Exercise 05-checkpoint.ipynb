{
 "cells": [
  {
   "cell_type": "markdown",
   "id": "444f7185",
   "metadata": {},
   "source": [
    "Generate 100 random vectors from a $N(\\mu,\\Sigma)$ distribution where\n",
    "$$\n",
    "    \\mu = \\begin{pmatrix} 3 \\\\ 8 \\end{pmatrix}\n",
    "    \\text{ and }\n",
    "    \\sigma = \\begin{pmatrix} 1 & 1 \\\\ 1 & 2 \\end{pmatrix}.\n",
    "$$\n",
    "Plot the simulation as a scatterplot.\n",
    "Estimate the mean and covariance matrix $\\Sigma$.\n",
    "Find the correlation between $X_1$ and $X_2$.\n",
    "Compare this with the sample correlation from your simulation.\n",
    "Find a 95 percent confidence interval for $\\rho$.\n",
    "Use two methods: the bootstrap and Fisher's method.\n",
    "Compare."
   ]
  },
  {
   "cell_type": "code",
   "execution_count": 251,
   "id": "c8233868",
   "metadata": {},
   "outputs": [],
   "source": [
    "from collections import namedtuple\n",
    "\n",
    "import matplotlib.pyplot as plt\n",
    "import numpy as np\n",
    "import random\n",
    "import scipy.stats"
   ]
  },
  {
   "cell_type": "markdown",
   "id": "bd035776",
   "metadata": {},
   "source": [
    "The correlation is given by\n",
    "$$\n",
    "    \\rho (X,Y)\n",
    "    = \\frac{ \\text{Cov} (X,Y) }{ \\sigma_X \\sigma_Y }\n",
    "    = \\frac{ \\text{Cov} (X,Y) }{ \\sqrt{ \\mathbb{V} (X) \\mathbb{V} (Y) } }\n",
    "    = \\frac{1}{\\sqrt{1\\cdot 2}}\n",
    "    = \\frac{1}{\\sqrt{2}}\n",
    "    \\approx 0.707\n",
    "$$"
   ]
  },
  {
   "cell_type": "code",
   "execution_count": 249,
   "id": "5fc9b8fa",
   "metadata": {},
   "outputs": [],
   "source": [
    "Statistics_list = namedtuple('Statistics_list', [\n",
    "    'n', 'mean', 'variance', 'covariance', 'correlation'\n",
    "])\n",
    "\n",
    "def generate_data():\n",
    "    return scipy.stats.multivariate_normal.rvs(\n",
    "        mean = [3, 8],\n",
    "        cov  = [[1, 1], [1, 2]],\n",
    "        size = 100\n",
    "    )\n",
    "\n",
    "def show_data(data):\n",
    "    plt.scatter(data[:, 0], data[:, 1])\n",
    "    plt.xlabel('X1')\n",
    "    plt.ylabel('X2')\n",
    "    plt.show()\n",
    "    \n",
    "def estimates(data):\n",
    "    \"\"\"\n",
    "    Compute the plug-in estimates.\n",
    "    Note that the estimate of the covariance is therefore unbiased\n",
    "    (i.e. dividing by n-1).\n",
    "    \"\"\"\n",
    "    \n",
    "    (n, _) = data.shape\n",
    "    mean = data.mean(axis=0)\n",
    "    covariance_matrix = np.cov(data, rowvar=False)\n",
    "    variance = np.diagonal(covariance_matrix)\n",
    "    covariance = covariance_matrix[0, 1]\n",
    "    correlation = covariance/np.sqrt(variance[0]*variance[1])\n",
    "    \n",
    "    return Statistics_list(n, mean, variance, covariance, correlation)\n",
    "\n",
    "def fisher_interval(statistics_list, alpha):\n",
    "    \n",
    "    std_err_theta = (statistics_list.n-3)**(-1/2)\n",
    "    theta_est = np.arctanh(statistics_list.correlation)\n",
    "    z = scipy.stats.norm.isf(alpha/2)\n",
    "\n",
    "    return (\n",
    "        np.tanh(theta_est - z*std_err_theta),\n",
    "        np.tanh(theta_est + z*std_err_theta)\n",
    "    )\n",
    "    \n",
    "def bootstrap_resample(data):\n",
    "    return np.array(random.choices(population=data, k=len(data)))\n",
    "\n",
    "def bootstrap_replications(data, B):\n",
    "    return np.array([\n",
    "        estimates(bootstrap_resample(data)).correlation\n",
    "        for _ in range(B)\n",
    "    ])\n",
    "    \n",
    "# We use a *percentile* bootstrap confidence interval\n",
    "# since the distribution of the plug-in estimate for\n",
    "# the correlation coefficient CANNOT be normally distributed\n",
    "# (it is contained between -1 and 1).\n",
    "def bootstrap_percentile_interval(data, B, alpha):\n",
    "    \n",
    "    replicated_data = bootstrap_replications(data, B)\n",
    "    \n",
    "    lower_bound = np.quantile(replicated_data, q=alpha/2)\n",
    "    upper_bound = np.quantile(replicated_data, q=1-alpha/2)\n",
    "    \n",
    "    return (lower_bound, upper_bound)\n",
    "    \n",
    "def print_interval(interval):\n",
    "    \n",
    "    lower_bound, upper_bound = interval\n",
    "    print(\n",
    "        f\"({lower_bound:.3}, {upper_bound:.3})\"\n",
    "    )"
   ]
  },
  {
   "cell_type": "code",
   "execution_count": 250,
   "id": "78099c73",
   "metadata": {},
   "outputs": [
    {
     "name": "stdout",
     "output_type": "stream",
     "text": [
      "Statistics_list(n=100, mean=array([3.03435997, 8.04279434]), variance=array([1.08241278, 2.65675504]), covariance=np.float64(1.2173881126045019), correlation=np.float64(0.7178882486508397))\n",
      "\n",
      "Fisher confidence interval:\n",
      "(0.607, 0.801)\n",
      "\n",
      "Bootstrap confidence interval:\n",
      "(0.609, 0.8)\n"
     ]
    },
    {
     "data": {
      "image/png": "[encoded data removed]",
      "text/plain": [
       "<Figure size 640x480 with 1 Axes>"
      ]
     },
     "metadata": {},
     "output_type": "display_data"
    }
   ],
   "source": [
    "data = generate_data()\n",
    "statistics_list = estimates(data)\n",
    "print(statistics_list)\n",
    "\n",
    "print(\"\\nFisher confidence interval:\")\n",
    "print_interval(\n",
    "    fisher_interval(statistics_list, alpha=0.05)\n",
    ")\n",
    "\n",
    "print(\"\\nBootstrap confidence interval:\")\n",
    "print_interval(\n",
    "    bootstrap_percentile_interval(data, B=int(1e4), alpha=0.05)\n",
    ")\n",
    "\n",
    "show_data(data)"
   ]
  }
 ],
 "metadata": {
  "kernelspec": {
   "display_name": "venv",
   "language": "python",
   "name": "venv"
  },
  "language_info": {
   "codemirror_mode": {
    "name": "ipython",
    "version": 3
   },
   "file_extension": ".py",
   "mimetype": "text/x-python",
   "name": "python",
   "nbconvert_exporter": "python",
   "pygments_lexer": "ipython3",
   "version": "3.12.3"
  }
 },
 "nbformat": 4,
 "nbformat_minor": 5
}
