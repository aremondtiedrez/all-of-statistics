{
 "cells": [
  {
   "cell_type": "markdown",
   "id": "e7858de3",
   "metadata": {},
   "source": [
    "Write a function to generate `nsim` observations from a Multivariate normal with give mean $\\mu$ and covariance matrix $\\Sigma$."
   ]
  },
  {
   "cell_type": "code",
   "execution_count": 415,
   "id": "9f501887",
   "metadata": {},
   "outputs": [],
   "source": [
    "import numpy as np\n",
    "import scipy.stats"
   ]
  },
  {
   "cell_type": "code",
   "execution_count": 416,
   "id": "494f6430",
   "metadata": {},
   "outputs": [],
   "source": [
    "def generate_data(nsim, mean, var_covar):\n",
    "    return scipy.stats.multivariate_normal.rvs(\n",
    "        mean=mean, cov=var_covar, size=nsim\n",
    "    )\n",
    "\n",
    "def generate_invertible_matrix(n):\n",
    "    \"\"\"\n",
    "    Returns a random n-by-n matrix\n",
    "    which is guaranteed to be invertible,\n",
    "    and is normalized to have determinant equal to one.\n",
    "    \n",
    "    Source: https://stackoverflow.com/questions/73426718/generating-invertible-matrices-in-numpy-tensorflow\n",
    "    \"\"\"\n",
    "    \n",
    "    # n-by-n matrix with independent Uniform(0,1) entries\n",
    "    matrix = np.random.rand(n, n)\n",
    "    \n",
    "    # Sum the absolute values of each row\n",
    "    row_abs_sums = np.sum(np.abs(matrix), axis=1)\n",
    "    \n",
    "    # Ensure that the matrix returned is diagonally-dominant,\n",
    "    # which in turn guarantees invertibility.\n",
    "    np.fill_diagonal(matrix, row_abs_sums)\n",
    "    \n",
    "    # Normalize the matrix to have determinant equal to one\n",
    "    return matrix*(np.linalg.det(matrix))**(-1/n)\n",
    "\n",
    "def sym_pos_def_from_invertible(matrix):\n",
    "    \"\"\"\n",
    "    Given an invertible matrix M,\n",
    "    returns the symmetric positive-definite matrix M^TM.\n",
    "    \"\"\"\n",
    "    \n",
    "    return np.matmul(matrix.transpose(), matrix)"
   ]
  },
  {
   "cell_type": "code",
   "execution_count": 417,
   "id": "ee7439b4",
   "metadata": {},
   "outputs": [
    {
     "name": "stdout",
     "output_type": "stream",
     "text": [
      "Mean minus its plugin estimate: 0.00272.\n",
      "Variance-covariance minus its plugin estimate: 0.00316.\n"
     ]
    }
   ],
   "source": [
    "# Sanity check\n",
    "\n",
    "k = 5\n",
    "nsim = int(1e6)\n",
    "\n",
    "# Each mean is uniformly sampled from (-3, 3)\n",
    "mean = scipy.stats.uniform.rvs(loc=-3, scale=6, size=k)\n",
    "var_covar = sym_pos_def_from_invertible(generate_invertible_matrix(k))\n",
    "\n",
    "data = generate_data(nsim, mean, var_covar)\n",
    "\n",
    "# Norm of the difference between the mean and its plug-in estimate\n",
    "print(\n",
    "    f\"Mean minus its plugin estimate: {np.linalg.norm(mean - data.mean(axis=0)):.3}.\\n\"\n",
    "    f\"Variance-covariance minus its plugin estimate: {np.linalg.norm(var_covar - np.cov(data, rowvar=False)):.3}.\"\n",
    ")"
   ]
  }
 ],
 "metadata": {
  "kernelspec": {
   "display_name": "venv",
   "language": "python",
   "name": "venv"
  },
  "language_info": {
   "codemirror_mode": {
    "name": "ipython",
    "version": 3
   },
   "file_extension": ".py",
   "mimetype": "text/x-python",
   "name": "python",
   "nbconvert_exporter": "python",
   "pygments_lexer": "ipython3",
   "version": "3.12.3"
  }
 },
 "nbformat": 4,
 "nbformat_minor": 5
}
