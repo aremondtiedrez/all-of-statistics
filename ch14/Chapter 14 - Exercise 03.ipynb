{
 "cells": [
  {
   "cell_type": "markdown",
   "id": "a0fcbd42",
   "metadata": {},
   "source": [
    "Write a function to generate `nsim` observations from a $\\text{Multinomial}(n,p)$ distribution."
   ]
  },
  {
   "cell_type": "code",
   "execution_count": 22,
   "id": "ec489e34",
   "metadata": {},
   "outputs": [],
   "source": [
    "import numpy as np\n",
    "import scipy.stats"
   ]
  },
  {
   "cell_type": "code",
   "execution_count": 23,
   "id": "b3f59835",
   "metadata": {},
   "outputs": [],
   "source": [
    "def generate_data(nsim, p):\n",
    "    return scipy.stats.multinomial.rvs(n=nsim, p=p)\n",
    "\n",
    "def random_p(k):\n",
    "    \"\"\"\n",
    "    Produce an element of\n",
    "    the (k-1)-dimensional simplex\n",
    "    uniformly at random.\n",
    "    \n",
    "    Source: https://cs.stackexchange.com/questions/3227/uniform-sampling-from-a-simplex\n",
    "    \"\"\"\n",
    "    \n",
    "    return np.diff([0] + sorted(scipy.stats.uniform.rvs(size=k-1)) + [1])"
   ]
  },
  {
   "cell_type": "code",
   "execution_count": 26,
   "id": "752c4810",
   "metadata": {},
   "outputs": [
    {
     "name": "stdout",
     "output_type": "stream",
     "text": [
      "p minus its plug-in estimate: 0.00116.\n"
     ]
    }
   ],
   "source": [
    "# Sanity check\n",
    "\n",
    "n = int(1e5)\n",
    "p = random_p(k = 7)\n",
    "\n",
    "data = generate_data(nsim=n, p=p)\n",
    "\n",
    "# Norm of the difference between p and its plug-in estimate\n",
    "print(f\"p minus its plug-in estimate: {np.linalg.norm(data/n - p):.3}.\")"
   ]
  }
 ],
 "metadata": {
  "kernelspec": {
   "display_name": "venv",
   "language": "python",
   "name": "venv"
  },
  "language_info": {
   "codemirror_mode": {
    "name": "ipython",
    "version": 3
   },
   "file_extension": ".py",
   "mimetype": "text/x-python",
   "name": "python",
   "nbconvert_exporter": "python",
   "pygments_lexer": "ipython3",
   "version": "3.12.3"
  }
 },
 "nbformat": 4,
 "nbformat_minor": 5
}
