{
 "cells": [
  {
   "cell_type": "code",
   "execution_count": 126,
   "id": "f62719e8",
   "metadata": {},
   "outputs": [],
   "source": [
    "import matplotlib.pyplot as plt\n",
    "import numpy as np\n",
    "import random\n",
    "import scipy.stats"
   ]
  },
  {
   "cell_type": "markdown",
   "id": "24531cf4",
   "metadata": {},
   "source": [
    "### Generate the data"
   ]
  },
  {
   "cell_type": "code",
   "execution_count": 23,
   "id": "74297959",
   "metadata": {},
   "outputs": [],
   "source": [
    "def generate_data(mu=5, n=100):\n",
    "    return scipy.stats.norm(loc=mu).rvs(size=n)"
   ]
  },
  {
   "cell_type": "markdown",
   "id": "5e85361d",
   "metadata": {},
   "source": [
    "### The estimator"
   ]
  },
  {
   "cell_type": "code",
   "execution_count": 79,
   "id": "1654e077",
   "metadata": {},
   "outputs": [],
   "source": [
    "def estimator(data):\n",
    "    return np.exp(np.mean(data))"
   ]
  },
  {
   "cell_type": "markdown",
   "id": "06ee4947",
   "metadata": {},
   "source": [
    "For future reference: the true value we seek to estimate."
   ]
  },
  {
   "cell_type": "code",
   "execution_count": 85,
   "id": "294ec253",
   "metadata": {},
   "outputs": [
    {
     "name": "stdout",
     "output_type": "stream",
     "text": [
      "The true value is 148.4.\n"
     ]
    }
   ],
   "source": [
    "mu=5\n",
    "true_value = np.exp(mu)\n",
    "print(f\"The true value is {true_value:.1f}.\")"
   ]
  },
  {
   "cell_type": "markdown",
   "id": "58f13d47",
   "metadata": {},
   "source": [
    "### Bootstrap replications"
   ]
  },
  {
   "cell_type": "code",
   "execution_count": 91,
   "id": "d6a16930",
   "metadata": {},
   "outputs": [],
   "source": [
    "def bootstrap_resample(data):\n",
    "    return random.choices(population=data, k=len(data))\n",
    "\n",
    "def bootstrap_replications(data=generate_data(mu=5, n=100), estimator=estimator, B=1000):\n",
    "    return [estimator(bootstrap_resample(data)) for _ in range(B)]"
   ]
  },
  {
   "cell_type": "markdown",
   "id": "3808db6d",
   "metadata": {},
   "source": [
    "### Automated production of the standard error & Normal confidence interval"
   ]
  },
  {
   "cell_type": "code",
   "execution_count": 107,
   "id": "31e4a119",
   "metadata": {},
   "outputs": [],
   "source": [
    "def bootstrap_normal_confidence_interval(data=generate_data(mu=5, n=100), estimator=estimator, B=1000, alpha=0.05):\n",
    "    \n",
    "    z = scipy.stats.norm.isf(alpha/2)\n",
    "\n",
    "    estimate = estimator(data=data)\n",
    "\n",
    "    replicated_data = bootstrap_replications(data=data, estimator=estimator, B=B)\n",
    "    se_boot_estimate = np.std(replicated_data)\n",
    "\n",
    "    lower_bound_normal = estimate - z*se_boot_estimate\n",
    "    upper_bound_normal = estimate + z*se_boot_estimate\n",
    "    \n",
    "    return (\n",
    "        (lower_bound_normal, upper_bound_normal),\n",
    "        replicated_data\n",
    "    )"
   ]
  },
  {
   "cell_type": "code",
   "execution_count": 122,
   "id": "27a068c1",
   "metadata": {},
   "outputs": [
    {
     "name": "stdout",
     "output_type": "stream",
     "text": [
      "A 95% Normal bootstrap confidence interval is: (112, 169).\n"
     ]
    }
   ],
   "source": [
    "confidence_interval, replicated_data = bootstrap_normal_confidence_interval()\n",
    "lower_bound, upper_bound = confidence_interval\n",
    "print(f\"A 95% Normal bootstrap confidence interval is: ({lower_bound:.0f}, {upper_bound:.0f}).\")"
   ]
  },
  {
   "cell_type": "markdown",
   "id": "de851836",
   "metadata": {},
   "source": [
    "### Compare the bootstrap distribution with the true sample distribution of the estimator"
   ]
  },
  {
   "cell_type": "code",
   "execution_count": 190,
   "id": "6411c24c",
   "metadata": {},
   "outputs": [
    {
     "data": {
      "image/png": "[encoded data removed]",
      "text/plain": [
       "<Figure size 640x480 with 1 Axes>"
      ]
     },
     "metadata": {},
     "output_type": "display_data"
    }
   ],
   "source": [
    "trials = 1000\n",
    "\n",
    "confidence_interval, replicated_data = bootstrap_normal_confidence_interval(B=trials)\n",
    "sampled_data = np.array([estimator(generate_data()) for _ in range(trials)])\n",
    "\n",
    "plt.hist(replicated_data, bins=20, alpha=0.5, label='replicated data')\n",
    "plt.hist(sampled_data, bins=20, alpha=0.5, label='sampled data')\n",
    "plt.legend(loc='upper right')\n",
    "plt.show()"
   ]
  },
  {
   "cell_type": "code",
   "execution_count": null,
   "id": "c810f916",
   "metadata": {},
   "outputs": [],
   "source": []
  },
  {
   "cell_type": "code",
   "execution_count": null,
   "id": "9a0c6e9c",
   "metadata": {},
   "outputs": [],
   "source": []
  },
  {
   "cell_type": "code",
   "execution_count": null,
   "id": "c8d0b7b3",
   "metadata": {},
   "outputs": [],
   "source": []
  },
  {
   "cell_type": "code",
   "execution_count": null,
   "id": "4aa8de0b",
   "metadata": {},
   "outputs": [],
   "source": []
  },
  {
   "cell_type": "code",
   "execution_count": null,
   "id": "1e7a8e4d",
   "metadata": {},
   "outputs": [],
   "source": []
  },
  {
   "cell_type": "code",
   "execution_count": null,
   "id": "f65e8ed7",
   "metadata": {},
   "outputs": [],
   "source": []
  },
  {
   "cell_type": "code",
   "execution_count": null,
   "id": "faea18ab",
   "metadata": {},
   "outputs": [],
   "source": []
  }
 ],
 "metadata": {
  "kernelspec": {
   "display_name": "venv",
   "language": "python",
   "name": "venv"
  },
  "language_info": {
   "codemirror_mode": {
    "name": "ipython",
    "version": 3
   },
   "file_extension": ".py",
   "mimetype": "text/x-python",
   "name": "python",
   "nbconvert_exporter": "python",
   "pygments_lexer": "ipython3",
   "version": "3.12.3"
  }
 },
 "nbformat": 4,
 "nbformat_minor": 5
}
