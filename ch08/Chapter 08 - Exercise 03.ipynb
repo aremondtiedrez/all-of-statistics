{
 "cells": [
  {
   "cell_type": "code",
   "execution_count": 1,
   "id": "1be3529a",
   "metadata": {},
   "outputs": [],
   "source": [
    "import numpy as np\n",
    "import random\n",
    "import scipy.stats"
   ]
  },
  {
   "cell_type": "markdown",
   "id": "711e1a69",
   "metadata": {},
   "source": [
    "### Generate the data."
   ]
  },
  {
   "cell_type": "code",
   "execution_count": 2,
   "id": "0f508167",
   "metadata": {},
   "outputs": [],
   "source": [
    "def generate_data(n=25):\n",
    "    return scipy.stats.t(df=3).rvs(size=n)"
   ]
  },
  {
   "cell_type": "markdown",
   "id": "158b4f9c",
   "metadata": {},
   "source": [
    "### Estimate the statistic of interest."
   ]
  },
  {
   "cell_type": "code",
   "execution_count": 3,
   "id": "2635b0fb",
   "metadata": {},
   "outputs": [],
   "source": [
    "def estimator(data):\n",
    "    return (np.quantile(data, q=0.75) - np.quantile(data, q=0.25))/1.34"
   ]
  },
  {
   "cell_type": "markdown",
   "id": "99aa7164",
   "metadata": {},
   "source": [
    "##### Sanity check: when the sample size is sufficiently large the estimator approaches the true value."
   ]
  },
  {
   "cell_type": "code",
   "execution_count": 4,
   "id": "c95e8b97",
   "metadata": {},
   "outputs": [
    {
     "name": "stdout",
     "output_type": "stream",
     "text": [
      "The true value is: 1.142.\n",
      "The estimate is:   1.148.\n"
     ]
    }
   ],
   "source": [
    "true_distribution = scipy.stats.t(df=3)\n",
    "true_value = (true_distribution.ppf(0.75) - true_distribution.ppf(0.25))/1.34\n",
    "\n",
    "n = int(1e5)\n",
    "estimate = estimator(generate_data(n=n))\n",
    "\n",
    "print(\n",
    "    f\"The true value is: {true_value:.3f}.\\n\"\n",
    "    f\"The estimate is:   {estimate:.3f}.\"\n",
    ")"
   ]
  },
  {
   "cell_type": "markdown",
   "id": "edadf974",
   "metadata": {},
   "source": [
    "### Bootstrap replications\n",
    "Now passing the *estimator* as an *argument* (instead of being hard-coded in)."
   ]
  },
  {
   "cell_type": "code",
   "execution_count": 5,
   "id": "04b18841",
   "metadata": {},
   "outputs": [],
   "source": [
    "def bootstrap_resample(data):\n",
    "    return random.choices(population=data, k=len(data))\n",
    "\n",
    "def bootstrap_replications(data=generate_data(n=25), estimator=estimator, B=100):\n",
    "    return [estimator(bootstrap_resample(data)) for _ in range(B)]"
   ]
  },
  {
   "cell_type": "markdown",
   "id": "0bcc1199",
   "metadata": {},
   "source": [
    "### Automated production of the confidence intervals\n",
    "Once again: now passing the *estimator* as an *argument* (instead of being hard-coded in)."
   ]
  },
  {
   "cell_type": "code",
   "execution_count": 6,
   "id": "37d30901",
   "metadata": {},
   "outputs": [],
   "source": [
    "def bootstrap_confidence_intervals(data=generate_data(n=50), estimator=estimator, B=100, alpha=0.05):\n",
    "    \n",
    "    z = scipy.stats.norm.isf(alpha/2)\n",
    "\n",
    "    estimate = estimator(data=data)\n",
    "\n",
    "    replicated_data = bootstrap_replications(data=data, estimator=estimator, B=B)\n",
    "    se_boot_estimate = np.std(replicated_data)\n",
    "\n",
    "    lower_bound_normal = estimate - z*se_boot_estimate\n",
    "    upper_bound_normal = estimate + z*se_boot_estimate\n",
    "    \n",
    "    lower_bound_pivotal = 2*estimate - np.quantile(replicated_data, q=1-alpha/2)\n",
    "    upper_bound_pivotal = 2*estimate - np.quantile(replicated_data, q=alpha/2)\n",
    "    \n",
    "    lower_bound_percentile = np.quantile(replicated_data, q=alpha/2)\n",
    "    upper_bound_percentile = np.quantile(replicated_data, q=1-alpha/2)\n",
    "    \n",
    "    return {\n",
    "        \"normal\": (lower_bound_normal, upper_bound_normal),\n",
    "        \"pivotal\": (lower_bound_pivotal, upper_bound_pivotal),\n",
    "        \"percentile\": (lower_bound_percentile, upper_bound_percentile)\n",
    "    }"
   ]
  },
  {
   "cell_type": "code",
   "execution_count": 7,
   "id": "4639c42e",
   "metadata": {},
   "outputs": [
    {
     "name": "stdout",
     "output_type": "stream",
     "text": [
      "95% bootstrap Normal confidence interval:    (0.062, 1.170)\n",
      "95% bootstrap pivotal confidence interval:   (0.021, 0.955)\n",
      "95% bootstrap percentile confidence interval:(0.277, 1.211)\n",
      "\n"
     ]
    }
   ],
   "source": [
    "confidence_intervals = bootstrap_confidence_intervals(\n",
    "    data=generate_data(n=25),\n",
    "    estimator=estimator,\n",
    "    B=int(1e3),\n",
    "    alpha=0.05\n",
    ")\n",
    "\n",
    "print(\n",
    "    \"95% bootstrap Normal confidence interval:    \"\n",
    "    f\"({confidence_intervals[\"normal\"][0]:.3f}, {confidence_intervals[\"normal\"][1]:.3f})\\n\"\n",
    "    \"95% bootstrap pivotal confidence interval:   \"\n",
    "    f\"({confidence_intervals[\"pivotal\"][0]:.3f}, {confidence_intervals[\"pivotal\"][1]:.3f})\\n\"\n",
    "    \"95% bootstrap percentile confidence interval:\"\n",
    "    f\"({confidence_intervals[\"percentile\"][0]:.3f}, {confidence_intervals[\"percentile\"][1]:.3f})\\n\"\n",
    ")"
   ]
  },
  {
   "cell_type": "markdown",
   "id": "49eb2b07",
   "metadata": {},
   "source": [
    "### Empirical estimation of the coverage & length"
   ]
  },
  {
   "cell_type": "code",
   "execution_count": 129,
   "id": "28e091e8",
   "metadata": {},
   "outputs": [
    {
     "name": "stdout",
     "output_type": "stream",
     "text": [
      "Estimated coverages & lengths for all three types of bootstrap confidence intervals.\n",
      "[Normal] Coverage: 93%, estimated length: 1.32.\n",
      "[Pivotal] Coverage: 84%, estimated length: 1.29.\n",
      "[Percentile] Coverage: 97%, estimated length: 1.29.\n",
      "\n"
     ]
    }
   ],
   "source": [
    "true_distribution = scipy.stats.t(df=3)\n",
    "true_value = (true_distribution.ppf(0.75) - true_distribution.ppf(0.25))/1.34\n",
    "\n",
    "# Auxiliary functions used in the many trial run below\n",
    "def in_interval(number, interval):\n",
    "    lower_bound, upper_bound = interval\n",
    "    return lower_bound < number < upper_bound\n",
    "\n",
    "def length_of_interval(interval):\n",
    "    lower_bound, upper_bound = interval\n",
    "    return upper_bound - lower_bound\n",
    "\n",
    "# Initialize coverage_count, coverage_estimate, and interval_lenghts\n",
    "coverage_count = {\"normal\": 0, \"pivotal\": 0, \"percentile\": 0}\n",
    "coverage_estimate = {\"normal\": 0, \"pivotal\": 0, \"percentile\": 0}\n",
    "interval_lengths = {\"normal\": [], \"pivotal\": [], \"percentile\": []}\n",
    "interval_length_estimate  = {\"normal\": 0, \"pivotal\": 0, \"percentile\": 0}\n",
    "\n",
    "trials = 500\n",
    "\n",
    "# Run the trials, counting every time the true skewness is in each of the bootstrap intervals\n",
    "for _ in range(trials):\n",
    "    confidence_intervals = bootstrap_confidence_intervals(\n",
    "        data=generate_data(n=25),\n",
    "        estimator = estimator,\n",
    "        B=1000,\n",
    "        alpha=0.05\n",
    "    )\n",
    "    \n",
    "    for method in (\"normal\", \"pivotal\", \"percentile\"):\n",
    "        coverage_count[method] += in_interval(true_value, confidence_intervals[method])\n",
    "        interval_lengths[method].append(\n",
    "            length_of_interval(confidence_intervals[method])\n",
    "        )\n",
    "\n",
    "# Estimate the coverage & length of each bootstrap interval\n",
    "for method in (\"normal\", \"pivotal\", \"percentile\"):\n",
    "    coverage_estimate[method] = coverage_count[method]/trials\n",
    "    interval_length_estimate[method] = np.mean(interval_lengths[method])\n",
    "    \n",
    "# Print the results\n",
    "print(\n",
    "    \"Estimated coverages & lengths for all three types of bootstrap confidence intervals.\\n\"\n",
    "    + \"\".join([\n",
    "        \"[\"\n",
    "        + method.capitalize()\n",
    "        + f\"] Coverage: {coverage_estimate[method]*100:.0f}%, \"\n",
    "        + f\"estimated length: {interval_length_estimate[method]:.2f}.\\n\"\n",
    "        for method in (\"normal\", \"pivotal\", \"percentile\")\n",
    "    ])\n",
    ")"
   ]
  }
 ],
 "metadata": {
  "kernelspec": {
   "display_name": "Python 3 (ipykernel)",
   "language": "python",
   "name": "python3"
  },
  "language_info": {
   "codemirror_mode": {
    "name": "ipython",
    "version": 3
   },
   "file_extension": ".py",
   "mimetype": "text/x-python",
   "name": "python",
   "nbconvert_exporter": "python",
   "pygments_lexer": "ipython3",
   "version": "3.12.3"
  }
 },
 "nbformat": 4,
 "nbformat_minor": 5
}
