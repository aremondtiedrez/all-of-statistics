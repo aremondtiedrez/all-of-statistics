{
 "cells": [
  {
   "cell_type": "code",
   "execution_count": 1,
   "id": "96dfa1e2",
   "metadata": {},
   "outputs": [],
   "source": [
    "import matplotlib.pyplot as plt\n",
    "import numpy as np\n",
    "import random\n",
    "import scipy.stats"
   ]
  },
  {
   "cell_type": "markdown",
   "id": "6afc1bf2",
   "metadata": {},
   "source": [
    "### Generate the data"
   ]
  },
  {
   "cell_type": "code",
   "execution_count": 9,
   "id": "07335722",
   "metadata": {},
   "outputs": [],
   "source": [
    "def generate_data(theta=1, n=50):\n",
    "    return scipy.stats.uniform(scale=theta).rvs(size=n)"
   ]
  },
  {
   "cell_type": "markdown",
   "id": "8cd6e1d2",
   "metadata": {},
   "source": [
    "### The estimator"
   ]
  },
  {
   "cell_type": "code",
   "execution_count": 20,
   "id": "a03add4c",
   "metadata": {},
   "outputs": [],
   "source": [
    "def estimator(data):\n",
    "    return max(data)"
   ]
  },
  {
   "cell_type": "markdown",
   "id": "170c0ef9",
   "metadata": {},
   "source": [
    "### Bootstrap replications"
   ]
  },
  {
   "cell_type": "code",
   "execution_count": 56,
   "id": "a2714509",
   "metadata": {},
   "outputs": [],
   "source": [
    "def bootstrap_resample(data):\n",
    "    return random.choices(population=data, k=len(data))\n",
    "\n",
    "def bootstrap_replications(data=generate_data(), estimator=estimator, B=1000):\n",
    "    return [estimator(bootstrap_resample(data)) for _ in range(B)]"
   ]
  },
  {
   "cell_type": "markdown",
   "id": "672a9d5a",
   "metadata": {},
   "source": [
    "### Compare the bootstrap distribution with the true distribution of the estimator"
   ]
  },
  {
   "cell_type": "markdown",
   "id": "81e5245e",
   "metadata": {},
   "source": [
    "The true PDF of the estimator"
   ]
  },
  {
   "cell_type": "code",
   "execution_count": 112,
   "id": "1b461de8",
   "metadata": {},
   "outputs": [],
   "source": [
    "def f(x, n=50):\n",
    "    if 0 < x < 1:\n",
    "        return n*(x**(n-1))"
   ]
  },
  {
   "cell_type": "code",
   "execution_count": 133,
   "id": "9c85333a",
   "metadata": {},
   "outputs": [
    {
     "data": {
      "image/png": "[encoded data removed]",
      "text/plain": [
       "<Figure size 640x480 with 1 Axes>"
      ]
     },
     "metadata": {},
     "output_type": "display_data"
    }
   ],
   "source": [
    "trials = 500\n",
    "\n",
    "# Focuses the graphs on the meaningful region where x > lower_x_cutoff\n",
    "lower_x_cutoff = 0.8\n",
    "\n",
    "# Do we want to show the sampled distribution as well?\n",
    "show_sample_distribution = True\n",
    "\n",
    "# Generate the bootstrap data\n",
    "replicated_data = np.array(bootstrap_replications())\n",
    "\n",
    "# Plot the bootstrap data\n",
    "plt.hist(replicated_data, alpha=0.5, density=True, label='replicated data')\n",
    "\n",
    "# If desired, plot the sampled distribution\n",
    "if show_sample_distribution:\n",
    "    sampled_data = [estimator(generate_data()) for _ in range(trials)]\n",
    "    plt.hist(sampled_data, alpha=0.5, density=True, label='sampled data')\n",
    "    \n",
    "# Plot the true distribution\n",
    "x = np.linspace(start=lower_x_cutoff, stop=1, num=50)\n",
    "y = [f(xi) for xi in x]\n",
    "plt.plot(x, y, label='true distribution')\n",
    "\n",
    "# Plot legend and axes\n",
    "plt.legend(loc='upper left')\n",
    "ax = plt.gca()\n",
    "ax.set_xlim((lower_x_cutoff, 1))\n",
    "ax.get_yaxis().set_visible(False)\n",
    "plt.show()"
   ]
  }
 ],
 "metadata": {
  "kernelspec": {
   "display_name": "venv",
   "language": "python",
   "name": "venv"
  },
  "language_info": {
   "codemirror_mode": {
    "name": "ipython",
    "version": 3
   },
   "file_extension": ".py",
   "mimetype": "text/x-python",
   "name": "python",
   "nbconvert_exporter": "python",
   "pygments_lexer": "ipython3",
   "version": "3.12.3"
  }
 },
 "nbformat": 4,
 "nbformat_minor": 5
}
