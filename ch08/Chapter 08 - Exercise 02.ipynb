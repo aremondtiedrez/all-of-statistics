{
 "cells": [
  {
   "cell_type": "code",
   "execution_count": 2,
   "id": "902d96c6",
   "metadata": {},
   "outputs": [],
   "source": [
    "import numpy as np\n",
    "import random\n",
    "import scipy.stats"
   ]
  },
  {
   "cell_type": "code",
   "execution_count": 3,
   "id": "8529cccd",
   "metadata": {},
   "outputs": [
    {
     "data": {
      "text/plain": [
       "6.184877138632554"
      ]
     },
     "execution_count": 3,
     "metadata": {},
     "output_type": "execute_result"
    }
   ],
   "source": [
    "(2 + np.e)*np.sqrt(np.e-1)"
   ]
  },
  {
   "cell_type": "markdown",
   "id": "7ade6bd0",
   "metadata": {},
   "source": [
    "### Generating the data"
   ]
  },
  {
   "cell_type": "code",
   "execution_count": 4,
   "id": "86db0041",
   "metadata": {},
   "outputs": [],
   "source": [
    "def generate_data(n=50):\n",
    "    \n",
    "    y = scipy.stats.norm.rvs(size=n)\n",
    "    x = np.exp(y)\n",
    "    \n",
    "    return x"
   ]
  },
  {
   "cell_type": "markdown",
   "id": "1c87e8fc",
   "metadata": {},
   "source": [
    "### Plug-in estimator for the skewness"
   ]
  },
  {
   "cell_type": "code",
   "execution_count": 5,
   "id": "2bd8f640",
   "metadata": {},
   "outputs": [],
   "source": [
    "def skewness_estimator(data):\n",
    "    return(scipy.stats.skew(data))"
   ]
  },
  {
   "cell_type": "code",
   "execution_count": 9,
   "id": "45a34e9b",
   "metadata": {},
   "outputs": [
    {
     "name": "stdout",
     "output_type": "stream",
     "text": [
      "The estimate for the skewness is 6.25.\n",
      "The true value of the skewness is 6.18.\n"
     ]
    }
   ],
   "source": [
    "estimate = skewness_estimator(generate_data(n=int(5e5)))\n",
    "true_skewness = (2 + np.e)*np.sqrt(np.e - 1)\n",
    "print(\n",
    "    f\"The estimate for the skewness is {estimate:.2f}.\\n\"\n",
    "    f\"The true value of the skewness is {true_skewness:.2f}.\"\n",
    ")"
   ]
  },
  {
   "cell_type": "markdown",
   "id": "663cc6ba",
   "metadata": {},
   "source": [
    "### Bootstrap estimate of the estimator's standard error"
   ]
  },
  {
   "cell_type": "code",
   "execution_count": 10,
   "id": "6e802ca7",
   "metadata": {},
   "outputs": [],
   "source": [
    "def bootstrap_resample(data):\n",
    "    return random.choices(population=data, k=len(data))\n",
    "\n",
    "def skewness_estimator_replications(data, B=1000):\n",
    "    return [skewness_estimator(bootstrap_resample(data)) for _ in range(B)]\n",
    "\n",
    "def se_boot(data, B):\n",
    "    return np.std(skewness_estimator_replications(data, B))"
   ]
  },
  {
   "cell_type": "code",
   "execution_count": 18,
   "id": "c90039e0",
   "metadata": {},
   "outputs": [
    {
     "name": "stdout",
     "output_type": "stream",
     "text": [
      "The estimate for the skewness is 2.45.\n",
      "(The true value of the skewness is 6.18.)\n",
      "\n",
      "The bootstrap standard error estimate is 0.54.\n"
     ]
    }
   ],
   "source": [
    "data = generate_data(n=50)\n",
    "estimate = skewness_estimator(data=data)\n",
    "se_boot_estimate = se_boot(data=data, B=100)\n",
    "\n",
    "print(\n",
    "    f\"The estimate for the skewness is {estimate:.2f}.\\n\"\n",
    "    f\"(The true value of the skewness is {true_skewness:.2f}.)\\n\\n\"\n",
    "    f\"The bootstrap standard error estimate is {se_boot_estimate:.2f}.\"\n",
    ")\n",
    "    "
   ]
  },
  {
   "cell_type": "markdown",
   "id": "adde8e07",
   "metadata": {},
   "source": [
    "### Bootstrap confidence intervals"
   ]
  },
  {
   "cell_type": "markdown",
   "id": "bc8fb1b1",
   "metadata": {},
   "source": [
    "#### Normal interval"
   ]
  },
  {
   "cell_type": "code",
   "execution_count": 22,
   "id": "434df050",
   "metadata": {},
   "outputs": [
    {
     "name": "stdout",
     "output_type": "stream",
     "text": [
      "A 95% bootstrap Normal confidence interval for the skewness is as follows: (1.948, 5.963)\n"
     ]
    }
   ],
   "source": [
    "alpha = 0.05\n",
    "n = 50\n",
    "B = 100\n",
    "\n",
    "z = scipy.stats.norm.isf(alpha/2)\n",
    "\n",
    "data = generate_data(n=n)\n",
    "skewness_estimate = skewness_estimator(data=data)\n",
    "\n",
    "se_boot_estimate = se_boot(data, B=B)\n",
    "\n",
    "lower_bound = skewness_estimate - z*se_boot(data, B=B)\n",
    "upper_bound = skewness_estimate + z*se_boot(data, B=B)\n",
    "\n",
    "print(\n",
    "    \"A 95% bootstrap Normal confidence interval for the skewness is as follows: \"\n",
    "    f\"({lower_bound:.3f}, {upper_bound:.3f})\"\n",
    ")"
   ]
  },
  {
   "cell_type": "markdown",
   "id": "aaa57ccb",
   "metadata": {},
   "source": [
    "#### Pivotal interval"
   ]
  },
  {
   "cell_type": "code",
   "execution_count": 23,
   "id": "b168cdc0",
   "metadata": {},
   "outputs": [
    {
     "name": "stdout",
     "output_type": "stream",
     "text": [
      "A 95% bootstrap pivotal confidence interval for the skewness is as follows: (0.629, 1.763)\n"
     ]
    }
   ],
   "source": [
    "alpha = 0.05\n",
    "n = 50\n",
    "B = 100\n",
    "\n",
    "data = generate_data(n=n)\n",
    "skewness_estimate = skewness_estimator(data=data)\n",
    "\n",
    "replicated_data = skewness_estimator_replications(data=data, B=B)\n",
    "\n",
    "lower_bound = 2*skewness_estimate - np.quantile(replicated_data, q=1-alpha/2)\n",
    "upper_bound = 2*skewness_estimate - np.quantile(replicated_data, q=alpha/2)\n",
    "\n",
    "print(\n",
    "    \"A 95% bootstrap pivotal confidence interval for the skewness is as follows: \"\n",
    "    f\"({lower_bound:.3f}, {upper_bound:.3f})\"\n",
    ")"
   ]
  },
  {
   "cell_type": "markdown",
   "id": "d498489b",
   "metadata": {},
   "source": [
    "#### Percentile interval"
   ]
  },
  {
   "cell_type": "code",
   "execution_count": 26,
   "id": "6ab9fc23",
   "metadata": {},
   "outputs": [
    {
     "name": "stdout",
     "output_type": "stream",
     "text": [
      "A 95% bootstrap percentile confidence interval for the skewness is as follows: (0.983, 2.437)\n"
     ]
    }
   ],
   "source": [
    "alpha = 0.05\n",
    "n = 50\n",
    "B = 100\n",
    "\n",
    "data = generate_data(n=n)\n",
    "\n",
    "replicated_data = skewness_estimator_replications(data=data, B=B)\n",
    "\n",
    "lower_bound = np.quantile(replicated_data, q=alpha/2)\n",
    "upper_bound = np.quantile(replicated_data, q=1-alpha/2)\n",
    "\n",
    "print(\n",
    "    \"A 95% bootstrap percentile confidence interval for the skewness is as follows: \"\n",
    "    f\"({lower_bound:.3f}, {upper_bound:.3f})\"\n",
    ")"
   ]
  },
  {
   "cell_type": "markdown",
   "id": "621cacff",
   "metadata": {},
   "source": [
    "### Automated production of the confidence intervals"
   ]
  },
  {
   "cell_type": "code",
   "execution_count": 163,
   "id": "1b6cc680",
   "metadata": {},
   "outputs": [],
   "source": [
    "def bootstrap_confidence_intervals(data=generate_data(n=50), B=100, alpha=0.05):\n",
    "    \n",
    "    z = scipy.stats.norm.isf(alpha/2)\n",
    "\n",
    "    skewness_estimate = skewness_estimator(data=data)\n",
    "\n",
    "    replicated_data = skewness_estimator_replications(data=data, B=B)\n",
    "    se_boot_estimate = np.std(replicated_data)\n",
    "\n",
    "    lower_bound_normal = skewness_estimate - z*se_boot_estimate\n",
    "    upper_bound_normal = skewness_estimate + z*se_boot_estimate\n",
    "    \n",
    "    lower_bound_pivotal = 2*skewness_estimate - np.quantile(replicated_data, q=1-alpha/2)\n",
    "    upper_bound_pivotal = 2*skewness_estimate - np.quantile(replicated_data, q=alpha/2)\n",
    "    \n",
    "    lower_bound_percentile = np.quantile(replicated_data, q=alpha/2)\n",
    "    upper_bound_percentile = np.quantile(replicated_data, q=1-alpha/2)\n",
    "    \n",
    "    return {\n",
    "        \"normal\": (lower_bound_normal, upper_bound_normal),\n",
    "        \"pivotal\": (lower_bound_pivotal, upper_bound_pivotal),\n",
    "        \"percentile\": (lower_bound_percentile, upper_bound_percentile)\n",
    "    }"
   ]
  },
  {
   "cell_type": "code",
   "execution_count": 166,
   "id": "43239014",
   "metadata": {},
   "outputs": [
    {
     "name": "stdout",
     "output_type": "stream",
     "text": [
      "95% bootstrap Normal confidence interval for the skewness:    (1.324, 4.465)\n",
      "95% bootstrap pivotal confidence interval for the skewness:   (2.233, 4.772)\n",
      "95% bootstrap percentile confidence interval for the skewness:(1.016, 3.555)\n",
      "\n"
     ]
    }
   ],
   "source": [
    "confidence_intervals = bootstrap_confidence_intervals(data=generate_data(n=50), B=100, alpha=0.05)\n",
    "print(\n",
    "    \"95% bootstrap Normal confidence interval for the skewness:    \"\n",
    "    f\"({confidence_intervals[\"normal\"][0]:.3f}, {confidence_intervals[\"normal\"][1]:.3f})\\n\"\n",
    "    \"95% bootstrap pivotal confidence interval for the skewness:   \"\n",
    "    f\"({confidence_intervals[\"pivotal\"][0]:.3f}, {confidence_intervals[\"pivotal\"][1]:.3f})\\n\"\n",
    "    \"95% bootstrap percentile confidence interval for the skewness:\"\n",
    "    f\"({confidence_intervals[\"percentile\"][0]:.3f}, {confidence_intervals[\"percentile\"][1]:.3f})\\n\"\n",
    ")"
   ]
  },
  {
   "cell_type": "markdown",
   "id": "894147f6",
   "metadata": {},
   "source": [
    "### Empirical estimation of the coverage"
   ]
  },
  {
   "cell_type": "code",
   "execution_count": 167,
   "id": "5f0a083f",
   "metadata": {},
   "outputs": [],
   "source": [
    "trials = 500\n",
    "\n",
    "true_skewness = (2 + np.e)*np.sqrt(np.e - 1)\n",
    "\n",
    "# Auxiliary function used in the many trial run below\n",
    "def in_interval(number, interval):\n",
    "    lower_bound, upper_bound = interval\n",
    "    return lower_bound < number < upper_bound\n",
    "\n",
    "coverage_count = {\n",
    "    \"normal\": 0,\n",
    "    \"pivotal\": 0,\n",
    "    \"percentile\": 0\n",
    "}\n",
    "coverage_estimate = coverage_count\n",
    "\n",
    "# Run the trials, counting every time the true skewness is in each of the bootstrap intervals\n",
    "for _ in range(trials):\n",
    "    confidence_intervals = bootstrap_confidence_intervals(data=generate_data(n=50), B=100, alpha=0.05)\n",
    "    \n",
    "    for method in (\"normal\", \"pivotal\", \"percentile\"):\n",
    "        coverage_count[method] += in_interval(true_skewness, confidence_intervals[method])\n",
    "\n",
    "# Estimate the coverage of each bootstrap interval\n",
    "for method in (\"normal\", \"pivotal\", \"percentile\"):\n",
    "    coverage_estimate[method] = coverage_count[method]/trials"
   ]
  },
  {
   "cell_type": "code",
   "execution_count": 168,
   "id": "611a0214",
   "metadata": {},
   "outputs": [
    {
     "name": "stdout",
     "output_type": "stream",
     "text": [
      "Estimated coverages for all three types of bootstrap confidence intervals.\n",
      "Normal interval: 12%.\n",
      "Pivotal interval: 16%.\n",
      "Percentile interval: 2%.\n",
      "\n"
     ]
    }
   ],
   "source": [
    "print(\n",
    "    \"Estimated coverages for all three types of bootstrap confidence intervals.\\n\"\n",
    "    + \"\".join([\n",
    "        method.capitalize() + f\" interval: {coverage_estimate[method]*100:.0f}%.\\n\"\n",
    "        for method in (\"normal\", \"pivotal\", \"percentile\")\n",
    "    ])\n",
    ")"
   ]
  }
 ],
 "metadata": {
  "kernelspec": {
   "display_name": "Python 3 (ipykernel)",
   "language": "python",
   "name": "python3"
  },
  "language_info": {
   "codemirror_mode": {
    "name": "ipython",
    "version": 3
   },
   "file_extension": ".py",
   "mimetype": "text/x-python",
   "name": "python",
   "nbconvert_exporter": "python",
   "pygments_lexer": "ipython3",
   "version": "3.12.3"
  }
 },
 "nbformat": 4,
 "nbformat_minor": 5
}
