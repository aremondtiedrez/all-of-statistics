{
 "cells": [
  {
   "cell_type": "code",
   "execution_count": 260,
   "id": "3440e02a",
   "metadata": {},
   "outputs": [],
   "source": [
    "import numpy as np\n",
    "import random\n",
    "import scipy.stats"
   ]
  },
  {
   "cell_type": "markdown",
   "id": "92e52d76",
   "metadata": {},
   "source": [
    "Load the data(entered by hand)."
   ]
  },
  {
   "cell_type": "code",
   "execution_count": 261,
   "id": "12ef80c1",
   "metadata": {},
   "outputs": [],
   "source": [
    "data = (\n",
    "    (576, 3.39),\n",
    "    (635, 3.30),\n",
    "    (558, 2.81),\n",
    "    (578, 3.03),\n",
    "    (666, 3.44),\n",
    "    (580, 3.07),\n",
    "    (555, 3.00),\n",
    "    (661, 3.43),\n",
    "    (651, 3.36),\n",
    "    (605, 3.13),\n",
    "    (653, 3.12),\n",
    "    (575, 2.74),\n",
    "    (545, 2.76),\n",
    "    (572, 2.88),\n",
    "    (594, 3.96)\n",
    ")"
   ]
  },
  {
   "cell_type": "markdown",
   "id": "00663869",
   "metadata": {},
   "source": [
    "# Part 1: The correlation coefficient estimate"
   ]
  },
  {
   "cell_type": "markdown",
   "id": "2b302564",
   "metadata": {},
   "source": [
    "Construct the function, which, given data in the form `[(Y1, Z1), (Y2, Z2), ...]`,\n",
    "returns the plug-in correlation coefficient."
   ]
  },
  {
   "cell_type": "code",
   "execution_count": 262,
   "id": "c3e551ea",
   "metadata": {},
   "outputs": [],
   "source": [
    "def plugin_corr_coeff(data):\n",
    "    \n",
    "    # Compute the empirical means.\n",
    "    empirical_mean_y, empirical_mean_z = np.mean(data, 0)\n",
    "    \n",
    "    # Compute the population variances and covariances.\n",
    "    [\n",
    "        [population_variance_y, population_covariance],\n",
    "        [_, population_variance_z]\n",
    "    ] = np.cov(data, rowvar=False, ddof=0)\n",
    "    \n",
    "    # Return the plug-in correlation coefficient.\n",
    "    return population_covariance/np.sqrt(population_variance_y*population_variance_z)"
   ]
  },
  {
   "cell_type": "markdown",
   "id": "39237171",
   "metadata": {},
   "source": [
    "Apply the function to the data at hand to obtain the correlation estimate."
   ]
  },
  {
   "cell_type": "code",
   "execution_count": 279,
   "id": "ee0ba68b",
   "metadata": {},
   "outputs": [
    {
     "name": "stdout",
     "output_type": "stream",
     "text": [
      "The correlation coefficient estimate is 0.546.\n"
     ]
    }
   ],
   "source": [
    "print(f\"The correlation coefficient estimate is {plugin_corr_coeff(data):.3f}.\")"
   ]
  },
  {
   "cell_type": "markdown",
   "id": "7faad5b7",
   "metadata": {},
   "source": [
    "# Part 2: The bootstrap estimate for the standard error"
   ]
  },
  {
   "cell_type": "markdown",
   "id": "8176dace",
   "metadata": {},
   "source": [
    "Given a list of $n$ samples, randomly choose with replacement $n$ of the original samples\n",
    "(which means that duplicates are possible)."
   ]
  },
  {
   "cell_type": "code",
   "execution_count": 264,
   "id": "9039f633",
   "metadata": {},
   "outputs": [],
   "source": [
    "def bootstrap_resample(data):\n",
    "    return random.choices(population=data, k=len(data))"
   ]
  },
  {
   "cell_type": "code",
   "execution_count": null,
   "id": "863d5af5",
   "metadata": {},
   "outputs": [],
   "source": []
  },
  {
   "cell_type": "markdown",
   "id": "308b0320",
   "metadata": {},
   "source": [
    "Given data in the form `[(Y1, Z1), (Y2, Z2), ...]` and\n",
    "given `B` the number of bootstrap replications to perform,\n",
    "returns the plug-in estimate for the correlation coefficient\n",
    "for each replication."
   ]
  },
  {
   "cell_type": "code",
   "execution_count": 295,
   "id": "0a6a6d92",
   "metadata": {},
   "outputs": [],
   "source": [
    "def plugin_corr_coff_replications(data, B):\n",
    "    return [plugin_corr_coeff(bootstrap_resample(data)) for _ in range(B)]"
   ]
  },
  {
   "cell_type": "markdown",
   "id": "528b9764",
   "metadata": {},
   "source": [
    "Given data in the form `[(Y1, Z1), (Y2, Z2), ...]` and\n",
    "given `B` the number of bootstrap replications to perform,\n",
    "returns the bootstrap estimate for the standard error."
   ]
  },
  {
   "cell_type": "code",
   "execution_count": 303,
   "id": "a181f619",
   "metadata": {},
   "outputs": [],
   "source": [
    "def se_boot(data, B):\n",
    "    return np.std(plugin_corr_coff_replications(data, B))"
   ]
  },
  {
   "cell_type": "markdown",
   "id": "635bef73",
   "metadata": {},
   "source": [
    "Compute the standard error estimate after one bootstrap iteration with 1000 replications."
   ]
  },
  {
   "cell_type": "code",
   "execution_count": 302,
   "id": "3fa27ba9",
   "metadata": {},
   "outputs": [
    {
     "name": "stdout",
     "output_type": "stream",
     "text": [
      "The bootstrap estimate for the standard error is 0.200.\n"
     ]
    }
   ],
   "source": [
    "print(f\"The bootstrap estimate for the standard error is {se_boot(data, int(1e3)):.3f}.\")"
   ]
  },
  {
   "cell_type": "markdown",
   "id": "cd03aa22",
   "metadata": {},
   "source": [
    "# Part 3: The confidence intervals"
   ]
  },
  {
   "cell_type": "markdown",
   "id": "8d3bbfd4",
   "metadata": {},
   "source": [
    "## Part 3.1: The Normal interval"
   ]
  },
  {
   "cell_type": "markdown",
   "id": "ebc5e239",
   "metadata": {},
   "source": [
    "Note that we use the *survival function* instead of the inverse CDF of the standard normal distribution.\n",
    "See the first bonus problem for an explanation as to why."
   ]
  },
  {
   "cell_type": "code",
   "execution_count": 359,
   "id": "d15d6129",
   "metadata": {},
   "outputs": [
    {
     "name": "stdout",
     "output_type": "stream",
     "text": [
      "A 95% bootstrap Normal confidence interval for the correlation coefficient is as follows: (0.167, 0.924)\n"
     ]
    }
   ],
   "source": [
    "alpha = 0.05\n",
    "B = int(1e3)\n",
    "\n",
    "z = scipy.stats.norm.isf(alpha/2)\n",
    "\n",
    "lower_bound = plugin_corr_coeff(data) - z*se_boot(data, B=B)\n",
    "upper_bound = plugin_corr_coeff(data) + z*se_boot(data, B=B)\n",
    "\n",
    "print(\n",
    "    \"A 95% bootstrap Normal confidence interval for the correlation coefficient is as follows: \"\n",
    "    f\"({lower_bound:.3f}, {upper_bound:.3f})\"\n",
    ")"
   ]
  },
  {
   "cell_type": "markdown",
   "id": "92ee6e69",
   "metadata": {},
   "source": [
    "## Part 3.1: The pivotal interval"
   ]
  },
  {
   "cell_type": "code",
   "execution_count": 360,
   "id": "cca90ce9",
   "metadata": {},
   "outputs": [
    {
     "name": "stdout",
     "output_type": "stream",
     "text": [
      "A 95% bootstrap pivotal confidence interval for the correlation coefficient is as follows: (0.159, 0.891)\n"
     ]
    }
   ],
   "source": [
    "alpha = 0.05\n",
    "B = int(1e3)\n",
    "\n",
    "corr_coeff_est = plugin_corr_coeff(data)\n",
    "\n",
    "replicated_data = plugin_corr_coff_replications(data, B=B)\n",
    "\n",
    "lower_bound = 2*corr_coeff_est - np.quantile(a=replicated_data, q=1-alpha/2)\n",
    "upper_bound = 2*corr_coeff_est - np.quantile(a=replicated_data, q=alpha/2)\n",
    "\n",
    "print(\n",
    "    \"A 95% bootstrap pivotal confidence interval for the correlation coefficient is as follows: \"\n",
    "    f\"({lower_bound:.3f}, {upper_bound:.3f})\"\n",
    ")"
   ]
  },
  {
   "cell_type": "markdown",
   "id": "cc5f06df",
   "metadata": {},
   "source": [
    "## Part 3.2: The percentile interval"
   ]
  },
  {
   "cell_type": "code",
   "execution_count": 364,
   "id": "eb465c07",
   "metadata": {},
   "outputs": [
    {
     "name": "stdout",
     "output_type": "stream",
     "text": [
      "A 95% bootstrap percentile confidence interval for the correlation coefficient is as follows: (0.175, 0.936)\n"
     ]
    }
   ],
   "source": [
    "alpha = 0.05\n",
    "B = int(1e3)\n",
    "\n",
    "replicated_data = plugin_corr_coff_replications(data, B=B)\n",
    "\n",
    "lower_bound = np.quantile(a=replicated_data, q=alpha/2)\n",
    "upper_bound = np.quantile(a=replicated_data, q=1-alpha/2)\n",
    "\n",
    "print(\n",
    "    \"A 95% bootstrap percentile confidence interval for the correlation coefficient is as follows: \"\n",
    "    f\"({lower_bound:.3f}, {upper_bound:.3f})\"\n",
    ")"
   ]
  }
 ],
 "metadata": {
  "kernelspec": {
   "display_name": "Python 3 (ipykernel)",
   "language": "python",
   "name": "python3"
  },
  "language_info": {
   "codemirror_mode": {
    "name": "ipython",
    "version": 3
   },
   "file_extension": ".py",
   "mimetype": "text/x-python",
   "name": "python",
   "nbconvert_exporter": "python",
   "pygments_lexer": "ipython3",
   "version": "3.12.3"
  }
 },
 "nbformat": 4,
 "nbformat_minor": 5
}
