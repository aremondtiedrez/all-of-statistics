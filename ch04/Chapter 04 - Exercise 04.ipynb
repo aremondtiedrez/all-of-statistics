{
 "cells": [
  {
   "cell_type": "markdown",
   "id": "ea717dc9",
   "metadata": {},
   "source": [
    "#### Problem\n",
    "Let $X_1,\\,\\dots,\\,X_n \\sim \\text{Bernoulli}(p)$.\n",
    "Let $\\alpha > 0$ and define\n",
    "$$\n",
    "    \\varepsilon_n = \\sqrt{\\frac{1}{2n} \\log \\left( \\frac{2}{\\alpha} \\right)}.\n",
    "$$\n",
    "\n",
    "Let $\\hat{p}_n = \\frac{1}{n} \\sum_{i=1}^n X_i$ and\n",
    "define $C_n = \\left( \\hat{p}_n - \\varepsilon_n,\\, \\hat{p}_n + \\varepsilon_n \\right)$.\n",
    "We call $C_n$ a *confidence interval for $p$* since Hoeffding's inequality tells us that\n",
    "\n",
    "$$\n",
    "    \\mathbb{P} \\left( \\text{$C_n$ contains $p$} \\right) \\geqslant 1 - \\alpha.\n",
    "$$\n",
    "\n",
    "Let $\\alpha = 0.05$ and $p = 0.4$.\n",
    "Conduct a simulation study to see how often the interval contains $p$ (called the coverage).\n",
    "Do this for various values of $n$ between $1$ and $10^5$.\n",
    "Plot the coverage versus $n$."
   ]
  },
  {
   "cell_type": "code",
   "execution_count": 33,
   "id": "92b83786",
   "metadata": {},
   "outputs": [],
   "source": [
    "import numpy as np\n",
    "import matplotlib.pyplot as plt\n",
    "\n",
    "from scipy.stats import bernoulli"
   ]
  },
  {
   "cell_type": "code",
   "execution_count": 34,
   "id": "24327fd1",
   "metadata": {},
   "outputs": [],
   "source": [
    "def is_in_confidence_interval(p_hat, p, alpha, n):\n",
    "    epsilon_n = np.sqrt(np.log(2/alpha)/(2*n))\n",
    "    return np.abs(p_hat - p) < epsilon_n\n",
    "\n",
    "def empirical_coverage(p, alpha, trials, n):\n",
    "    X = bernoulli.rvs(p=p, size=n*trials).reshape([trials, n])\n",
    "    p_hat = np.mean(X, axis=1)\n",
    "    return sum(is_in_confidence_interval(p_hat_i, p, alpha, n) for p_hat_i in p_hat) / trials"
   ]
  },
  {
   "cell_type": "code",
   "execution_count": 44,
   "id": "0c01e7bc",
   "metadata": {},
   "outputs": [
    {
     "data": {
      "image/png": "[encoded data removed]",
      "text/plain": [
       "<Figure size 432x288 with 1 Axes>"
      ]
     },
     "metadata": {
      "needs_background": "light"
     },
     "output_type": "display_data"
    }
   ],
   "source": [
    "n_list = np.arange(1, int(1e5), int(5e3))\n",
    "\n",
    "empirical_coverage_list = [\n",
    "    empirical_coverage(p=0.4, alpha=0.05, trials=100, n=n)\n",
    "    for n in n_list\n",
    "]\n",
    "\n",
    "plt.plot(n_list, empirical_coverage_list)\n",
    "plt.show()"
   ]
  },
  {
   "cell_type": "markdown",
   "id": "256695b3",
   "metadata": {},
   "source": [
    "##### Conclusion:\n",
    "The coverage is higher than the theoretically guaranteed coverage (of $0.95$ when $\\alpha=0.05$)."
   ]
  },
  {
   "cell_type": "code",
   "execution_count": null,
   "id": "71ed50a7",
   "metadata": {},
   "outputs": [],
   "source": []
  },
  {
   "cell_type": "code",
   "execution_count": null,
   "id": "95237894",
   "metadata": {},
   "outputs": [],
   "source": []
  },
  {
   "cell_type": "code",
   "execution_count": null,
   "id": "26a1e76d",
   "metadata": {},
   "outputs": [],
   "source": []
  }
 ],
 "metadata": {
  "kernelspec": {
   "display_name": "Python 3 (ipykernel)",
   "language": "python",
   "name": "python3"
  },
  "language_info": {
   "codemirror_mode": {
    "name": "ipython",
    "version": 3
   },
   "file_extension": ".py",
   "mimetype": "text/x-python",
   "name": "python",
   "nbconvert_exporter": "python",
   "pygments_lexer": "ipython3",
   "version": "3.12.3"
  }
 },
 "nbformat": 4,
 "nbformat_minor": 5
}
