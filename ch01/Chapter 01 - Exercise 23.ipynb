{
 "cells": [
  {
   "cell_type": "markdown",
   "id": "256a87fe",
   "metadata": {},
   "source": [
    "Here we will get some experience simulating conditional probabilities.\n",
    "Consider tossing a fair die.\n",
    "Let $A = \\{2,\\,4,\\,6\\}$ and $B = \\{1,\\,2,\\,3,\\,4\\}$.\n",
    "Then, $\\mathbb{P}(A) = 1/2$, $\\mathbb{P}(B) = 2/3$, and $\\mathbb{P}(AB) = 1/3$.\n",
    "Since $\\mathbb{P}(AB) = \\mathbb{P}(A) \\mathbb{P}(B)$, the events $A$ and $B$ are independent.\n",
    "Simulate draws from the sample space and verify that $\\hat{\\mathbb{P}}(AB) = \\hat{P}(A) \\hat{P}(B)$\n",
    "where $\\hat{\\mathbb{P}}(A)$ is the proportion of times $A$ occurred in the simulation\n",
    "and similarly for $\\hat{\\mathbb{P}}(AB)$ and $\\hat{\\mathbb{P}}(B)$.\n",
    "Now find two events $A$ and $B$ that are not independent.\n",
    "Compute $\\hat{\\mathbb{P}}(A)$, $\\hat{\\mathbb{P}}(B)$, and $\\hat{\\mathbb{P}}(AB)$.\n",
    "Compare the calculated values to their theoretical values.\n",
    "Report your results and interpret."
   ]
  },
  {
   "cell_type": "code",
   "execution_count": 151,
   "id": "6fc3c53e",
   "metadata": {},
   "outputs": [],
   "source": [
    "from scipy.stats import randint\n",
    "\n",
    "def report_out(A=set(), B=set(), n=100):\n",
    "\n",
    "    AB = A.intersection(B)\n",
    "    \n",
    "    die_rolls = randint.rvs(1, 6 + 1, size=n)\n",
    "\n",
    "    empirical_prob_A = sum(roll in A for roll in die_rolls)/n\n",
    "    empirical_prob_B = sum(roll in B for roll in die_rolls)/n\n",
    "    empirical_prob_AB = sum(roll in AB for roll in die_rolls)/n\n",
    "\n",
    "    return(\n",
    "        f\"Empirical probability of A: {empirical_prob_A*100:.1f}%.\\n\"\n",
    "        f\"Empirical probability of B: {empirical_prob_B*100:.1f}%.\\n\"\n",
    "        f\"Empirical probability of AB: {empirical_prob_AB*100:.1f}%.\\n\"\n",
    "        f\"The difference in empirical probabilities is: \"\n",
    "        f\"{(empirical_prob_A*empirical_prob_B - empirical_prob_AB)*100:.5f} percentage points.\"\n",
    "    )"
   ]
  },
  {
   "cell_type": "code",
   "execution_count": 193,
   "id": "e359f0ed",
   "metadata": {},
   "outputs": [
    {
     "name": "stdout",
     "output_type": "stream",
     "text": [
      "Empirical probability of A: 50.1%.\n",
      "Empirical probability of B: 66.8%.\n",
      "Empirical probability of AB: 33.4%.\n",
      "The difference in empirical probabilities is: 0.07352 percentage points.\n"
     ]
    }
   ],
   "source": [
    "print(report_out(\n",
    "    A = {2, 4, 6},\n",
    "    B = {1, 2, 3, 4},\n",
    "    n = 10000\n",
    "))"
   ]
  },
  {
   "cell_type": "code",
   "execution_count": 198,
   "id": "accbc74e",
   "metadata": {},
   "outputs": [
    {
     "name": "stdout",
     "output_type": "stream",
     "text": [
      "Empirical probability of A: 50.0%.\n",
      "Empirical probability of B: 50.6%.\n",
      "Empirical probability of AB: 33.3%.\n",
      "The difference in empirical probabilities is: -8.05024 percentage points.\n"
     ]
    }
   ],
   "source": [
    "print(report_out(\n",
    "    A = {2, 3, 4},\n",
    "    B = {1, 2, 3},\n",
    "    n = 10000\n",
    "))"
   ]
  }
 ],
 "metadata": {
  "kernelspec": {
   "display_name": "Python 3 (ipykernel)",
   "language": "python",
   "name": "python3"
  },
  "language_info": {
   "codemirror_mode": {
    "name": "ipython",
    "version": 3
   },
   "file_extension": ".py",
   "mimetype": "text/x-python",
   "name": "python",
   "nbconvert_exporter": "python",
   "pygments_lexer": "ipython3",
   "version": "3.12.3"
  }
 },
 "nbformat": 4,
 "nbformat_minor": 5
}
