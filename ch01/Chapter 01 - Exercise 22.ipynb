{
 "cells": [
  {
   "cell_type": "markdown",
   "id": "2df8e9a0",
   "metadata": {},
   "source": [
    "Suppose we flip a coin $n$ times and let $p$ denote the probability of heads.\n",
    "Let $X$ denote the number of heads.\n",
    "We call $X$ a binomial random variable, which is discussed in the next chapter.\n",
    "Intuition suggests that $X$ will be close to $np$.\n",
    "To see if this is true, we can repeat this experiment many times and average the $X$ values.\n",
    "Carry out a simulation and compare the average of the $X$'s to $np$.\n",
    "Try this for $p = 0.3$ and $n=10$, $n=100$, and $n=1000$."
   ]
  },
  {
   "cell_type": "code",
   "execution_count": 67,
   "id": "345d4967",
   "metadata": {},
   "outputs": [],
   "source": [
    "import numpy as np\n",
    "from scipy.stats import binom as binomial\n",
    "\n",
    "def binomial_experiment_str(n, p, number_of_experiments):\n",
    "\n",
    "    X = binomial.rvs(n, p, size=number_of_experiments)\n",
    "    avg = np.average(X)\n",
    "    percentage_difference = (avg - (n*p))/(n*p)*100\n",
    "    \n",
    "    return (\n",
    "        f\"The experiement is tossing {n} coins with p = {p}.\\n\"\n",
    "        f\"We have carried out the experiment {number_of_experiments} times.\\n\"\n",
    "        f\"The average number of heads is {avg}.\\n\"\n",
    "        f\"This is {percentage_difference:.2f}% away from the expected value.\"\n",
    "    )"
   ]
  },
  {
   "cell_type": "code",
   "execution_count": 80,
   "id": "929f4048",
   "metadata": {},
   "outputs": [
    {
     "name": "stdout",
     "output_type": "stream",
     "text": [
      "The experiement is tossing 10 coins with p = 0.3.\n",
      "We have carried out the experiment 100 times.\n",
      "The average number of heads is 3.21.\n",
      "This is 7.00% away from the expected value.\n"
     ]
    }
   ],
   "source": [
    "print(binomial_experiment_str(n=10, p=0.3, number_of_experiments=100))"
   ]
  },
  {
   "cell_type": "code",
   "execution_count": 81,
   "id": "9317b7a5",
   "metadata": {},
   "outputs": [
    {
     "name": "stdout",
     "output_type": "stream",
     "text": [
      "The experiement is tossing 100 coins with p = 0.3.\n",
      "We have carried out the experiment 100 times.\n",
      "The average number of heads is 31.02.\n",
      "This is 3.40% away from the expected value.\n"
     ]
    }
   ],
   "source": [
    "print(binomial_experiment_str(n=100, p=0.3, number_of_experiments=100))"
   ]
  },
  {
   "cell_type": "code",
   "execution_count": 82,
   "id": "fc28b07c",
   "metadata": {},
   "outputs": [
    {
     "name": "stdout",
     "output_type": "stream",
     "text": [
      "The experiement is tossing 1000 coins with p = 0.3.\n",
      "We have carried out the experiment 100 times.\n",
      "The average number of heads is 298.22.\n",
      "This is -0.59% away from the expected value.\n"
     ]
    }
   ],
   "source": [
    "print(binomial_experiment_str(n=1000, p=0.3, number_of_experiments=100))"
   ]
  }
 ],
 "metadata": {
  "kernelspec": {
   "display_name": "Python 3 (ipykernel)",
   "language": "python",
   "name": "python3"
  },
  "language_info": {
   "codemirror_mode": {
    "name": "ipython",
    "version": 3
   },
   "file_extension": ".py",
   "mimetype": "text/x-python",
   "name": "python",
   "nbconvert_exporter": "python",
   "pygments_lexer": "ipython3",
   "version": "3.12.3"
  }
 },
 "nbformat": 4,
 "nbformat_minor": 5
}
